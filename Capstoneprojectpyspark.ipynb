{
  "nbformat": 4,
  "nbformat_minor": 0,
  "metadata": {
    "colab": {
      "name": "Capstoneprojectpyspark.ipynb",
      "provenance": [],
      "collapsed_sections": [],
      "authorship_tag": "ABX9TyNGJNdh2ZdUwZz10wGT3rtJ",
      "include_colab_link": true
    },
    "kernelspec": {
      "name": "python3",
      "display_name": "Python 3"
    },
    "language_info": {
      "name": "python"
    }
  },
  "cells": [
    {
      "cell_type": "markdown",
      "metadata": {
        "id": "view-in-github",
        "colab_type": "text"
      },
      "source": [
        "<a href=\"https://colab.research.google.com/github/Hritesh-Moitra/Hritesh-Moitra/blob/main/Capstoneprojectpyspark.ipynb\" target=\"_parent\"><img src=\"https://colab.research.google.com/assets/colab-badge.svg\" alt=\"Open In Colab\"/></a>"
      ]
    },
    {
      "cell_type": "code",
      "execution_count": null,
      "metadata": {
        "colab": {
          "base_uri": "https://localhost:8080/"
        },
        "id": "iRGuHIYsIujk",
        "outputId": "85ad58f6-0d9e-4167-d5ec-1c89c7afc650"
      },
      "outputs": [
        {
          "output_type": "stream",
          "name": "stdout",
          "text": [
            "Looking in indexes: https://pypi.org/simple, https://us-python.pkg.dev/colab-wheels/public/simple/\n",
            "Collecting pyspark\n",
            "  Downloading pyspark-3.3.0.tar.gz (281.3 MB)\n",
            "\u001b[K     |████████████████████████████████| 281.3 MB 40 kB/s \n",
            "\u001b[?25hCollecting py4j==0.10.9.5\n",
            "  Downloading py4j-0.10.9.5-py2.py3-none-any.whl (199 kB)\n",
            "\u001b[K     |████████████████████████████████| 199 kB 33.8 MB/s \n",
            "\u001b[?25hBuilding wheels for collected packages: pyspark\n",
            "  Building wheel for pyspark (setup.py) ... \u001b[?25l\u001b[?25hdone\n",
            "  Created wheel for pyspark: filename=pyspark-3.3.0-py2.py3-none-any.whl size=281764026 sha256=fa3ba7a9afc3ebe900ba511b482b7e3039226362ffd1a844ac9d6b5fe882a62b\n",
            "  Stored in directory: /root/.cache/pip/wheels/7a/8e/1b/f73a52650d2e5f337708d9f6a1750d451a7349a867f928b885\n",
            "Successfully built pyspark\n",
            "Installing collected packages: py4j, pyspark\n",
            "Successfully installed py4j-0.10.9.5 pyspark-3.3.0\n"
          ]
        }
      ],
      "source": [
        "pip install pyspark ##installing pyspark"
      ]
    },
    {
      "cell_type": "code",
      "source": [
        "#Initializing PySpark\n",
        "from pyspark import SparkContext, SparkConf\n",
        "from pyspark.sql import SparkSession\n",
        "from pyspark.sql import SQLContext\n",
        "# #Spark Config\n",
        "conf = SparkConf().setAppName(\"sample_app\")\n",
        "sc = SparkContext(conf=conf)\n",
        "spark = SparkSession.builder.appName('Test').getOrCreate()\n",
        "sqlContext = SQLContext(sc)"
      ],
      "metadata": {
        "colab": {
          "base_uri": "https://localhost:8080/"
        },
        "id": "JNkOeGv-JOYO",
        "outputId": "0fe3be75-83cf-456f-fc86-ae0af5f9b5b6"
      },
      "execution_count": null,
      "outputs": [
        {
          "output_type": "stream",
          "name": "stderr",
          "text": [
            "/usr/local/lib/python3.7/dist-packages/pyspark/sql/context.py:114: FutureWarning: Deprecated in 3.0.0. Use SparkSession.builder.getOrCreate() instead.\n",
            "  FutureWarning,\n"
          ]
        }
      ]
    },
    {
      "cell_type": "code",
      "source": [
        "# Write PySpark code to read olympics_data.csv file\n",
        "olymp_data = spark.read.format(\"csv\").option(\"header\",\"true\").option(\"inferSchema\",\"true\").load(\"/content/olympix_data_organized_with_header (1) (1).csv\")\n",
        "olymp_data.show()"
      ],
      "metadata": {
        "colab": {
          "base_uri": "https://localhost:8080/"
        },
        "id": "RWWBeMB5JSlh",
        "outputId": "a784583e-b98f-4149-f10f-c7b924658cfa"
      },
      "execution_count": null,
      "outputs": [
        {
          "output_type": "stream",
          "name": "stdout",
          "text": [
            "+--------------------+---+-------------+----+----------+--------------------+----------+------------+-----------+-----------+\n",
            "|                name|age|      country|year|Date_Given|              sports|gold_medal|silver_medal|brone_medal|total_medal|\n",
            "+--------------------+---+-------------+----+----------+--------------------+----------+------------+-----------+-----------+\n",
            "|      Michael Phelps| 23|United States|2008| 8/24/2008|            Swimming|         8|           0|          0|          8|\n",
            "|      Michael Phelps| 19|United States|2004| 8/29/2004|            Swimming|         6|           0|          2|          8|\n",
            "|      Michael Phelps| 27|United States|2012|08-12-2012|            Swimming|         4|           2|          0|          6|\n",
            "|    Natalie Coughlin| 25|United States|2008| 8/24/2008|            Swimming|         1|           2|          3|          6|\n",
            "|       Aleksey Nemov| 24|       Russia|2000|10-01-2000|          Gymnastics|         2|           1|          3|          6|\n",
            "|       Alicia Coutts| 24|    Australia|2012|08-12-2012|            Swimming|         1|           3|          1|          5|\n",
            "|      Missy Franklin| 17|United States|2012|08-12-2012|            Swimming|         4|           0|          1|          5|\n",
            "|         Ryan Lochte| 27|United States|2012|08-12-2012|            Swimming|         2|           2|          1|          5|\n",
            "|     Allison Schmitt| 22|United States|2012|08-12-2012|            Swimming|         3|           1|          1|          5|\n",
            "|    Natalie Coughlin| 21|United States|2004| 8/29/2004|            Swimming|         2|           2|          1|          5|\n",
            "|          Ian Thorpe| 17|    Australia|2000|10-01-2000|            Swimming|         3|           2|          0|          5|\n",
            "|         Dara Torres| 33|United States|2000|10-01-2000|            Swimming|         2|           0|          3|          5|\n",
            "|       Cindy Klassen| 26|       Canada|2006| 2/26/2006|       Speed Skating|         1|           2|          2|          5|\n",
            "|       Nastia Liukin| 18|United States|2008| 8/24/2008|          Gymnastics|         1|           3|          1|          5|\n",
            "|       Marit Bjørgen| 29|       Norway|2010| 2/28/2010|Cross Country Skiing|         3|           1|          1|          5|\n",
            "|            Sun Yang| 20|        China|2012|08-12-2012|            Swimming|         2|           1|          1|          4|\n",
            "|     Kirsty Coventry| 24|     Zimbabwe|2008| 8/24/2008|            Swimming|         1|           3|          0|          4|\n",
            "|Libby Lenton-Tric...| 23|    Australia|2008| 8/24/2008|            Swimming|         2|           1|          1|          4|\n",
            "|         Ryan Lochte| 24|United States|2008| 8/24/2008|            Swimming|         2|           0|          2|          4|\n",
            "|      Inge de Bruijn| 30|  Netherlands|2004| 8/29/2004|            Swimming|         1|           1|          2|          4|\n",
            "+--------------------+---+-------------+----+----------+--------------------+----------+------------+-----------+-----------+\n",
            "only showing top 20 rows\n",
            "\n"
          ]
        }
      ]
    },
    {
      "cell_type": "code",
      "source": [
        "## Printing the different sports present in the dataset\n",
        "\n",
        "list_of_different_sports=olymp_data.select('sports').distinct() ##selecting the distinct sports present in the dataset.\n",
        "list_of_different_sports.show() ##displaying the result."
      ],
      "metadata": {
        "colab": {
          "base_uri": "https://localhost:8080/"
        },
        "id": "V1gDf_ipLMEs",
        "outputId": "ef1bdbd2-d9d5-4cf0-e11f-09693a5feca4"
      },
      "execution_count": null,
      "outputs": [
        {
          "output_type": "stream",
          "name": "stdout",
          "text": [
            "+--------------------+\n",
            "|              sports|\n",
            "+--------------------+\n",
            "|          Gymnastics|\n",
            "|              Tennis|\n",
            "|              Boxing|\n",
            "|Short-Track Speed...|\n",
            "|          Ice Hockey|\n",
            "|              Rowing|\n",
            "|                Judo|\n",
            "|            Softball|\n",
            "|             Sailing|\n",
            "|            Swimming|\n",
            "|       Alpine Skiing|\n",
            "|          Basketball|\n",
            "|            Handball|\n",
            "| Rhythmic Gymnastics|\n",
            "|            Biathlon|\n",
            "|           Triathlon|\n",
            "|           Badminton|\n",
            "|           Athletics|\n",
            "|      Figure Skating|\n",
            "|    Beach Volleyball|\n",
            "+--------------------+\n",
            "only showing top 20 rows\n",
            "\n"
          ]
        }
      ]
    },
    {
      "cell_type": "code",
      "source": [
        "##showing the total number of medals in each sport\n",
        "\n",
        "total_medals_in_each_sport=olymp_data.groupBy('sports').sum('total_medal')\n",
        "total_medals_in_each_sport=total_medals_in_each_sport.withColumnRenamed('sum(total_medal)','Total Medals')\n",
        "total_medals_in_each_sport.show()"
      ],
      "metadata": {
        "colab": {
          "base_uri": "https://localhost:8080/"
        },
        "id": "lDDzMNt9LYzG",
        "outputId": "fcff2c08-67a5-42eb-90fd-e195fc358c9c"
      },
      "execution_count": null,
      "outputs": [
        {
          "output_type": "stream",
          "name": "stdout",
          "text": [
            "+--------------------+------------+\n",
            "|              sports|Total Medals|\n",
            "+--------------------+------------+\n",
            "|          Gymnastics|         282|\n",
            "|              Tennis|          78|\n",
            "|              Boxing|         188|\n",
            "|Short-Track Speed...|         138|\n",
            "|          Ice Hockey|         384|\n",
            "|              Rowing|         576|\n",
            "|                Judo|         224|\n",
            "|            Softball|         134|\n",
            "|             Sailing|         210|\n",
            "|            Swimming|         765|\n",
            "|       Alpine Skiing|          90|\n",
            "|          Basketball|         287|\n",
            "|            Handball|         351|\n",
            "| Rhythmic Gymnastics|          84|\n",
            "|            Biathlon|         138|\n",
            "|           Triathlon|          24|\n",
            "|           Badminton|          96|\n",
            "|           Athletics|         753|\n",
            "|      Figure Skating|          54|\n",
            "|    Beach Volleyball|          48|\n",
            "+--------------------+------------+\n",
            "only showing top 20 rows\n",
            "\n"
          ]
        }
      ]
    },
    {
      "cell_type": "code",
      "source": [
        "##plotting a graph for total number of medals in each sport.\n",
        "\n",
        "import matplotlib.pyplot as plt\n",
        "res = olymp_data.groupBy(\"sports\").sum('total_medal')\n",
        "res = res.withColumnRenamed(\"sum(total_medal)\",\"Total Medal\")\n",
        "get_Pandas_DF = res.toPandas() # we can use toPandas() for converting pyspark dataframe to Pandas dataframe\n",
        "get_Pandas_DF\n",
        "get_Pandas_DF.plot.bar(x='sports',y='Total Medal')\n",
        "plt.show()"
      ],
      "metadata": {
        "colab": {
          "base_uri": "https://localhost:8080/",
          "height": 403
        },
        "id": "Lb89x0bfN5Db",
        "outputId": "fbccffd3-e9de-469f-fab0-08d009c7d639"
      },
      "execution_count": null,
      "outputs": [
        {
          "output_type": "display_data",
          "data": {
            "text/plain": [
              "<Figure size 432x288 with 1 Axes>"
            ],
            "image/png": "[encoded data removed]"
          },
          "metadata": {
            "needs_background": "light"
          }
        }
      ]
    },
    {
      "cell_type": "code",
      "source": [
        "##Now , sorting the results on the basis of results\n",
        "import pyspark.sql.functions as f ##importing the sql functions from pyspark session.\n",
        "res.orderBy(f.desc(\"Total Medal\")).show() # sorting the res dataframe in descending order on the basis of Total_medals using orderBy function."
      ],
      "metadata": {
        "colab": {
          "base_uri": "https://localhost:8080/"
        },
        "id": "C8HLg3yqkxJ6",
        "outputId": "28a81fa8-faa6-4d8d-ec8e-6bb0708d54b0"
      },
      "execution_count": null,
      "outputs": [
        {
          "output_type": "stream",
          "name": "stdout",
          "text": [
            "+----------+-----------+\n",
            "|    sports|Total Medal|\n",
            "+----------+-----------+\n",
            "|  Swimming|        765|\n",
            "| Athletics|        753|\n",
            "|    Rowing|        576|\n",
            "|  Football|        407|\n",
            "|    Hockey|        388|\n",
            "|Ice Hockey|        384|\n",
            "|  Handball|        351|\n",
            "|  Canoeing|        333|\n",
            "| Waterpolo|        306|\n",
            "|   Cycling|        306|\n",
            "|Basketball|        287|\n",
            "|Gymnastics|        282|\n",
            "|Volleyball|        281|\n",
            "|   Fencing|        256|\n",
            "| Wrestling|        245|\n",
            "|      Judo|        224|\n",
            "|  Baseball|        216|\n",
            "|   Sailing|        210|\n",
            "|  Shooting|        192|\n",
            "|    Boxing|        188|\n",
            "+----------+-----------+\n",
            "only showing top 20 rows\n",
            "\n"
          ]
        }
      ]
    },
    {
      "cell_type": "code",
      "source": [
        "##total number of medals won by each country in swimming.\n",
        "\n",
        "res=olymp_data.select('country','total_medal').where(olymp_data['sports']=='Swimming')\n",
        "res.groupBy('country').sum('total_medal').show()"
      ],
      "metadata": {
        "colab": {
          "base_uri": "https://localhost:8080/"
        },
        "id": "mQhedVUMrtv2",
        "outputId": "cd339a53-9b1a-4ab6-8046-d21efa2366ad"
      },
      "execution_count": null,
      "outputs": [
        {
          "output_type": "stream",
          "name": "stdout",
          "text": [
            "+-------------+----------------+\n",
            "|      country|sum(total_medal)|\n",
            "+-------------+----------------+\n",
            "|       Russia|              20|\n",
            "|       Sweden|               9|\n",
            "|      Germany|              32|\n",
            "|       France|              39|\n",
            "|     Slovakia|               2|\n",
            "|    Argentina|               1|\n",
            "|Great Britain|              11|\n",
            "|United States|             267|\n",
            "|        China|              35|\n",
            "|      Belarus|               2|\n",
            "|      Croatia|               1|\n",
            "|        Italy|              16|\n",
            "|    Lithuania|               1|\n",
            "|       Norway|               2|\n",
            "|        Spain|               3|\n",
            "|      Denmark|               1|\n",
            "|      Ukraine|               7|\n",
            "|  South Korea|               4|\n",
            "|     Zimbabwe|               7|\n",
            "|      Tunisia|               3|\n",
            "+-------------+----------------+\n",
            "only showing top 20 rows\n",
            "\n"
          ]
        }
      ]
    },
    {
      "cell_type": "code",
      "source": [
        "##total number of medals won by each country in skeleton.\n",
        "\n",
        "res=olymp_data.select('country','total_medal').where(olymp_data['sports']=='Skeleton')\n",
        "\n",
        "res.groupBy('country').sum('total_medal').show()"
      ],
      "metadata": {
        "colab": {
          "base_uri": "https://localhost:8080/"
        },
        "id": "VRhY_Z6lOot2",
        "outputId": "b077cc7f-da20-4ff6-a9fc-d655a0b22edc"
      },
      "execution_count": null,
      "outputs": [
        {
          "output_type": "stream",
          "name": "stdout",
          "text": [
            "+-------------+----------------+\n",
            "|      country|sum(total_medal)|\n",
            "+-------------+----------------+\n",
            "|       Russia|               1|\n",
            "|      Germany|               2|\n",
            "|Great Britain|               3|\n",
            "|United States|               3|\n",
            "|  Switzerland|               3|\n",
            "|       Latvia|               1|\n",
            "|       Canada|               4|\n",
            "|      Austria|               1|\n",
            "+-------------+----------------+\n",
            "\n"
          ]
        }
      ]
    },
    {
      "cell_type": "code",
      "source": [
        "##Total number of medals that US won yearly.\n",
        "\n",
        "res=olymp_data.select('year','total_medal').where(olymp_data['country']=='United States')\n",
        "res.groupBy('year').sum('total_medal').show()"
      ],
      "metadata": {
        "colab": {
          "base_uri": "https://localhost:8080/"
        },
        "id": "47UFLRmpSa-E",
        "outputId": "b89e6940-9e58-4fa8-ee76-36604c2edc3a"
      },
      "execution_count": null,
      "outputs": [
        {
          "output_type": "stream",
          "name": "stdout",
          "text": [
            "+----+----------------+\n",
            "|year|sum(total_medal)|\n",
            "+----+----------------+\n",
            "|2006|              52|\n",
            "|2004|             265|\n",
            "|2012|             254|\n",
            "|2000|             243|\n",
            "|2010|              97|\n",
            "|2008|             317|\n",
            "|2002|              84|\n",
            "+----+----------------+\n",
            "\n"
          ]
        }
      ]
    },
    {
      "cell_type": "code",
      "source": [
        "res=olymp_data.groupBy('country').sum('total_medal')\n",
        "res = res.withColumnRenamed(\"sum(total_medal)\",\"Total Medal\")\n",
        "res.show()"
      ],
      "metadata": {
        "colab": {
          "base_uri": "https://localhost:8080/"
        },
        "id": "8TIKE-N9TF6v",
        "outputId": "c028fd4d-9063-4d7f-eeec-71a1476adaea"
      },
      "execution_count": null,
      "outputs": [
        {
          "output_type": "stream",
          "name": "stdout",
          "text": [
            "+--------------+-----------+\n",
            "|       country|Total Medal|\n",
            "+--------------+-----------+\n",
            "|        Russia|        768|\n",
            "|      Paraguay|         17|\n",
            "|Chinese Taipei|         20|\n",
            "|        Sweden|        181|\n",
            "|       Eritrea|          1|\n",
            "|     Singapore|          7|\n",
            "|      Malaysia|          3|\n",
            "|        Turkey|         28|\n",
            "|       Germany|        629|\n",
            "|   Afghanistan|          2|\n",
            "|         Sudan|          1|\n",
            "|        France|        318|\n",
            "|        Greece|         59|\n",
            "|     Sri Lanka|          1|\n",
            "|       Algeria|          8|\n",
            "|          Togo|          1|\n",
            "|      Slovakia|         35|\n",
            "|     Argentina|        141|\n",
            "|       Belgium|         18|\n",
            "| Great Britain|        322|\n",
            "+--------------+-----------+\n",
            "only showing top 20 rows\n",
            "\n"
          ]
        }
      ]
    },
    {
      "cell_type": "code",
      "source": [
        "##finding out the max age of athlete\n",
        "res=olymp_data.agg({\"age\": \"max\"})\n",
        "res.show()"
      ],
      "metadata": {
        "colab": {
          "base_uri": "https://localhost:8080/"
        },
        "id": "dFxnqZ1ZUwHA",
        "outputId": "c3bd69b4-22fe-43cf-ffea-3b2a57503bce"
      },
      "execution_count": null,
      "outputs": [
        {
          "output_type": "stream",
          "name": "stdout",
          "text": [
            "+--------+\n",
            "|max(age)|\n",
            "+--------+\n",
            "|      61|\n",
            "+--------+\n",
            "\n"
          ]
        }
      ]
    },
    {
      "cell_type": "code",
      "source": [
        "##finding out the country and name of the oldest athlete\n",
        "\n",
        "res=olymp_data.select('name','country').where(olymp_data['age']==61)\n",
        "res.show()"
      ],
      "metadata": {
        "colab": {
          "base_uri": "https://localhost:8080/"
        },
        "id": "DhkY4HtEVEaE",
        "outputId": "bca1e12f-e589-4d4f-c45f-bc4583a644f9"
      },
      "execution_count": null,
      "outputs": [
        {
          "output_type": "stream",
          "name": "stdout",
          "text": [
            "+----------+-------+\n",
            "|      name|country|\n",
            "+----------+-------+\n",
            "|Ian Millar| Canada|\n",
            "+----------+-------+\n",
            "\n"
          ]
        }
      ]
    },
    {
      "cell_type": "code",
      "source": [
        ""
      ],
      "metadata": {
        "id": "L2MoIljXcCmA"
      },
      "execution_count": null,
      "outputs": []
    }
  ]
}