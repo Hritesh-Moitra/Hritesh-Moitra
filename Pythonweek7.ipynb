{
  "nbformat": 4,
  "nbformat_minor": 0,
  "metadata": {
    "colab": {
      "name": "Pythonweek7.ipynb",
      "provenance": [],
      "collapsed_sections": [
        "WBYqbPwzMcz_",
        "wfRe9MBlpIy5",
        "PAV0fD8xIQfN",
        "FHOeEISgMqAA"
      ],
      "authorship_tag": "ABX9TyMOgFkhjpyUkubPG2hid+wE",
      "include_colab_link": true
    },
    "kernelspec": {
      "name": "python3",
      "display_name": "Python 3"
    },
    "language_info": {
      "name": "python"
    }
  },
  "cells": [
    {
      "cell_type": "markdown",
      "metadata": {
        "id": "view-in-github",
        "colab_type": "text"
      },
      "source": [
        "<a href=\"https://colab.research.google.com/github/Hritesh-Moitra/Hritesh-Moitra/blob/main/Pythonweek7.ipynb\" target=\"_parent\"><img src=\"https://colab.research.google.com/assets/colab-badge.svg\" alt=\"Open In Colab\"/></a>"
      ]
    },
    {
      "cell_type": "code",
      "execution_count": null,
      "metadata": {
        "colab": {
          "base_uri": "https://localhost:8080/"
        },
        "id": "TdN9y9PiDnjH",
        "outputId": "7c977fe5-6c8a-48cc-c2f6-b260f68a2e5f"
      },
      "outputs": [
        {
          "output_type": "stream",
          "name": "stdout",
          "text": [
            "Hello world\n"
          ]
        }
      ],
      "source": [
        "print(\"Hello world\")"
      ]
    },
    {
      "cell_type": "code",
      "source": [
        "print(2+4)\n"
      ],
      "metadata": {
        "colab": {
          "base_uri": "https://localhost:8080/"
        },
        "id": "5DlslyAlHWt5",
        "outputId": "a1b08a19-5a7d-4f92-9fc4-d6434f9e6cfa"
      },
      "execution_count": null,
      "outputs": [
        {
          "output_type": "stream",
          "name": "stdout",
          "text": [
            "6\n"
          ]
        }
      ]
    },
    {
      "cell_type": "markdown",
      "source": [
        "###Integer\n"
      ],
      "metadata": {
        "id": "60B73wOQJu8r"
      }
    },
    {
      "cell_type": "code",
      "source": [
        "type(250)"
      ],
      "metadata": {
        "colab": {
          "base_uri": "https://localhost:8080/"
        },
        "id": "DEpOjfxDJeGP",
        "outputId": "76086dff-d704-4fe8-e70e-485d91ef7022"
      },
      "execution_count": null,
      "outputs": [
        {
          "output_type": "execute_result",
          "data": {
            "text/plain": [
              "int"
            ]
          },
          "metadata": {},
          "execution_count": 3
        }
      ]
    },
    {
      "cell_type": "markdown",
      "source": [
        "###float"
      ],
      "metadata": {
        "id": "vNUc4nztJ2Dw"
      }
    },
    {
      "cell_type": "code",
      "source": [
        "7.6\n",
        "4E7\n"
      ],
      "metadata": {
        "colab": {
          "base_uri": "https://localhost:8080/"
        },
        "id": "6G7FnUhJJ599",
        "outputId": "ff4bb442-b29d-4986-b96b-81a71116bc66"
      },
      "execution_count": null,
      "outputs": [
        {
          "output_type": "execute_result",
          "data": {
            "text/plain": [
              "40000000.0"
            ]
          },
          "metadata": {},
          "execution_count": 55
        }
      ]
    },
    {
      "cell_type": "code",
      "source": [
        "type(4E7)"
      ],
      "metadata": {
        "colab": {
          "base_uri": "https://localhost:8080/"
        },
        "id": "aVN13KF6KPfF",
        "outputId": "735c0c02-2fef-477b-deac-4d43f81d9e99"
      },
      "execution_count": null,
      "outputs": [
        {
          "output_type": "execute_result",
          "data": {
            "text/plain": [
              "float"
            ]
          },
          "metadata": {},
          "execution_count": 56
        }
      ]
    },
    {
      "cell_type": "markdown",
      "source": [
        "String ; collection of characters"
      ],
      "metadata": {
        "id": "qy3kHmpOKVUd"
      }
    },
    {
      "cell_type": "code",
      "source": [
        "print(\"python is fun\")\n",
        "type(\"pythin is fun\")"
      ],
      "metadata": {
        "colab": {
          "base_uri": "https://localhost:8080/"
        },
        "id": "FltAguB7KcsF",
        "outputId": "4d14e08e-981f-48f7-a751-c7041330157b"
      },
      "execution_count": null,
      "outputs": [
        {
          "output_type": "stream",
          "name": "stdout",
          "text": [
            "python is fun\n"
          ]
        },
        {
          "output_type": "execute_result",
          "data": {
            "text/plain": [
              "str"
            ]
          },
          "metadata": {},
          "execution_count": 57
        }
      ]
    },
    {
      "cell_type": "code",
      "source": [
        "25\n",
        "\"25\""
      ],
      "metadata": {
        "colab": {
          "base_uri": "https://localhost:8080/",
          "height": 35
        },
        "id": "gOrvTVyeKvoW",
        "outputId": "6cd4e9d9-fcd3-4b76-81ba-6132f852e7f0"
      },
      "execution_count": null,
      "outputs": [
        {
          "output_type": "execute_result",
          "data": {
            "text/plain": [
              "'25'"
            ],
            "application/vnd.google.colaboratory.intrinsic+json": {
              "type": "string"
            }
          },
          "metadata": {},
          "execution_count": 58
        }
      ]
    },
    {
      "cell_type": "code",
      "source": [
        "25+25\n",
        "\"25\" + \"25\" ##a + in string concatinates it."
      ],
      "metadata": {
        "colab": {
          "base_uri": "https://localhost:8080/",
          "height": 35
        },
        "id": "PuOPFhrVK3bm",
        "outputId": "402b888a-24ee-4f21-b270-0906f8f22e75"
      },
      "execution_count": null,
      "outputs": [
        {
          "output_type": "execute_result",
          "data": {
            "text/plain": [
              "'2525'"
            ],
            "application/vnd.google.colaboratory.intrinsic+json": {
              "type": "string"
            }
          },
          "metadata": {},
          "execution_count": 59
        }
      ]
    },
    {
      "cell_type": "markdown",
      "source": [
        "##BOOLEAN"
      ],
      "metadata": {
        "id": "WBYqbPwzMcz_"
      }
    },
    {
      "cell_type": "code",
      "source": [
        "type(True)"
      ],
      "metadata": {
        "colab": {
          "base_uri": "https://localhost:8080/"
        },
        "id": "cNerCgeKLNEF",
        "outputId": "433e10f1-2a40-4f45-8654-21908f80d2e4"
      },
      "execution_count": null,
      "outputs": [
        {
          "output_type": "execute_result",
          "data": {
            "text/plain": [
              "bool"
            ]
          },
          "metadata": {},
          "execution_count": 10
        }
      ]
    },
    {
      "cell_type": "code",
      "source": [
        "type(5.6)"
      ],
      "metadata": {
        "colab": {
          "base_uri": "https://localhost:8080/"
        },
        "id": "7Mqgdm85Mqad",
        "outputId": "9f0e754c-c0cd-4c40-eaa3-92af879cadd9"
      },
      "execution_count": null,
      "outputs": [
        {
          "output_type": "execute_result",
          "data": {
            "text/plain": [
              "float"
            ]
          },
          "metadata": {},
          "execution_count": 11
        }
      ]
    },
    {
      "cell_type": "code",
      "source": [
        "type(\"hello\")"
      ],
      "metadata": {
        "colab": {
          "base_uri": "https://localhost:8080/"
        },
        "id": "JJCzw3WeMwXg",
        "outputId": "48d8a40b-9d9f-4fba-cd4c-b9ac97768c29"
      },
      "execution_count": null,
      "outputs": [
        {
          "output_type": "execute_result",
          "data": {
            "text/plain": [
              "str"
            ]
          },
          "metadata": {},
          "execution_count": 12
        }
      ]
    },
    {
      "cell_type": "code",
      "source": [
        "a=10\n",
        "print(a)\n",
        "type(a) ##because a is the variable"
      ],
      "metadata": {
        "colab": {
          "base_uri": "https://localhost:8080/"
        },
        "id": "VlTaMJBmOMpJ",
        "outputId": "e9209fcb-b513-4c1c-d1d1-89c0bc413ea0"
      },
      "execution_count": null,
      "outputs": [
        {
          "output_type": "stream",
          "name": "stdout",
          "text": [
            "10\n"
          ]
        },
        {
          "output_type": "execute_result",
          "data": {
            "text/plain": [
              "int"
            ]
          },
          "metadata": {},
          "execution_count": 13
        }
      ]
    },
    {
      "cell_type": "code",
      "source": [
        "num_num1=50\n",
        "print(num_num1)\n",
        "print(type(num_num1))\n"
      ],
      "metadata": {
        "colab": {
          "base_uri": "https://localhost:8080/"
        },
        "id": "CD5Hr9OKP9Ly",
        "outputId": "7bd66885-eb9a-4d4b-b19e-36e1843437c7"
      },
      "execution_count": null,
      "outputs": [
        {
          "output_type": "stream",
          "name": "stdout",
          "text": [
            "50\n",
            "<class 'int'>\n"
          ]
        }
      ]
    },
    {
      "cell_type": "code",
      "source": [
        "num_num2=\"abc\"\n",
        "print(num_num1)\n",
        "print(type(num_num2))  ##class is a keyword."
      ],
      "metadata": {
        "colab": {
          "base_uri": "https://localhost:8080/"
        },
        "id": "-MvQRDJAQTRT",
        "outputId": "0f6c5fbc-9813-408c-cf4e-5ff13a1a602d"
      },
      "execution_count": null,
      "outputs": [
        {
          "output_type": "stream",
          "name": "stdout",
          "text": [
            "50\n",
            "<class 'str'>\n"
          ]
        }
      ]
    },
    {
      "cell_type": "markdown",
      "source": [
        "##keywords; reserved words we cannot use"
      ],
      "metadata": {
        "id": "LzFYYf8PRAts"
      }
    },
    {
      "cell_type": "code",
      "source": [
        "import keyword #importing keyword library\n",
        "print(keyword.kwlist) #Printing the keywords"
      ],
      "metadata": {
        "colab": {
          "base_uri": "https://localhost:8080/"
        },
        "id": "air1frcDRHAk",
        "outputId": "414a3053-b761-4ac6-ec48-efbded47f997"
      },
      "execution_count": null,
      "outputs": [
        {
          "output_type": "stream",
          "name": "stdout",
          "text": [
            "['False', 'None', 'True', 'and', 'as', 'assert', 'async', 'await', 'break', 'class', 'continue', 'def', 'del', 'elif', 'else', 'except', 'finally', 'for', 'from', 'global', 'if', 'import', 'in', 'is', 'lambda', 'nonlocal', 'not', 'or', 'pass', 'raise', 'return', 'try', 'while', 'with', 'yield']\n"
          ]
        }
      ]
    },
    {
      "cell_type": "code",
      "source": [
        "a=\"hello\"\n",
        "a=\"hi\"\n",
        "print(a) ## hi will be the output because hello has been updated by hi"
      ],
      "metadata": {
        "colab": {
          "base_uri": "https://localhost:8080/"
        },
        "id": "2yJYPg0xT0MQ",
        "outputId": "137603f8-1f80-48fc-f491-e173696d4017"
      },
      "execution_count": null,
      "outputs": [
        {
          "output_type": "stream",
          "name": "stdout",
          "text": [
            "hi\n"
          ]
        }
      ]
    },
    {
      "cell_type": "markdown",
      "source": [
        "Arithemetic operators"
      ],
      "metadata": {
        "id": "UNlcS_TCUIKN"
      }
    },
    {
      "cell_type": "code",
      "source": [
        "26+1"
      ],
      "metadata": {
        "colab": {
          "base_uri": "https://localhost:8080/"
        },
        "id": "Ieu_rL1lUOcW",
        "outputId": "27f0ca67-1d38-43af-b6c7-31c3d4d46b15"
      },
      "execution_count": null,
      "outputs": [
        {
          "output_type": "execute_result",
          "data": {
            "text/plain": [
              "27"
            ]
          },
          "metadata": {},
          "execution_count": 21
        }
      ]
    },
    {
      "cell_type": "code",
      "source": [
        "26-1"
      ],
      "metadata": {
        "colab": {
          "base_uri": "https://localhost:8080/"
        },
        "id": "uoX9cQ6NUTGn",
        "outputId": "959bccdb-7b4d-423c-8582-c6ce88ce054d"
      },
      "execution_count": null,
      "outputs": [
        {
          "output_type": "execute_result",
          "data": {
            "text/plain": [
              "25"
            ]
          },
          "metadata": {},
          "execution_count": 22
        }
      ]
    },
    {
      "cell_type": "code",
      "source": [
        "3/2"
      ],
      "metadata": {
        "colab": {
          "base_uri": "https://localhost:8080/"
        },
        "id": "xG-w5RT6UVi5",
        "outputId": "18041d94-e8b8-4af1-d0c5-f81de2f3bd39"
      },
      "execution_count": null,
      "outputs": [
        {
          "output_type": "execute_result",
          "data": {
            "text/plain": [
              "1.5"
            ]
          },
          "metadata": {},
          "execution_count": 23
        }
      ]
    },
    {
      "cell_type": "code",
      "source": [
        "3//2  ##//--> acts as floor division and gives whole numbers "
      ],
      "metadata": {
        "colab": {
          "base_uri": "https://localhost:8080/"
        },
        "id": "r5g0-2tCUc4x",
        "outputId": "8dac957f-a27d-4f85-8e28-d41f9c405593"
      },
      "execution_count": null,
      "outputs": [
        {
          "output_type": "execute_result",
          "data": {
            "text/plain": [
              "1"
            ]
          },
          "metadata": {},
          "execution_count": 24
        }
      ]
    },
    {
      "cell_type": "code",
      "source": [
        "17%3 ##%--> gives the remainder"
      ],
      "metadata": {
        "colab": {
          "base_uri": "https://localhost:8080/"
        },
        "id": "p1VM5-dGUsOG",
        "outputId": "f3b45517-893e-45d3-cee8-9bce7c970fe1"
      },
      "execution_count": null,
      "outputs": [
        {
          "output_type": "execute_result",
          "data": {
            "text/plain": [
              "2"
            ]
          },
          "metadata": {},
          "execution_count": 26
        }
      ]
    },
    {
      "cell_type": "code",
      "source": [
        "num1=5\n",
        "res= num1 ** 2  ## **--> is for exponent.\n",
        "print(res)\n"
      ],
      "metadata": {
        "colab": {
          "base_uri": "https://localhost:8080/"
        },
        "id": "SsIweXe5ZCiK",
        "outputId": "ab3589bb-d749-4f80-ac00-85830d5d5a74"
      },
      "execution_count": null,
      "outputs": [
        {
          "output_type": "stream",
          "name": "stdout",
          "text": [
            "25\n"
          ]
        }
      ]
    },
    {
      "cell_type": "markdown",
      "source": [
        "Type conversion"
      ],
      "metadata": {
        "id": "SSqWIiD3aYuT"
      }
    },
    {
      "cell_type": "code",
      "source": [
        "num1=4\n",
        "num2=\"Hello\"\n",
        "res= str(num1)+ num2 ##we are using str so convert int value to string so that the result is error free and concatinated.\n",
        "print(res)"
      ],
      "metadata": {
        "colab": {
          "base_uri": "https://localhost:8080/"
        },
        "id": "k28QuVsCZZAT",
        "outputId": "640fc39a-8973-40e0-db81-06eff6b5ec65"
      },
      "execution_count": null,
      "outputs": [
        {
          "output_type": "stream",
          "name": "stdout",
          "text": [
            "4Hello\n"
          ]
        }
      ]
    },
    {
      "cell_type": "markdown",
      "source": [
        "Implicit type cnversion; in implicit conversion python automatically converts one data type to another data type. Python avoids loss of data in implicit type conversion\n"
      ],
      "metadata": {
        "id": "GJmVC6MlafCK"
      }
    },
    {
      "cell_type": "code",
      "source": [
        "num_int=123\n",
        "num_flo=1.23\n",
        "num_new= num_int + num_flo\n",
        "print(num_new)\n",
        "type(num_new)"
      ],
      "metadata": {
        "colab": {
          "base_uri": "https://localhost:8080/"
        },
        "id": "okoWgJNPal2p",
        "outputId": "43765dab-0cdd-494b-bac9-ed26dc6de638"
      },
      "execution_count": null,
      "outputs": [
        {
          "output_type": "stream",
          "name": "stdout",
          "text": [
            "124.23\n"
          ]
        },
        {
          "output_type": "execute_result",
          "data": {
            "text/plain": [
              "float"
            ]
          },
          "metadata": {},
          "execution_count": 30
        }
      ]
    },
    {
      "cell_type": "code",
      "source": [
        ""
      ],
      "metadata": {
        "colab": {
          "base_uri": "https://localhost:8080/"
        },
        "id": "AydZQ6dAc9_E",
        "outputId": "662efaff-00a6-4bee-d1d5-a532cb768526"
      },
      "execution_count": null,
      "outputs": [
        {
          "output_type": "stream",
          "name": "stdout",
          "text": [
            "123423\n"
          ]
        }
      ]
    },
    {
      "cell_type": "markdown",
      "source": [
        "Explicit conversion also called type casting ;if both the data types are different one has to be converted to anotherusing predefined functions by the user."
      ],
      "metadata": {
        "id": "U2PJbh87fPGu"
      }
    },
    {
      "cell_type": "code",
      "source": [
        "num_int=123\n",
        "num_str=\"423\"\n",
        "num_new= str(num_int) + num_str\n",
        "print(num_new)"
      ],
      "metadata": {
        "colab": {
          "base_uri": "https://localhost:8080/"
        },
        "id": "25vKTPTC_gcI",
        "outputId": "87a0189c-5e11-44d8-ac42-40092c6c816d"
      },
      "execution_count": null,
      "outputs": [
        {
          "output_type": "stream",
          "name": "stdout",
          "text": [
            "123423\n"
          ]
        }
      ]
    },
    {
      "cell_type": "code",
      "source": [
        "create_str=\"456\"\n",
        "int(create_str)\n",
        "type(create_str)\n",
        "create_str=456\n",
        "type(create_str)\n"
      ],
      "metadata": {
        "colab": {
          "base_uri": "https://localhost:8080/"
        },
        "id": "rlcXoMRCfTQV",
        "outputId": "26401f4f-7094-481d-e0ed-698e0872287c"
      },
      "execution_count": null,
      "outputs": [
        {
          "output_type": "execute_result",
          "data": {
            "text/plain": [
              "int"
            ]
          },
          "metadata": {},
          "execution_count": 36
        }
      ]
    },
    {
      "cell_type": "code",
      "source": [
        "res=5+5*6-7+(2*7)/8+9*(5**2)\n",
        "print(res)"
      ],
      "metadata": {
        "colab": {
          "base_uri": "https://localhost:8080/"
        },
        "id": "zKTS0m0hloii",
        "outputId": "f8a74a43-c38e-4314-d563-30110c376cb0"
      },
      "execution_count": null,
      "outputs": [
        {
          "output_type": "stream",
          "name": "stdout",
          "text": [
            "254.75\n"
          ]
        }
      ]
    },
    {
      "cell_type": "code",
      "source": [
        "num1=10\n",
        "num2=20\n",
        "res = num1<num2\n",
        "print(res)"
      ],
      "metadata": {
        "colab": {
          "base_uri": "https://localhost:8080/"
        },
        "id": "VCHGPavKm8ly",
        "outputId": "42b9f27d-144c-4ffb-e4be-b7304f292d26"
      },
      "execution_count": null,
      "outputs": [
        {
          "output_type": "stream",
          "name": "stdout",
          "text": [
            "True\n"
          ]
        }
      ]
    },
    {
      "cell_type": "code",
      "source": [
        "num1=10\n",
        "num2=10\n",
        "res = num1==num2  #== is used to check whether both are equal or not\n",
        "print(res)"
      ],
      "metadata": {
        "colab": {
          "base_uri": "https://localhost:8080/"
        },
        "id": "9m8m3yobnX1T",
        "outputId": "a59047af-3ea5-4e2b-c11c-c4b9dc47b667"
      },
      "execution_count": null,
      "outputs": [
        {
          "output_type": "stream",
          "name": "stdout",
          "text": [
            "True\n"
          ]
        }
      ]
    },
    {
      "cell_type": "code",
      "source": [
        "num1=10\n",
        "num2=10\n",
        "res = num1!=num2  #== is used to check whether both are equal or not\n",
        "print(res)"
      ],
      "metadata": {
        "colab": {
          "base_uri": "https://localhost:8080/"
        },
        "id": "IFwsFjXwnqDo",
        "outputId": "368b79ca-d88a-40ce-83cf-1651b2aa15f2"
      },
      "execution_count": null,
      "outputs": [
        {
          "output_type": "stream",
          "name": "stdout",
          "text": [
            "False\n"
          ]
        }
      ]
    },
    {
      "cell_type": "code",
      "source": [
        "'''<\n",
        "<=\n",
        ">\n",
        ">=\n",
        "==\n",
        "!='''  ##comparators operators givinf them in ''' quotes make sit a comment"
      ],
      "metadata": {
        "id": "j9Bt1s4PobZg"
      },
      "execution_count": null,
      "outputs": []
    },
    {
      "cell_type": "code",
      "source": [
        "a=b=c=10\n",
        "print(a,b,c)"
      ],
      "metadata": {
        "colab": {
          "base_uri": "https://localhost:8080/"
        },
        "id": "DkMPteFros1F",
        "outputId": "2624b39b-2fde-4808-f68e-d81a5b31b290"
      },
      "execution_count": null,
      "outputs": [
        {
          "output_type": "stream",
          "name": "stdout",
          "text": [
            "10 10 10\n"
          ]
        }
      ]
    },
    {
      "cell_type": "code",
      "source": [
        "x,y,z=10,20,30\n",
        "print(x,y,z)"
      ],
      "metadata": {
        "colab": {
          "base_uri": "https://localhost:8080/"
        },
        "id": "eLeOJQ5Yo-7q",
        "outputId": "543be5c7-7a4b-4b5e-acf6-f81d6b07af0c"
      },
      "execution_count": null,
      "outputs": [
        {
          "output_type": "stream",
          "name": "stdout",
          "text": [
            "10 20 30\n"
          ]
        }
      ]
    },
    {
      "cell_type": "markdown",
      "source": [
        "##Multiline"
      ],
      "metadata": {
        "id": "wfRe9MBlpIy5"
      }
    },
    {
      "cell_type": "code",
      "source": [
        "multiline=\"\"\"sandeep \n",
        "is \n",
        "teaching \n",
        "python\n",
        "\"\"\"   #another way of commenting is putting text in triple double quotes\n",
        "print(multiline)\n"
      ],
      "metadata": {
        "colab": {
          "base_uri": "https://localhost:8080/"
        },
        "id": "WcfsaywkpLAC",
        "outputId": "701413a3-3ff9-402c-ea09-e869eead7a6f"
      },
      "execution_count": null,
      "outputs": [
        {
          "output_type": "stream",
          "name": "stdout",
          "text": [
            "sandeep \n",
            "is \n",
            "teaching \n",
            "python\n",
            "\n"
          ]
        }
      ]
    },
    {
      "cell_type": "code",
      "source": [
        "# qstn --> you have to declare five integer variable assign some value and print their sum and average\n",
        "\n",
        "a={1,2,3,4,5}\n",
        "print(sum(a))\n",
        "avg= sum(a)/5\n",
        "print(avg)\n",
        "\n",
        "\n",
        "\n"
      ],
      "metadata": {
        "colab": {
          "base_uri": "https://localhost:8080/"
        },
        "id": "LSeTcrU1prxr",
        "outputId": "016d6053-44a8-431b-8dd6-9c955e7e3e09"
      },
      "execution_count": null,
      "outputs": [
        {
          "output_type": "stream",
          "name": "stdout",
          "text": [
            "15\n",
            "3.0\n"
          ]
        }
      ]
    },
    {
      "cell_type": "code",
      "source": [
        "num1=1\n",
        "num2=2\n",
        "num3=3\n",
        "num4=4\n",
        "num5=5\n",
        "test_sum=(num1+num2+num3+num4+num5)\n",
        "test_avg=test_sum/5\n",
        "print(test_sum)\n",
        "print(test_avg)\n"
      ],
      "metadata": {
        "colab": {
          "base_uri": "https://localhost:8080/"
        },
        "id": "uTnjp8gNrOyc",
        "outputId": "4286e0be-751d-4997-87a9-899f3e996f7c"
      },
      "execution_count": null,
      "outputs": [
        {
          "output_type": "stream",
          "name": "stdout",
          "text": [
            "15\n",
            "3.0\n"
          ]
        }
      ]
    },
    {
      "cell_type": "markdown",
      "source": [
        "Index"
      ],
      "metadata": {
        "id": "3hYQyXH9DIhQ"
      }
    },
    {
      "cell_type": "code",
      "source": [
        "Day='Saturday'\n",
        "Day[2]"
      ],
      "metadata": {
        "colab": {
          "base_uri": "https://localhost:8080/",
          "height": 35
        },
        "id": "tfsiUMyrEHvD",
        "outputId": "140ae541-5602-4f8a-bd9d-dbae755d19a3"
      },
      "execution_count": null,
      "outputs": [
        {
          "output_type": "execute_result",
          "data": {
            "text/plain": [
              "'t'"
            ],
            "application/vnd.google.colaboratory.intrinsic+json": {
              "type": "string"
            }
          },
          "metadata": {},
          "execution_count": 3
        }
      ]
    },
    {
      "cell_type": "markdown",
      "source": [
        "Length of string"
      ],
      "metadata": {
        "id": "l_ueVg3RERtq"
      }
    },
    {
      "cell_type": "code",
      "source": [
        "print(len('Saturday'))\n"
      ],
      "metadata": {
        "colab": {
          "base_uri": "https://localhost:8080/"
        },
        "id": "MjGKqBCbEXCV",
        "outputId": "6ff48363-3495-49af-8a8a-bcac91795d12"
      },
      "execution_count": null,
      "outputs": [
        {
          "output_type": "stream",
          "name": "stdout",
          "text": [
            "8\n"
          ]
        }
      ]
    },
    {
      "cell_type": "code",
      "source": [
        "print(len('Saturday, is a busy day for me'))"
      ],
      "metadata": {
        "colab": {
          "base_uri": "https://localhost:8080/"
        },
        "id": "RbObr-BVGZk_",
        "outputId": "bdbad3e2-597a-4314-93bd-d3886abffe3b"
      },
      "execution_count": null,
      "outputs": [
        {
          "output_type": "stream",
          "name": "stdout",
          "text": [
            "30\n"
          ]
        }
      ]
    },
    {
      "cell_type": "markdown",
      "source": [
        "List; in list we can store more than one data, it also stores values in indexes"
      ],
      "metadata": {
        "id": "Dlh0YEsGHfJ3"
      }
    },
    {
      "cell_type": "code",
      "source": [
        "a=['hello','hi', 5 , 4, 2]\n",
        "a[2]"
      ],
      "metadata": {
        "colab": {
          "base_uri": "https://localhost:8080/"
        },
        "id": "SXeLIa9GHl4d",
        "outputId": "83a3ccd1-558b-4fb2-c051-b621547f621b"
      },
      "execution_count": null,
      "outputs": [
        {
          "output_type": "execute_result",
          "data": {
            "text/plain": [
              "5"
            ]
          },
          "metadata": {},
          "execution_count": 6
        }
      ]
    },
    {
      "cell_type": "markdown",
      "source": [
        "##Split function"
      ],
      "metadata": {
        "id": "PAV0fD8xIQfN"
      }
    },
    {
      "cell_type": "code",
      "source": [
        "str1='today is saturday and we are in python class'\n",
        "res=str1.split()  ##this will convert the string into a list\n",
        "print(res)      "
      ],
      "metadata": {
        "colab": {
          "base_uri": "https://localhost:8080/"
        },
        "id": "YwmnKhv9IJPK",
        "outputId": "02bad8e2-15b3-45af-e7b4-e5932a5b8648"
      },
      "execution_count": null,
      "outputs": [
        {
          "output_type": "stream",
          "name": "stdout",
          "text": [
            "['today', 'is', 'saturday', 'and', 'we', 'are', 'in', 'python', 'class']\n"
          ]
        }
      ]
    },
    {
      "cell_type": "code",
      "source": [
        "str1='please state your name , and roll number'\n",
        "res=str1.split(' , ') ##this will split the string with comma if there is a comma in the string\n",
        "print(res)"
      ],
      "metadata": {
        "colab": {
          "base_uri": "https://localhost:8080/"
        },
        "id": "C6Z1RajxI6T3",
        "outputId": "a62d3346-8f68-47b3-8c2c-9e820a7a7b36"
      },
      "execution_count": null,
      "outputs": [
        {
          "output_type": "stream",
          "name": "stdout",
          "text": [
            "['please state your name', 'and roll number']\n"
          ]
        }
      ]
    },
    {
      "cell_type": "code",
      "source": [
        "DOB=\"2/04/2022\"\n",
        "res=DOB.split(\"/\")\n",
        "print(res[2])"
      ],
      "metadata": {
        "colab": {
          "base_uri": "https://localhost:8080/"
        },
        "id": "-ZYhp7WXJYpK",
        "outputId": "9888a889-9f98-4959-8928-a36daba9a9fa"
      },
      "execution_count": null,
      "outputs": [
        {
          "output_type": "stream",
          "name": "stdout",
          "text": [
            "2022\n"
          ]
        }
      ]
    },
    {
      "cell_type": "markdown",
      "source": [
        "##Stripping"
      ],
      "metadata": {
        "id": "FHOeEISgMqAA"
      }
    },
    {
      "cell_type": "code",
      "source": [
        "str1=\"        Hello,how,are,you\"\n",
        "res1=str1.lstrip()  ##lstrip; returns a left tri version of the string\n",
        "print(res1)\n",
        "str2 =\"Hello,how,are,you      \"\n",
        "res2=str2.rstrip()  ##rstrip; returns a right trim version of the string\n",
        "print(res2)\n",
        "str3='     I am Hritesh     '\n",
        "res3=str3.strip()  ##strip; returns a trim version of the string\n",
        "print(res3)"
      ],
      "metadata": {
        "colab": {
          "base_uri": "https://localhost:8080/"
        },
        "id": "ta0Qr5j-MuSZ",
        "outputId": "7ea75ae2-668e-44b6-a24e-cdfa4d41a6e4"
      },
      "execution_count": null,
      "outputs": [
        {
          "output_type": "stream",
          "name": "stdout",
          "text": [
            "Hello,how,are,you\n",
            "Hello,how,are,you\n",
            "I am Hritesh\n"
          ]
        }
      ]
    },
    {
      "cell_type": "markdown",
      "source": [
        "##String casing"
      ],
      "metadata": {
        "id": "ucSshn5LQb9F"
      }
    },
    {
      "cell_type": "code",
      "source": [
        "str1='hello how are you'\n",
        "res1= str1.capitalize() ##capitalize()--> converts the first character of the string to upper case\n",
        "print(res1)\n",
        "res2=str1.upper()  ##upper()--> converts the whole string to upper case\n",
        "print(res2)\n",
        "str2='Heelo hoo laa LAA'\n",
        "res3=str2.lower() ##lower()--> converts the whole string to lower case\n",
        "print(res3)"
      ],
      "metadata": {
        "colab": {
          "base_uri": "https://localhost:8080/"
        },
        "id": "bCTIbK0lQeSl",
        "outputId": "fc4fa817-d8de-4c67-a3a7-9eeaf907ee7e"
      },
      "execution_count": null,
      "outputs": [
        {
          "output_type": "stream",
          "name": "stdout",
          "text": [
            "Hello how are you\n",
            "HELLO HOW ARE YOU\n",
            "heelo hoo laa laa\n"
          ]
        }
      ]
    },
    {
      "cell_type": "markdown",
      "source": [
        "String character checking"
      ],
      "metadata": {
        "id": "tcvmf_47UE7D"
      }
    },
    {
      "cell_type": "code",
      "source": [
        "str1='hello hoe are you'\n",
        "str1.endswith('are you') ##endswith-->returns true if the string ends with a specified vsalue\n",
        "str1.startswith('hello') ##startswith-->returns true if the string starts with a specified vsalue"
      ],
      "metadata": {
        "colab": {
          "base_uri": "https://localhost:8080/"
        },
        "id": "281VJzNTUJOA",
        "outputId": "a93a19ee-d768-46dc-8d55-42c20137d6f6"
      },
      "execution_count": null,
      "outputs": [
        {
          "output_type": "execute_result",
          "data": {
            "text/plain": [
              "True"
            ]
          },
          "metadata": {},
          "execution_count": 33
        }
      ]
    },
    {
      "cell_type": "markdown",
      "source": [
        "##String searching"
      ],
      "metadata": {
        "id": "9eLuCPveU-28"
      }
    },
    {
      "cell_type": "code",
      "source": [
        "str1='hello how are you'\n",
        "print(str1.find('h')) ##find--> search the string for a specified value and returns the first position of where it was found\n",
        "print(str1.rfind('h'))  ##rfind-->search the string for a specified value and returns the last position of where it was found"
      ],
      "metadata": {
        "colab": {
          "base_uri": "https://localhost:8080/"
        },
        "id": "zQJDfY9GVCWZ",
        "outputId": "46845f76-a3d6-48bd-893c-41aa03d26afb"
      },
      "execution_count": null,
      "outputs": [
        {
          "output_type": "stream",
          "name": "stdout",
          "text": [
            "0\n",
            "6\n"
          ]
        }
      ]
    },
    {
      "cell_type": "markdown",
      "source": [
        "### String joining"
      ],
      "metadata": {
        "id": "7wo8YUBIW37N"
      }
    },
    {
      "cell_type": "code",
      "source": [
        "a='Sandeep ' ##at last a space must be given otherwise the join won't work for the last element of the string\n",
        "print('Singh  '.join(a)) ##join-->joins the elements one by one with a given string\n",
        "print('singh '+ a) ##for my learning"
      ],
      "metadata": {
        "colab": {
          "base_uri": "https://localhost:8080/"
        },
        "id": "fhU4XazXW9cN",
        "outputId": "992ce0fb-5d52-459c-d475-fe6fd61639ed"
      },
      "execution_count": null,
      "outputs": [
        {
          "output_type": "stream",
          "name": "stdout",
          "text": [
            "SSingh  aSingh  nSingh  dSingh  eSingh  eSingh  pSingh   \n",
            "singh Sandeep \n"
          ]
        }
      ]
    },
    {
      "cell_type": "markdown",
      "source": [
        "## The escape character"
      ],
      "metadata": {
        "id": "Ild6aE9JYgEi"
      }
    },
    {
      "cell_type": "code",
      "source": [
        "splitstring='My name is Hrites Moitra. \\nI am learning python'  ##\\n = anything after \\n will be printed in nexxt line\n",
        "print(splitstring)\n",
        "\n",
        "tabbedstring='1\\t2\\t3\\t4\\t5' ##\\t= anything after \\t will be tabbed\n",
        "print(tabbedstring)\n",
        "\n",
        "print(\"c:\\\\users\\\\tiger\\\\newfile.txt\") ## \\\\--> double backslash should be used otherwise it will give error when not using n or t to print backslashing"
      ],
      "metadata": {
        "colab": {
          "base_uri": "https://localhost:8080/"
        },
        "id": "enpoVEgpYoMZ",
        "outputId": "35993e3b-c81d-4d96-a76c-df3afbf0094f"
      },
      "execution_count": null,
      "outputs": [
        {
          "output_type": "stream",
          "name": "stdout",
          "text": [
            "My name is Hrites Moitra. \n",
            "I am learning python\n",
            "1\t2\t3\t4\t5\n",
            "c:\\users\\tiger\\newfile.txt\n"
          ]
        }
      ]
    },
    {
      "cell_type": "markdown",
      "source": [
        "input method"
      ],
      "metadata": {
        "id": "st3YaD2G9k5f"
      }
    },
    {
      "cell_type": "code",
      "source": [
        "first_number=input(\"enter the first number\")\n",
        "second_number=input(\"enter the second number\")\n",
        "test_add=first_number + second_number\n",
        "print(test_add)"
      ],
      "metadata": {
        "colab": {
          "base_uri": "https://localhost:8080/"
        },
        "id": "6jMx8Asi-AVk",
        "outputId": "b834c19c-5233-40d1-ca9b-42c1dfd2c63b"
      },
      "execution_count": null,
      "outputs": [
        {
          "output_type": "stream",
          "name": "stdout",
          "text": [
            "enter the first number10\n",
            "enter the second number20\n",
            "1020\n"
          ]
        }
      ]
    },
    {
      "cell_type": "code",
      "source": [
        "first_number=int(input(\"enter the first number\"))\n",
        "second_number=int(input(\"enter the second number\"))\n",
        "test_add=first_number + second_number\n",
        "print(test_add)"
      ],
      "metadata": {
        "colab": {
          "base_uri": "https://localhost:8080/"
        },
        "id": "ucEy_vZDAlzS",
        "outputId": "a9b0e090-5122-43d6-c2b7-404fe17f683a"
      },
      "execution_count": null,
      "outputs": [
        {
          "output_type": "stream",
          "name": "stdout",
          "text": [
            "enter the first number10\n",
            "enter the second number20\n",
            "30\n"
          ]
        }
      ]
    },
    {
      "cell_type": "code",
      "source": [
        "#AND--> If all conditions are true then output will be true\n",
        "\n",
        "res1=1\n",
        "res2=11\n",
        "res3=12\n",
        "r=(res1>res2) and (res3>res2)\n",
        "print(r)"
      ],
      "metadata": {
        "colab": {
          "base_uri": "https://localhost:8080/"
        },
        "id": "FWtZsqwHBIBJ",
        "outputId": "bbaddb69-281d-4657-c87d-c5897d05174e"
      },
      "execution_count": null,
      "outputs": [
        {
          "output_type": "stream",
          "name": "stdout",
          "text": [
            "False\n"
          ]
        }
      ]
    },
    {
      "cell_type": "code",
      "source": [
        "#or--> if any of the condition is true then output will be true\n",
        "res1=1\n",
        "res2=11\n",
        "res3=12\n",
        "r=(res1>res2) or (res3>res2)\n",
        "print(r)\n"
      ],
      "metadata": {
        "colab": {
          "base_uri": "https://localhost:8080/"
        },
        "id": "RTKFdl2tBs-C",
        "outputId": "3459bf71-e35b-48d1-bc51-4bc7ef542e37"
      },
      "execution_count": null,
      "outputs": [
        {
          "output_type": "stream",
          "name": "stdout",
          "text": [
            "True\n"
          ]
        }
      ]
    },
    {
      "cell_type": "code",
      "source": [
        "##if-else\n",
        "\n",
        "t=5\n",
        "if(t>10):\n",
        "  print(\"t is grater than 10\")\n",
        "else:\n",
        "  print(\"t is smaller than 10\")\n"
      ],
      "metadata": {
        "colab": {
          "base_uri": "https://localhost:8080/"
        },
        "id": "gaXc7ReuDwNo",
        "outputId": "ac454487-7dc8-4534-a7c8-5da454682008"
      },
      "execution_count": null,
      "outputs": [
        {
          "output_type": "stream",
          "name": "stdout",
          "text": [
            "t is smaller than 10\n"
          ]
        }
      ]
    },
    {
      "cell_type": "code",
      "source": [
        "a=int(input(\"first_num\"))\n",
        "b=int(input(\"second_num\"))\n",
        "if(a>b):\n",
        "  print(\"a is grater than b\")\n",
        "else:\n",
        "  print(\"a is smaller than b\")\n"
      ],
      "metadata": {
        "colab": {
          "base_uri": "https://localhost:8080/"
        },
        "id": "_iWCwFVTE0ZV",
        "outputId": "80ae53b7-416b-4eba-e30d-9e2b1d7d7d97"
      },
      "execution_count": null,
      "outputs": [
        {
          "output_type": "stream",
          "name": "stdout",
          "text": [
            "first_num10\n",
            "second_num20\n",
            "a is smaller than b\n"
          ]
        }
      ]
    },
    {
      "cell_type": "code",
      "source": [
        "#if-statement\n",
        "print(6==18/3)"
      ],
      "metadata": {
        "colab": {
          "base_uri": "https://localhost:8080/"
        },
        "id": "JlZMVbq9FtDj",
        "outputId": "4f720641-c76e-4d3a-db25-86c584959555"
      },
      "execution_count": null,
      "outputs": [
        {
          "output_type": "execute_result",
          "data": {
            "text/plain": [
              "True"
            ]
          },
          "metadata": {},
          "execution_count": 74
        }
      ]
    },
    {
      "cell_type": "code",
      "source": [
        "if(7==19/3):\n",
        "  print(\"great\") ##if the condn doesnt satisfies and there is no else statement there will be no output"
      ],
      "metadata": {
        "id": "GV86uKNpGd1b"
      },
      "execution_count": null,
      "outputs": []
    },
    {
      "cell_type": "code",
      "source": [
        "if(7==21/3):\n",
        "  print(\"both are equal\")"
      ],
      "metadata": {
        "colab": {
          "base_uri": "https://localhost:8080/"
        },
        "id": "AWZ3cjsWHMPA",
        "outputId": "f01da4c2-6587-40ed-c521-06313cae0c22"
      },
      "execution_count": null,
      "outputs": [
        {
          "output_type": "stream",
          "name": "stdout",
          "text": [
            "both are equal\n"
          ]
        }
      ]
    },
    {
      "cell_type": "code",
      "source": [
        "if(7==19/3):\n",
        "  print(\"great\")\n",
        "\n",
        "print(\"H\") ##here the ouypuwill be h becausse the the condition is left "
      ],
      "metadata": {
        "colab": {
          "base_uri": "https://localhost:8080/"
        },
        "id": "-GbRk2n2HWeb",
        "outputId": "d33c75fe-967d-46d7-82cb-d31d76394c5d"
      },
      "execution_count": null,
      "outputs": [
        {
          "output_type": "stream",
          "name": "stdout",
          "text": [
            "H\n"
          ]
        }
      ]
    },
    {
      "cell_type": "code",
      "source": [
        "x=int(input())\n",
        "if x==5:\n",
        "  print(\"correct\")"
      ],
      "metadata": {
        "colab": {
          "base_uri": "https://localhost:8080/"
        },
        "id": "j6EOYTvfIqPu",
        "outputId": "32959cd7-9dc9-414a-eb99-a5d4e69a6695"
      },
      "execution_count": null,
      "outputs": [
        {
          "output_type": "stream",
          "name": "stdout",
          "text": [
            "5\n",
            "correct\n"
          ]
        }
      ]
    },
    {
      "cell_type": "code",
      "source": [
        "## write a small program to identify if a student. If the student scored more than 60 passed\n",
        "\n",
        "marks=int(input(\"enter marks\"))\n",
        "if marks>60:\n",
        "  print(\"passed\")\n",
        "else:\n",
        "  print(\"not passed\")\n"
      ],
      "metadata": {
        "colab": {
          "base_uri": "https://localhost:8080/"
        },
        "id": "zUj50sNlJBVK",
        "outputId": "ae1da548-dbbf-48b8-9dca-cf2747c97f73"
      },
      "execution_count": null,
      "outputs": [
        {
          "output_type": "stream",
          "name": "stdout",
          "text": [
            "enter marks76\n",
            "passed\n"
          ]
        }
      ]
    },
    {
      "cell_type": "code",
      "source": [
        "## if-elif-else\n",
        "\n",
        "first_num=int(input(\"first number\"))\n",
        "sec_num=int(input(\"second number\"))\n",
        "if first_num>sec_num:\n",
        "  print(\"first number is greater\")\n",
        "elif first_num==sec_num:\n",
        "  print(\"both are equal\")\n",
        "else:\n",
        "  print(\"first_num is smaller\")    "
      ],
      "metadata": {
        "colab": {
          "base_uri": "https://localhost:8080/"
        },
        "id": "NaKG4fLfLldh",
        "outputId": "567663a0-1693-40e5-a2a5-95caa5132b39"
      },
      "execution_count": null,
      "outputs": [
        {
          "output_type": "stream",
          "name": "stdout",
          "text": [
            "first number20\n",
            "second number30\n",
            "first_num is smaller\n"
          ]
        }
      ]
    },
    {
      "cell_type": "markdown",
      "source": [
        "### nested decision"
      ],
      "metadata": {
        "id": "B1YkVESYNux_"
      }
    },
    {
      "cell_type": "code",
      "source": [
        "x=25\n",
        "if x>1:\n",
        "  print(\"more than 1\")\n",
        "  if x<100:\n",
        "    print(\"less than 100\")\n",
        "  else:\n",
        "    print(\"more than 100\")\n",
        "else:\n",
        "  print(\"negative number\")\n",
        "\n",
        "print(\"all done\")        "
      ],
      "metadata": {
        "colab": {
          "base_uri": "https://localhost:8080/"
        },
        "id": "IX0YGHY3NyK4",
        "outputId": "4c13db23-a6df-41c0-ad34-ea7945cbd7fb"
      },
      "execution_count": null,
      "outputs": [
        {
          "output_type": "stream",
          "name": "stdout",
          "text": [
            "more than 1\n",
            "less than 100\n",
            "all done\n"
          ]
        }
      ]
    },
    {
      "cell_type": "code",
      "source": [
        "##match is won or not; if won savhin scored more than 50 then great player\n",
        "\n",
        "match_won=str(input())\n",
        "score=int(input())\n",
        "if match_won==\"true\":\n",
        "  if score>50:\n",
        "    print(\"match won, sachin is great\")\n",
        "  else:\n",
        "    print(\"match won, sachin is still good\")\n",
        "else:\n",
        "  print(\"lost match\")    "
      ],
      "metadata": {
        "colab": {
          "base_uri": "https://localhost:8080/"
        },
        "id": "RXjPZLKzO4Xq",
        "outputId": "3ab4e623-2223-43d4-e04a-231ea61cdc55"
      },
      "execution_count": null,
      "outputs": [
        {
          "output_type": "stream",
          "name": "stdout",
          "text": [
            "true\n",
            "55\n",
            "match won, sachin is great\n"
          ]
        }
      ]
    },
    {
      "cell_type": "code",
      "source": [
        "##check if the no is positive or negative or zero and display an appropriate message\n",
        "\n",
        "num=int(input())\n",
        "if num>0:\n",
        "  print(\"num is positive\")\n",
        "elif num==0:\n",
        "      print(\"num is zero\")\n",
        "else :\n",
        "  print(\"num is negative\")    "
      ],
      "metadata": {
        "colab": {
          "base_uri": "https://localhost:8080/"
        },
        "id": "oAcyS7DJRh7i",
        "outputId": "236589ad-faee-49b2-9e14-34a7f528f3c5"
      },
      "execution_count": null,
      "outputs": [
        {
          "output_type": "stream",
          "name": "stdout",
          "text": [
            "-23\n",
            "num is negative\n"
          ]
        }
      ]
    },
    {
      "cell_type": "code",
      "source": [
        "'''a student will not be allowed to sit in the exm if his/her attendance is less than 75%\n",
        "Take the following input from the user\n",
        "number of classes held\n",
        "number of classes attended \n",
        "and print percentage of classes attended \n",
        "is student allowed to sit in exam or not'''\n",
        "\n",
        "num_of_classes_held=int(input())\n",
        "num_of_classes_attended=int(input())\n",
        "percentage_of_attendance=(num_of_classes_attended/num_of_classes_held) * 100\n",
        "print(percentage_of_attendance)\n",
        "if percentage_of_attendance>=75:\n",
        "  print(\"student is allowed\")\n",
        "else:\n",
        "  print(\"not allowed\")"
      ],
      "metadata": {
        "colab": {
          "base_uri": "https://localhost:8080/"
        },
        "id": "O1STa_i5TgWA",
        "outputId": "1859baa9-8369-4533-b662-9fd6227e03f2"
      },
      "execution_count": null,
      "outputs": [
        {
          "output_type": "stream",
          "name": "stdout",
          "text": [
            "200\n",
            "150\n",
            "75.0\n",
            "student is allowed\n"
          ]
        }
      ]
    },
    {
      "cell_type": "code",
      "source": [
        "'''you have to ask length and breadth from the user and if both are equal then square else rectangle'''\n",
        "\n",
        "length=int(input())\n",
        "breadth=int(input())\n",
        "if length==breadth:\n",
        "  print(\"it is square\")\n",
        "else:\n",
        "  print(\"it is rectangle\")"
      ],
      "metadata": {
        "colab": {
          "base_uri": "https://localhost:8080/"
        },
        "id": "xDp-sX1wXeWZ",
        "outputId": "29f2ac91-d543-4ad1-b414-2d86158c41a8"
      },
      "execution_count": null,
      "outputs": [
        {
          "output_type": "stream",
          "name": "stdout",
          "text": [
            "5\n",
            "4\n",
            "it is rectangle\n"
          ]
        }
      ]
    },
    {
      "cell_type": "markdown",
      "source": [
        "###indexing; it is only applicable in string data tyoe in python"
      ],
      "metadata": {
        "id": "iSU7ZkstZknW"
      }
    },
    {
      "cell_type": "code",
      "source": [
        "big_cat=\"white tiger hjkj\"\n",
        "print(big_cat[0:3]) #won't include the value at the third index\n",
        "print(big_cat[0:6])\n",
        "print(big_cat[3:5])\n",
        "print(big_cat[0:9])\n",
        "print(big_cat[:9:]) ## from 0th index to 8th index\n",
        "print(big_cat[10:14])\n",
        "print(big_cat[10:]) ## starts from 10th index and goes upto end\n",
        "print(big_cat[:]) #will print the overall string "
      ],
      "metadata": {
        "colab": {
          "base_uri": "https://localhost:8080/"
        },
        "id": "m9IsiYjLZnCz",
        "outputId": "f00da4e3-de33-458b-a54e-25da9aa68959"
      },
      "execution_count": null,
      "outputs": [
        {
          "output_type": "stream",
          "name": "stdout",
          "text": [
            "whi\n",
            "white \n",
            "te\n",
            "white tig\n",
            "white tig\n",
            "r hj\n",
            "r hjkj\n",
            "white tiger hjkj\n"
          ]
        }
      ]
    },
    {
      "cell_type": "markdown",
      "source": [
        "### negative indexing"
      ],
      "metadata": {
        "id": "hGMLuia-cXAE"
      }
    },
    {
      "cell_type": "code",
      "source": [
        "letters='abcdefghijklmnopqrstuvwxyz'\n",
        "print(letters[-5:-1]) ##this will print value from -5th index to -2nd index -1 will refer to the last index of the string or 1st index from the right hand side ; here -1=z;-2=y and so on \n",
        "print(letters[-14:10]) ## here there will be no output because the range has to be in common signs\n",
        "print(letters[0:6:2]) ## will print from oth index to 5th index after every 1st alternate(2) places\n",
        "print(letters[0:9:3]) ## will print from oth index to 8th index after every 2nd alternate(3) places"
      ],
      "metadata": {
        "colab": {
          "base_uri": "https://localhost:8080/"
        },
        "id": "h4TJV4ZNcZ26",
        "outputId": "2962a24b-ac5c-44a1-a79d-391a30208f90"
      },
      "execution_count": null,
      "outputs": [
        {
          "output_type": "stream",
          "name": "stdout",
          "text": [
            "vwxy\n",
            "\n",
            "ace\n",
            "adg\n"
          ]
        }
      ]
    },
    {
      "cell_type": "code",
      "source": [
        "##slicing backwards(::--> represents backward slashing)\n",
        "\n",
        "letters='abcdefghijklmnopqrstuvwxyz'\n",
        "backwards=letters[::-3] ## here values will be printed from 25th index and then print again element present 5 indices backward upto the 0th index\n",
        "print(backwards)"
      ],
      "metadata": {
        "colab": {
          "base_uri": "https://localhost:8080/"
        },
        "id": "TZyeUQgFfUE3",
        "outputId": "33a31d19-ec0c-4307-8e79-37c99b50e404"
      },
      "execution_count": null,
      "outputs": [
        {
          "output_type": "stream",
          "name": "stdout",
          "text": [
            "zwtqnkheb\n"
          ]
        }
      ]
    },
    {
      "cell_type": "code",
      "source": [
        "letters='abcdefghijklmnopqrstuvwxyz'\n",
        "backwards=letters[25::-1] ## this will reverse the whole string\n",
        "print(backwards)"
      ],
      "metadata": {
        "colab": {
          "base_uri": "https://localhost:8080/"
        },
        "id": "oUSwkGR7ga38",
        "outputId": "f95f95af-f786-47a7-b0b3-c5bce128396f"
      },
      "execution_count": null,
      "outputs": [
        {
          "output_type": "stream",
          "name": "stdout",
          "text": [
            "zyxwvutsrqponmlkjihgfedcba\n"
          ]
        }
      ]
    },
    {
      "cell_type": "code",
      "source": [
        "letters='abcdefghijklmnopqrstuvwxyz'\n",
        "up_let=letters.upper()\n",
        "print(up_let)\n",
        "print(up_let[-7])\n",
        "print(up_let[7])\n",
        "print(up_let[4])"
      ],
      "metadata": {
        "colab": {
          "base_uri": "https://localhost:8080/"
        },
        "id": "wNpnE7s7c15k",
        "outputId": "e83d8afc-bfa7-458c-bf83-613398349929"
      },
      "execution_count": null,
      "outputs": [
        {
          "output_type": "stream",
          "name": "stdout",
          "text": [
            "ABCDEFGHIJKLMNOPQRSTUVWXYZ\n",
            "T\n",
            "H\n",
            "E\n"
          ]
        }
      ]
    },
    {
      "cell_type": "code",
      "source": [
        "'''A scjool has following rules for grading system:\n",
        "below 25-f\n",
        "25-45 - E\n",
        "45-50 -D\n",
        "50 to 60-c\n",
        "60-80 - B\n",
        "Above 80 - A\n",
        "Ask you to enter marks and print the coresponding grades'''\n",
        "\n",
        "\n",
        "marks=int(input())\n",
        "if marks<25:\n",
        "  print(\"F\")\n",
        "elif 25<marks<=45:\n",
        "  print(\"E\")\n",
        "elif 45<marks<=50:\n",
        "  print(\"D\")    \n",
        "elif 50<marks<=60:\n",
        "  print(\"C\")\n",
        "elif 60<marks<=80:\n",
        "  print(\"B\")\n",
        "elif marks>80:\n",
        "  print(\"A\")\n",
        "\n",
        "\n"
      ],
      "metadata": {
        "colab": {
          "base_uri": "https://localhost:8080/"
        },
        "id": "2TWwpdAKiWmR",
        "outputId": "84fc7620-e391-411a-db09-0f471feb9c02"
      },
      "execution_count": null,
      "outputs": [
        {
          "output_type": "stream",
          "name": "stdout",
          "text": [
            "100\n",
            "A\n"
          ]
        }
      ]
    },
    {
      "cell_type": "code",
      "source": [
        "number=\"9,223,372,036,854,775,807\"\n",
        "print(number[1::4]) ## will print elemrnts at index 1 and then leace exactly 4 elements inlucing element at 1st undex and then print the next number"
      ],
      "metadata": {
        "colab": {
          "base_uri": "https://localhost:8080/"
        },
        "id": "hSfj5q4PktWn",
        "outputId": "04f653ea-d435-4af8-9081-9395907355fd"
      },
      "execution_count": null,
      "outputs": [
        {
          "output_type": "stream",
          "name": "stdout",
          "text": [
            ",,,,,,\n"
          ]
        }
      ]
    },
    {
      "cell_type": "markdown",
      "source": [
        ""
      ],
      "metadata": {
        "id": "Mwwbbx2MXw5u"
      }
    }
  ]
}