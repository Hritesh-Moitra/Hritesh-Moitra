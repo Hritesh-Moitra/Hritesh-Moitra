{
  "nbformat": 4,
  "nbformat_minor": 0,
  "metadata": {
    "colab": {
      "name": "HriteshMoitraMiniCapstoneProject.ipynb",
      "provenance": [],
      "collapsed_sections": [],
      "authorship_tag": "ABX9TyNNFvcJ5VxfArrz47eVignT",
      "include_colab_link": true
    },
    "kernelspec": {
      "name": "python3",
      "display_name": "Python 3"
    },
    "language_info": {
      "name": "python"
    }
  },
  "cells": [
    {
      "cell_type": "markdown",
      "metadata": {
        "id": "view-in-github",
        "colab_type": "text"
      },
      "source": [
        "<a href=\"https://colab.research.google.com/github/Hritesh-Moitra/Hritesh-Moitra/blob/main/HriteshMoitraMiniCapstoneProject.ipynb\" target=\"_parent\"><img src=\"https://colab.research.google.com/assets/colab-badge.svg\" alt=\"Open In Colab\"/></a>"
      ]
    },
    {
      "cell_type": "markdown",
      "source": [
        "**Introduction of the project:**\n",
        "We are given with an excel file with different details of 7043 customers for Telco company and we are required to use Python and SQL to retireve and analyse results using the data provided in the excel file and further interpret the results with the help of graphs and bars and accordingly explain the results."
      ],
      "metadata": {
        "id": "XD03pP63AFov"
      }
    },
    {
      "cell_type": "code",
      "execution_count": null,
      "metadata": {
        "id": "5vRoOJ4U_bYj"
      },
      "outputs": [],
      "source": [
        "import pandas as pd\n",
        "import numpy as np\n",
        "import seaborn as sns\n",
        "import matplotlib.pyplot as plt\n"
      ]
    },
    {
      "cell_type": "code",
      "source": [
        "##q1\n",
        "cust_details= pd.read_excel('Telco_customer_churn.xlsx')\n",
        "print(cust_details.info())\n",
        "cust_details\n"
      ],
      "metadata": {
        "colab": {
          "base_uri": "https://localhost:8080/",
          "height": 1000
        },
        "id": "5IEUr-d8C_d-",
        "outputId": "639c18d8-ea49-4704-c35a-ab2c7def4fbd"
      },
      "execution_count": null,
      "outputs": [
        {
          "output_type": "stream",
          "name": "stdout",
          "text": [
            "<class 'pandas.core.frame.DataFrame'>\n",
            "RangeIndex: 7043 entries, 0 to 7042\n",
            "Data columns (total 33 columns):\n",
            " #   Column             Non-Null Count  Dtype  \n",
            "---  ------             --------------  -----  \n",
            " 0   CustomerID         7043 non-null   object \n",
            " 1   Count              7043 non-null   int64  \n",
            " 2   Country            7043 non-null   object \n",
            " 3   State              7043 non-null   object \n",
            " 4   City               7043 non-null   object \n",
            " 5   Zip Code           7043 non-null   int64  \n",
            " 6   Lat Long           7043 non-null   object \n",
            " 7   Latitude           7043 non-null   float64\n",
            " 8   Longitude          7043 non-null   float64\n",
            " 9   Gender             7043 non-null   object \n",
            " 10  Senior Citizen     7043 non-null   object \n",
            " 11  Partner            7043 non-null   object \n",
            " 12  Dependents         7043 non-null   object \n",
            " 13  Tenure Months      7043 non-null   int64  \n",
            " 14  Phone Service      7043 non-null   object \n",
            " 15  Multiple Lines     7043 non-null   object \n",
            " 16  Internet Service   7043 non-null   object \n",
            " 17  Online Security    7043 non-null   object \n",
            " 18  Online Backup      7043 non-null   object \n",
            " 19  Device Protection  7043 non-null   object \n",
            " 20  Tech Support       7043 non-null   object \n",
            " 21  Streaming TV       7043 non-null   object \n",
            " 22  Streaming Movies   7043 non-null   object \n",
            " 23  Contract           7043 non-null   object \n",
            " 24  Paperless Billing  7043 non-null   object \n",
            " 25  Payment Method     7043 non-null   object \n",
            " 26  Monthly Charges    7043 non-null   object \n",
            " 27  Total Charges      7043 non-null   object \n",
            " 28  Churn Label        7043 non-null   object \n",
            " 29  Churn Value        7043 non-null   object \n",
            " 30  Churn Score        7043 non-null   object \n",
            " 31  CLTV               7043 non-null   object \n",
            " 32  Churn Reason       1869 non-null   object \n",
            "dtypes: float64(2), int64(3), object(28)\n",
            "memory usage: 1.8+ MB\n",
            "None\n"
          ]
        },
        {
          "output_type": "execute_result",
          "data": {
            "text/plain": [
              "      CustomerID  Count        Country       State          City  Zip Code  \\\n",
              "0     3668-QPYBK      1  United States  California   Los Angeles     90003   \n",
              "1     9237-HQITU      1  United States  California   Los Angeles     90005   \n",
              "2     9305-CDSKC      1  United States  California   Los Angeles     90006   \n",
              "3     7892-POOKP      1  United States  California   Los Angeles     90010   \n",
              "4     0280-XJGEX      1  United States  California   Los Angeles     90015   \n",
              "...          ...    ...            ...         ...           ...       ...   \n",
              "7038  2569-WGERO      1  United States  California       Landers     92285   \n",
              "7039  6840-RESVB      1  United States  California      Adelanto     92301   \n",
              "7040  2234-XADUH      1  United States  California         Amboy     92304   \n",
              "7041  4801-JZAZL      1  United States  California  Angelus Oaks     92305   \n",
              "7042  3186-AJIEK      1  United States  California  Apple Valley     92308   \n",
              "\n",
              "                    Lat Long   Latitude   Longitude  Gender  ...  \\\n",
              "0     33.964131, -118.272783  33.964131 -118.272783    Male  ...   \n",
              "1      34.059281, -118.30742  34.059281 -118.307420  Female  ...   \n",
              "2     34.048013, -118.293953  34.048013 -118.293953  Female  ...   \n",
              "3     34.062125, -118.315709  34.062125 -118.315709  Female  ...   \n",
              "4     34.039224, -118.266293  34.039224 -118.266293    Male  ...   \n",
              "...                      ...        ...         ...     ...  ...   \n",
              "7038  34.341737, -116.539416  34.341737 -116.539416  Female  ...   \n",
              "7039  34.667815, -117.536183  34.667815 -117.536183    Male  ...   \n",
              "7040  34.559882, -115.637164  34.559882 -115.637164  Female  ...   \n",
              "7041     34.1678, -116.86433  34.167800 -116.864330  Female  ...   \n",
              "7042  34.424926, -117.184503  34.424926 -117.184503    Male  ...   \n",
              "\n",
              "            Contract Paperless Billing             Payment Method  \\\n",
              "0     Month-to-month               Yes               Mailed check   \n",
              "1     Month-to-month               Yes           Electronic check   \n",
              "2     Month-to-month               Yes           Electronic check   \n",
              "3     Month-to-month               Yes           Electronic check   \n",
              "4     Month-to-month               Yes  Bank transfer (automatic)   \n",
              "...              ...               ...                        ...   \n",
              "7038        Two year               Yes  Bank transfer (automatic)   \n",
              "7039        One year               Yes               Mailed check   \n",
              "7040        One year               Yes    Credit card (automatic)   \n",
              "7041  Month-to-month               Yes           Electronic check   \n",
              "7042        Two year               Yes  Bank transfer (automatic)   \n",
              "\n",
              "      Monthly Charges Total Charges Churn Label Churn Value Churn Score  CLTV  \\\n",
              "0               53.85        108.15         Yes           1          86  3239   \n",
              "1                70.7        151.65         Yes           1          67  2701   \n",
              "2               99.65         820.5         Yes           1          86  5372   \n",
              "3               104.8       3046.05         Yes           1          84  5003   \n",
              "4               103.7        5036.3         Yes           1          89  5340   \n",
              "...               ...           ...         ...         ...         ...   ...   \n",
              "7038            21.15        1419.4          No           0          45  5306   \n",
              "7039             84.8        1990.5          No           0          59  2140   \n",
              "7040            103.2        7362.9          No           0          71  5560   \n",
              "7041             29.6        346.45          No           0          59  2793   \n",
              "7042           105.65        6844.5          No           0          38  5097   \n",
              "\n",
              "                       Churn Reason  \n",
              "0      Competitor made better offer  \n",
              "1                             Moved  \n",
              "2                             Moved  \n",
              "3                             Moved  \n",
              "4     Competitor had better devices  \n",
              "...                             ...  \n",
              "7038                            NaN  \n",
              "7039                            NaN  \n",
              "7040                            NaN  \n",
              "7041                            NaN  \n",
              "7042                            NaN  \n",
              "\n",
              "[7043 rows x 33 columns]"
            ],
            "text/html": [
              "\n",
              "  <div id=\"df-8f18f22c-c7be-49fc-ad65-359aa0c96cc4\">\n",
              "    <div class=\"colab-df-container\">\n",
              "      <div>\n",
              "<style scoped>\n",
              "    .dataframe tbody tr th:only-of-type {\n",
              "        vertical-align: middle;\n",
              "    }\n",
              "\n",
              "    .dataframe tbody tr th {\n",
              "        vertical-align: top;\n",
              "    }\n",
              "\n",
              "    .dataframe thead th {\n",
              "        text-align: right;\n",
              "    }\n",
              "</style>\n",
              "<table border=\"1\" class=\"dataframe\">\n",
              "  <thead>\n",
              "    <tr style=\"text-align: right;\">\n",
              "      <th></th>\n",
              "      <th>CustomerID</th>\n",
              "      <th>Count</th>\n",
              "      <th>Country</th>\n",
              "      <th>State</th>\n",
              "      <th>City</th>\n",
              "      <th>Zip Code</th>\n",
              "      <th>Lat Long</th>\n",
              "      <th>Latitude</th>\n",
              "      <th>Longitude</th>\n",
              "      <th>Gender</th>\n",
              "      <th>...</th>\n",
              "      <th>Contract</th>\n",
              "      <th>Paperless Billing</th>\n",
              "      <th>Payment Method</th>\n",
              "      <th>Monthly Charges</th>\n",
              "      <th>Total Charges</th>\n",
              "      <th>Churn Label</th>\n",
              "      <th>Churn Value</th>\n",
              "      <th>Churn Score</th>\n",
              "      <th>CLTV</th>\n",
              "      <th>Churn Reason</th>\n",
              "    </tr>\n",
              "  </thead>\n",
              "  <tbody>\n",
              "    <tr>\n",
              "      <th>0</th>\n",
              "      <td>3668-QPYBK</td>\n",
              "      <td>1</td>\n",
              "      <td>United States</td>\n",
              "      <td>California</td>\n",
              "      <td>Los Angeles</td>\n",
              "      <td>90003</td>\n",
              "      <td>33.964131, -118.272783</td>\n",
              "      <td>33.964131</td>\n",
              "      <td>-118.272783</td>\n",
              "      <td>Male</td>\n",
              "      <td>...</td>\n",
              "      <td>Month-to-month</td>\n",
              "      <td>Yes</td>\n",
              "      <td>Mailed check</td>\n",
              "      <td>53.85</td>\n",
              "      <td>108.15</td>\n",
              "      <td>Yes</td>\n",
              "      <td>1</td>\n",
              "      <td>86</td>\n",
              "      <td>3239</td>\n",
              "      <td>Competitor made better offer</td>\n",
              "    </tr>\n",
              "    <tr>\n",
              "      <th>1</th>\n",
              "      <td>9237-HQITU</td>\n",
              "      <td>1</td>\n",
              "      <td>United States</td>\n",
              "      <td>California</td>\n",
              "      <td>Los Angeles</td>\n",
              "      <td>90005</td>\n",
              "      <td>34.059281, -118.30742</td>\n",
              "      <td>34.059281</td>\n",
              "      <td>-118.307420</td>\n",
              "      <td>Female</td>\n",
              "      <td>...</td>\n",
              "      <td>Month-to-month</td>\n",
              "      <td>Yes</td>\n",
              "      <td>Electronic check</td>\n",
              "      <td>70.7</td>\n",
              "      <td>151.65</td>\n",
              "      <td>Yes</td>\n",
              "      <td>1</td>\n",
              "      <td>67</td>\n",
              "      <td>2701</td>\n",
              "      <td>Moved</td>\n",
              "    </tr>\n",
              "    <tr>\n",
              "      <th>2</th>\n",
              "      <td>9305-CDSKC</td>\n",
              "      <td>1</td>\n",
              "      <td>United States</td>\n",
              "      <td>California</td>\n",
              "      <td>Los Angeles</td>\n",
              "      <td>90006</td>\n",
              "      <td>34.048013, -118.293953</td>\n",
              "      <td>34.048013</td>\n",
              "      <td>-118.293953</td>\n",
              "      <td>Female</td>\n",
              "      <td>...</td>\n",
              "      <td>Month-to-month</td>\n",
              "      <td>Yes</td>\n",
              "      <td>Electronic check</td>\n",
              "      <td>99.65</td>\n",
              "      <td>820.5</td>\n",
              "      <td>Yes</td>\n",
              "      <td>1</td>\n",
              "      <td>86</td>\n",
              "      <td>5372</td>\n",
              "      <td>Moved</td>\n",
              "    </tr>\n",
              "    <tr>\n",
              "      <th>3</th>\n",
              "      <td>7892-POOKP</td>\n",
              "      <td>1</td>\n",
              "      <td>United States</td>\n",
              "      <td>California</td>\n",
              "      <td>Los Angeles</td>\n",
              "      <td>90010</td>\n",
              "      <td>34.062125, -118.315709</td>\n",
              "      <td>34.062125</td>\n",
              "      <td>-118.315709</td>\n",
              "      <td>Female</td>\n",
              "      <td>...</td>\n",
              "      <td>Month-to-month</td>\n",
              "      <td>Yes</td>\n",
              "      <td>Electronic check</td>\n",
              "      <td>104.8</td>\n",
              "      <td>3046.05</td>\n",
              "      <td>Yes</td>\n",
              "      <td>1</td>\n",
              "      <td>84</td>\n",
              "      <td>5003</td>\n",
              "      <td>Moved</td>\n",
              "    </tr>\n",
              "    <tr>\n",
              "      <th>4</th>\n",
              "      <td>0280-XJGEX</td>\n",
              "      <td>1</td>\n",
              "      <td>United States</td>\n",
              "      <td>California</td>\n",
              "      <td>Los Angeles</td>\n",
              "      <td>90015</td>\n",
              "      <td>34.039224, -118.266293</td>\n",
              "      <td>34.039224</td>\n",
              "      <td>-118.266293</td>\n",
              "      <td>Male</td>\n",
              "      <td>...</td>\n",
              "      <td>Month-to-month</td>\n",
              "      <td>Yes</td>\n",
              "      <td>Bank transfer (automatic)</td>\n",
              "      <td>103.7</td>\n",
              "      <td>5036.3</td>\n",
              "      <td>Yes</td>\n",
              "      <td>1</td>\n",
              "      <td>89</td>\n",
              "      <td>5340</td>\n",
              "      <td>Competitor had better devices</td>\n",
              "    </tr>\n",
              "    <tr>\n",
              "      <th>...</th>\n",
              "      <td>...</td>\n",
              "      <td>...</td>\n",
              "      <td>...</td>\n",
              "      <td>...</td>\n",
              "      <td>...</td>\n",
              "      <td>...</td>\n",
              "      <td>...</td>\n",
              "      <td>...</td>\n",
              "      <td>...</td>\n",
              "      <td>...</td>\n",
              "      <td>...</td>\n",
              "      <td>...</td>\n",
              "      <td>...</td>\n",
              "      <td>...</td>\n",
              "      <td>...</td>\n",
              "      <td>...</td>\n",
              "      <td>...</td>\n",
              "      <td>...</td>\n",
              "      <td>...</td>\n",
              "      <td>...</td>\n",
              "      <td>...</td>\n",
              "    </tr>\n",
              "    <tr>\n",
              "      <th>7038</th>\n",
              "      <td>2569-WGERO</td>\n",
              "      <td>1</td>\n",
              "      <td>United States</td>\n",
              "      <td>California</td>\n",
              "      <td>Landers</td>\n",
              "      <td>92285</td>\n",
              "      <td>34.341737, -116.539416</td>\n",
              "      <td>34.341737</td>\n",
              "      <td>-116.539416</td>\n",
              "      <td>Female</td>\n",
              "      <td>...</td>\n",
              "      <td>Two year</td>\n",
              "      <td>Yes</td>\n",
              "      <td>Bank transfer (automatic)</td>\n",
              "      <td>21.15</td>\n",
              "      <td>1419.4</td>\n",
              "      <td>No</td>\n",
              "      <td>0</td>\n",
              "      <td>45</td>\n",
              "      <td>5306</td>\n",
              "      <td>NaN</td>\n",
              "    </tr>\n",
              "    <tr>\n",
              "      <th>7039</th>\n",
              "      <td>6840-RESVB</td>\n",
              "      <td>1</td>\n",
              "      <td>United States</td>\n",
              "      <td>California</td>\n",
              "      <td>Adelanto</td>\n",
              "      <td>92301</td>\n",
              "      <td>34.667815, -117.536183</td>\n",
              "      <td>34.667815</td>\n",
              "      <td>-117.536183</td>\n",
              "      <td>Male</td>\n",
              "      <td>...</td>\n",
              "      <td>One year</td>\n",
              "      <td>Yes</td>\n",
              "      <td>Mailed check</td>\n",
              "      <td>84.8</td>\n",
              "      <td>1990.5</td>\n",
              "      <td>No</td>\n",
              "      <td>0</td>\n",
              "      <td>59</td>\n",
              "      <td>2140</td>\n",
              "      <td>NaN</td>\n",
              "    </tr>\n",
              "    <tr>\n",
              "      <th>7040</th>\n",
              "      <td>2234-XADUH</td>\n",
              "      <td>1</td>\n",
              "      <td>United States</td>\n",
              "      <td>California</td>\n",
              "      <td>Amboy</td>\n",
              "      <td>92304</td>\n",
              "      <td>34.559882, -115.637164</td>\n",
              "      <td>34.559882</td>\n",
              "      <td>-115.637164</td>\n",
              "      <td>Female</td>\n",
              "      <td>...</td>\n",
              "      <td>One year</td>\n",
              "      <td>Yes</td>\n",
              "      <td>Credit card (automatic)</td>\n",
              "      <td>103.2</td>\n",
              "      <td>7362.9</td>\n",
              "      <td>No</td>\n",
              "      <td>0</td>\n",
              "      <td>71</td>\n",
              "      <td>5560</td>\n",
              "      <td>NaN</td>\n",
              "    </tr>\n",
              "    <tr>\n",
              "      <th>7041</th>\n",
              "      <td>4801-JZAZL</td>\n",
              "      <td>1</td>\n",
              "      <td>United States</td>\n",
              "      <td>California</td>\n",
              "      <td>Angelus Oaks</td>\n",
              "      <td>92305</td>\n",
              "      <td>34.1678, -116.86433</td>\n",
              "      <td>34.167800</td>\n",
              "      <td>-116.864330</td>\n",
              "      <td>Female</td>\n",
              "      <td>...</td>\n",
              "      <td>Month-to-month</td>\n",
              "      <td>Yes</td>\n",
              "      <td>Electronic check</td>\n",
              "      <td>29.6</td>\n",
              "      <td>346.45</td>\n",
              "      <td>No</td>\n",
              "      <td>0</td>\n",
              "      <td>59</td>\n",
              "      <td>2793</td>\n",
              "      <td>NaN</td>\n",
              "    </tr>\n",
              "    <tr>\n",
              "      <th>7042</th>\n",
              "      <td>3186-AJIEK</td>\n",
              "      <td>1</td>\n",
              "      <td>United States</td>\n",
              "      <td>California</td>\n",
              "      <td>Apple Valley</td>\n",
              "      <td>92308</td>\n",
              "      <td>34.424926, -117.184503</td>\n",
              "      <td>34.424926</td>\n",
              "      <td>-117.184503</td>\n",
              "      <td>Male</td>\n",
              "      <td>...</td>\n",
              "      <td>Two year</td>\n",
              "      <td>Yes</td>\n",
              "      <td>Bank transfer (automatic)</td>\n",
              "      <td>105.65</td>\n",
              "      <td>6844.5</td>\n",
              "      <td>No</td>\n",
              "      <td>0</td>\n",
              "      <td>38</td>\n",
              "      <td>5097</td>\n",
              "      <td>NaN</td>\n",
              "    </tr>\n",
              "  </tbody>\n",
              "</table>\n",
              "<p>7043 rows × 33 columns</p>\n",
              "</div>\n",
              "      <button class=\"colab-df-convert\" onclick=\"convertToInteractive('df-8f18f22c-c7be-49fc-ad65-359aa0c96cc4')\"\n",
              "              title=\"Convert this dataframe to an interactive table.\"\n",
              "              style=\"display:none;\">\n",
              "        \n",
              "  <svg xmlns=\"http://www.w3.org/2000/svg\" height=\"24px\"viewBox=\"0 0 24 24\"\n",
              "       width=\"24px\">\n",
              "    <path d=\"M0 0h24v24H0V0z\" fill=\"none\"/>\n",
              "    <path d=\"M18.56 5.44l.94 2.06.94-2.06 2.06-.94-2.06-.94-.94-2.06-.94 2.06-2.06.94zm-11 1L8.5 8.5l.94-2.06 2.06-.94-2.06-.94L8.5 2.5l-.94 2.06-2.06.94zm10 10l.94 2.06.94-2.06 2.06-.94-2.06-.94-.94-2.06-.94 2.06-2.06.94z\"/><path d=\"M17.41 7.96l-1.37-1.37c-.4-.4-.92-.59-1.43-.59-.52 0-1.04.2-1.43.59L10.3 9.45l-7.72 7.72c-.78.78-.78 2.05 0 2.83L4 21.41c.39.39.9.59 1.41.59.51 0 1.02-.2 1.41-.59l7.78-7.78 2.81-2.81c.8-.78.8-2.07 0-2.86zM5.41 20L4 18.59l7.72-7.72 1.47 1.35L5.41 20z\"/>\n",
              "  </svg>\n",
              "      </button>\n",
              "      \n",
              "  <style>\n",
              "    .colab-df-container {\n",
              "      display:flex;\n",
              "      flex-wrap:wrap;\n",
              "      gap: 12px;\n",
              "    }\n",
              "\n",
              "    .colab-df-convert {\n",
              "      background-color: #E8F0FE;\n",
              "      border: none;\n",
              "      border-radius: 50%;\n",
              "      cursor: pointer;\n",
              "      display: none;\n",
              "      fill: #1967D2;\n",
              "      height: 32px;\n",
              "      padding: 0 0 0 0;\n",
              "      width: 32px;\n",
              "    }\n",
              "\n",
              "    .colab-df-convert:hover {\n",
              "      background-color: #E2EBFA;\n",
              "      box-shadow: 0px 1px 2px rgba(60, 64, 67, 0.3), 0px 1px 3px 1px rgba(60, 64, 67, 0.15);\n",
              "      fill: #174EA6;\n",
              "    }\n",
              "\n",
              "    [theme=dark] .colab-df-convert {\n",
              "      background-color: #3B4455;\n",
              "      fill: #D2E3FC;\n",
              "    }\n",
              "\n",
              "    [theme=dark] .colab-df-convert:hover {\n",
              "      background-color: #434B5C;\n",
              "      box-shadow: 0px 1px 3px 1px rgba(0, 0, 0, 0.15);\n",
              "      filter: drop-shadow(0px 1px 2px rgba(0, 0, 0, 0.3));\n",
              "      fill: #FFFFFF;\n",
              "    }\n",
              "  </style>\n",
              "\n",
              "      <script>\n",
              "        const buttonEl =\n",
              "          document.querySelector('#df-8f18f22c-c7be-49fc-ad65-359aa0c96cc4 button.colab-df-convert');\n",
              "        buttonEl.style.display =\n",
              "          google.colab.kernel.accessAllowed ? 'block' : 'none';\n",
              "\n",
              "        async function convertToInteractive(key) {\n",
              "          const element = document.querySelector('#df-8f18f22c-c7be-49fc-ad65-359aa0c96cc4');\n",
              "          const dataTable =\n",
              "            await google.colab.kernel.invokeFunction('convertToInteractive',\n",
              "                                                     [key], {});\n",
              "          if (!dataTable) return;\n",
              "\n",
              "          const docLinkHtml = 'Like what you see? Visit the ' +\n",
              "            '<a target=\"_blank\" href=https://colab.research.google.com/notebooks/data_table.ipynb>data table notebook</a>'\n",
              "            + ' to learn more about interactive tables.';\n",
              "          element.innerHTML = '';\n",
              "          dataTable['output_type'] = 'display_data';\n",
              "          await google.colab.output.renderOutput(dataTable, element);\n",
              "          const docLink = document.createElement('div');\n",
              "          docLink.innerHTML = docLinkHtml;\n",
              "          element.appendChild(docLink);\n",
              "        }\n",
              "      </script>\n",
              "    </div>\n",
              "  </div>\n",
              "  "
            ]
          },
          "metadata": {},
          "execution_count": 2
        }
      ]
    },
    {
      "cell_type": "markdown",
      "source": [
        "Out of all the 33 columns python has identified 24 columns as objects and 9 columns as float varibales; that is numerical values.\n",
        "\n",
        "Out of all the nine columns, following columns are not numerical data in true sense , as any kind of statistical analysis on them won't be of any use; they are:-\n",
        "1. count; it has been used as to keep a count of the total customers , if it was not used we could have still found out the number of total number of rows and could have specified total number of customer records we have.\n",
        "\n",
        "2. Zip code:- Zip code has been considered as a numerical data by python , but in actual it is not , we cannot perform any satistical operations on zip codes to make any inferences.\n",
        "\n",
        "3. Latitude,Longitude:- Thay have also been considered as numerical data by python, but in actual they can be considered as categorical data , as any kind of statistical operations on latitude and longitude values for a given city doesn't makes any sense.\n",
        "\n",
        "4. churn value:- Churn value is a field against the churn label column , specifying whether a customer has left or not, if we don't take churn value into consideration we can still perform operations like count or calculating percentage for number of customers left or retained using customer label, and any specific stasitical operation on churn value wont make much sense, so it can also be treated as categorical data.\n",
        "\n",
        "Data type wrongly identified by python:-\n",
        "\n",
        "**Total charges**:- Total charges have been identified as object by python in the dataset, but it is a numerical data and we can perform vatious statsical operations on total charges and make various statistical inferences.\n",
        "\n",
        "**Monthly Charges**:- Monthly charges have been identified as object by python in the dataset, but it is a numerical data and we can perform vatious statsical operations on total charges and make various statistical inferences.\n",
        "\n",
        "**Churn Score**:- Churn score has been identified as object by python in the dataset, but it is a numerical data and we can perform various statsical operations on churn score and make various statistical inferences.\n",
        "\n",
        "**CLTV**:- CLTV has been identified as object by python in the dataset, but it is a numerical data and we can perform various statsical operations on CLTV and make various statistical inferences.\n",
        "\n",
        "\n",
        "We can perform statsical operations on rest of the numerical fields specified by python in the dataset and makevarious inferences; following are the columns we can perform statistical operations on:-\n",
        "\n",
        "1. Total charges\n",
        "\n",
        "2. Tenure months\n",
        "\n",
        "3. Monthly charges\n",
        "\n",
        "4. Churn score\n",
        "\n",
        "5. CLTV\n"
      ],
      "metadata": {
        "id": "6ZN86VDdhIa3"
      }
    },
    {
      "cell_type": "code",
      "source": [
        "##q2\n",
        "##Statistical summaries of numerical data types in the dataset:-\n",
        "\n",
        "#Statistical summary of tenure months:\n",
        "cust_details['Tenure Months'].describe(include='all')\n"
      ],
      "metadata": {
        "colab": {
          "base_uri": "https://localhost:8080/"
        },
        "id": "DJ38vBOgrHV7",
        "outputId": "68b94db6-ce5d-469e-a666-7f4866735b8e"
      },
      "execution_count": null,
      "outputs": [
        {
          "output_type": "execute_result",
          "data": {
            "text/plain": [
              "count    7043.000000\n",
              "mean       32.371149\n",
              "std        24.559481\n",
              "min         0.000000\n",
              "25%         9.000000\n",
              "50%        29.000000\n",
              "75%        55.000000\n",
              "max        72.000000\n",
              "Name: Tenure Months, dtype: float64"
            ]
          },
          "metadata": {},
          "execution_count": 3
        }
      ]
    },
    {
      "cell_type": "markdown",
      "source": [
        "The average time period a customer stays with the company is 32.37months.\n",
        "\n",
        "The median time period is 29 months a customer stays with the company.\n",
        "\n",
        "The standard deviation is also on the higher side, whivh means the data points are spread out far from the mean.\n",
        "\n",
        "The mean and median vary significantly which means that the data is not distributed normally.\n",
        "\n",
        "The maximum time period for which a company stays with the company is 72 months\n",
        "\n"
      ],
      "metadata": {
        "id": "hJZv_bGovhvm"
      }
    },
    {
      "cell_type": "code",
      "source": [
        "#Statistical summary of monthly charges:\n",
        "cust_details['Monthly Charges']=pd.to_numeric(cust_details['Monthly Charges'] ,errors='coerce') ##we are passing the errors=coerce argument to convert non-numerical values into NAn or null values\n",
        "print(cust_details['Monthly Charges'].describe(include='all'))\n",
        "cust_details.info()"
      ],
      "metadata": {
        "colab": {
          "base_uri": "https://localhost:8080/"
        },
        "id": "gAmLMJ2zyTeI",
        "outputId": "71a1cf76-6d78-4341-99c3-e15860b566ab"
      },
      "execution_count": null,
      "outputs": [
        {
          "output_type": "stream",
          "name": "stdout",
          "text": [
            "count    7042.000000\n",
            "mean       64.756667\n",
            "std        30.089228\n",
            "min        18.250000\n",
            "25%        35.500000\n",
            "50%        70.350000\n",
            "75%        89.850000\n",
            "max       118.750000\n",
            "Name: Monthly Charges, dtype: float64\n",
            "<class 'pandas.core.frame.DataFrame'>\n",
            "RangeIndex: 7043 entries, 0 to 7042\n",
            "Data columns (total 33 columns):\n",
            " #   Column             Non-Null Count  Dtype  \n",
            "---  ------             --------------  -----  \n",
            " 0   CustomerID         7043 non-null   object \n",
            " 1   Count              7043 non-null   int64  \n",
            " 2   Country            7043 non-null   object \n",
            " 3   State              7043 non-null   object \n",
            " 4   City               7043 non-null   object \n",
            " 5   Zip Code           7043 non-null   int64  \n",
            " 6   Lat Long           7043 non-null   object \n",
            " 7   Latitude           7043 non-null   float64\n",
            " 8   Longitude          7043 non-null   float64\n",
            " 9   Gender             7043 non-null   object \n",
            " 10  Senior Citizen     7043 non-null   object \n",
            " 11  Partner            7043 non-null   object \n",
            " 12  Dependents         7043 non-null   object \n",
            " 13  Tenure Months      7043 non-null   int64  \n",
            " 14  Phone Service      7043 non-null   object \n",
            " 15  Multiple Lines     7043 non-null   object \n",
            " 16  Internet Service   7043 non-null   object \n",
            " 17  Online Security    7043 non-null   object \n",
            " 18  Online Backup      7043 non-null   object \n",
            " 19  Device Protection  7043 non-null   object \n",
            " 20  Tech Support       7043 non-null   object \n",
            " 21  Streaming TV       7043 non-null   object \n",
            " 22  Streaming Movies   7043 non-null   object \n",
            " 23  Contract           7043 non-null   object \n",
            " 24  Paperless Billing  7043 non-null   object \n",
            " 25  Payment Method     7043 non-null   object \n",
            " 26  Monthly Charges    7042 non-null   float64\n",
            " 27  Total Charges      7043 non-null   object \n",
            " 28  Churn Label        7043 non-null   object \n",
            " 29  Churn Value        7043 non-null   object \n",
            " 30  Churn Score        7043 non-null   object \n",
            " 31  CLTV               7043 non-null   object \n",
            " 32  Churn Reason       1869 non-null   object \n",
            "dtypes: float64(3), int64(3), object(27)\n",
            "memory usage: 1.8+ MB\n"
          ]
        }
      ]
    },
    {
      "cell_type": "markdown",
      "source": [
        "The average monthly charges for a customer is 64.76.\n",
        "\n",
        "The median monthly charges are 70.35 for.\n",
        "\n",
        "The standard deviation is also on the higher side, which means the data points are spread out far from the mean.\n",
        "\n",
        "The mean and median vary significantly which means that the data is not distributed normally.\n",
        "\n",
        "The maximum monthly charges a customer pays to the company is 118.75 .\n"
      ],
      "metadata": {
        "id": "WkZtcGz3ywyh"
      }
    },
    {
      "cell_type": "code",
      "source": [
        "\n",
        "##converting total charges from obejct to float data type .\n",
        "cust_details['Total Charges']= pd.to_numeric(cust_details['Total Charges'],errors='coerce') ##we are passing the errors=coerce argument to convert non-numerical values into NAn or null values\n",
        "print(cust_details.info())\n"
      ],
      "metadata": {
        "colab": {
          "base_uri": "https://localhost:8080/"
        },
        "id": "Pet1zCmM0EAX",
        "outputId": "671372f5-b9d5-421c-c4ea-c979cc424861"
      },
      "execution_count": null,
      "outputs": [
        {
          "output_type": "stream",
          "name": "stdout",
          "text": [
            "<class 'pandas.core.frame.DataFrame'>\n",
            "RangeIndex: 7043 entries, 0 to 7042\n",
            "Data columns (total 33 columns):\n",
            " #   Column             Non-Null Count  Dtype  \n",
            "---  ------             --------------  -----  \n",
            " 0   CustomerID         7043 non-null   object \n",
            " 1   Count              7043 non-null   int64  \n",
            " 2   Country            7043 non-null   object \n",
            " 3   State              7043 non-null   object \n",
            " 4   City               7043 non-null   object \n",
            " 5   Zip Code           7043 non-null   int64  \n",
            " 6   Lat Long           7043 non-null   object \n",
            " 7   Latitude           7043 non-null   float64\n",
            " 8   Longitude          7043 non-null   float64\n",
            " 9   Gender             7043 non-null   object \n",
            " 10  Senior Citizen     7043 non-null   object \n",
            " 11  Partner            7043 non-null   object \n",
            " 12  Dependents         7043 non-null   object \n",
            " 13  Tenure Months      7043 non-null   int64  \n",
            " 14  Phone Service      7043 non-null   object \n",
            " 15  Multiple Lines     7043 non-null   object \n",
            " 16  Internet Service   7043 non-null   object \n",
            " 17  Online Security    7043 non-null   object \n",
            " 18  Online Backup      7043 non-null   object \n",
            " 19  Device Protection  7043 non-null   object \n",
            " 20  Tech Support       7043 non-null   object \n",
            " 21  Streaming TV       7043 non-null   object \n",
            " 22  Streaming Movies   7043 non-null   object \n",
            " 23  Contract           7043 non-null   object \n",
            " 24  Paperless Billing  7043 non-null   object \n",
            " 25  Payment Method     7043 non-null   object \n",
            " 26  Monthly Charges    7042 non-null   float64\n",
            " 27  Total Charges      7031 non-null   float64\n",
            " 28  Churn Label        7043 non-null   object \n",
            " 29  Churn Value        7043 non-null   object \n",
            " 30  Churn Score        7043 non-null   object \n",
            " 31  CLTV               7043 non-null   object \n",
            " 32  Churn Reason       1869 non-null   object \n",
            "dtypes: float64(4), int64(3), object(26)\n",
            "memory usage: 1.8+ MB\n",
            "None\n"
          ]
        }
      ]
    },
    {
      "cell_type": "code",
      "source": [
        "#Statistical summary of Total charges:\n",
        "cust_details['Total Charges'].describe(include='all')\n"
      ],
      "metadata": {
        "colab": {
          "base_uri": "https://localhost:8080/"
        },
        "id": "DVWEEzAGjoXU",
        "outputId": "dc76d205-7f8d-46ad-9f75-fd2f8e03ad0c"
      },
      "execution_count": null,
      "outputs": [
        {
          "output_type": "execute_result",
          "data": {
            "text/plain": [
              "count    7031.000000\n",
              "mean     2283.423937\n",
              "std      2266.908919\n",
              "min        18.800000\n",
              "25%       401.400000\n",
              "50%      1397.300000\n",
              "75%      3794.975000\n",
              "max      8684.800000\n",
              "Name: Total Charges, dtype: float64"
            ]
          },
          "metadata": {},
          "execution_count": 6
        }
      ]
    },
    {
      "cell_type": "markdown",
      "source": [
        "The average total charges for a customer is 2283.300.\n",
        "\n",
        "The median total charges is 1397.475.\n",
        "\n",
        "The standard deviation is also on the higher side, which means the data points are spread out far from the mean.\n",
        "\n",
        "The mean and median vary a lot which means that the data will be highly skewed.\n",
        "\n",
        "The maximum total charges a customer pays to the company is 8684.800 ."
      ],
      "metadata": {
        "id": "_YvxmNHVj_7X"
      }
    },
    {
      "cell_type": "code",
      "source": [
        "#Statistical summary of churn score:\n",
        "cust_details['Churn Score']= pd.to_numeric(cust_details['Churn Score'],errors='coerce')\n",
        "cust_details['Churn Score'].describe(include='all')\n"
      ],
      "metadata": {
        "colab": {
          "base_uri": "https://localhost:8080/"
        },
        "id": "H_dJ_RrOlKF0",
        "outputId": "ac357434-ca20-4b9b-a32f-7c87a7f29234"
      },
      "execution_count": null,
      "outputs": [
        {
          "output_type": "execute_result",
          "data": {
            "text/plain": [
              "count    7042.000000\n",
              "mean       58.698523\n",
              "std        21.526528\n",
              "min         5.000000\n",
              "25%        40.000000\n",
              "50%        61.000000\n",
              "75%        75.000000\n",
              "max       100.000000\n",
              "Name: Churn Score, dtype: float64"
            ]
          },
          "metadata": {},
          "execution_count": 7
        }
      ]
    },
    {
      "cell_type": "markdown",
      "source": [
        "The average churn score specifying the customer will leave is 58.69\n",
        "\n",
        "The median churn score that a customer leaves is 61.00.\n",
        "\n",
        "The standard deviation is also on the higher side, which means the data points are spread out far from the mean.\n",
        "\n",
        "The mean and median vary but not much which means that the data will be slightly skewed or close to normal distribution.\n",
        "\n",
        "The maximum a churn score a customer leaves the company is 100.00 ."
      ],
      "metadata": {
        "id": "-pnf6pOrmBlG"
      }
    },
    {
      "cell_type": "code",
      "source": [
        "#Statistical summary of CLTV:\n",
        "cust_details['CLTV']= pd.to_numeric(cust_details['CLTV'],errors='coerce')\n",
        "cust_details['CLTV'].describe(include='all')\n"
      ],
      "metadata": {
        "colab": {
          "base_uri": "https://localhost:8080/"
        },
        "id": "wG4nMUdFm-dm",
        "outputId": "13c0e2a2-be3c-4d29-dd48-3891ac893887"
      },
      "execution_count": null,
      "outputs": [
        {
          "output_type": "execute_result",
          "data": {
            "text/plain": [
              "count    7042.000000\n",
              "mean     4400.556376\n",
              "std      1182.938948\n",
              "min      2003.000000\n",
              "25%      3469.000000\n",
              "50%      4527.500000\n",
              "75%      5380.750000\n",
              "max      6500.000000\n",
              "Name: CLTV, dtype: float64"
            ]
          },
          "metadata": {},
          "execution_count": 8
        }
      ]
    },
    {
      "cell_type": "markdown",
      "source": [
        "The mean CLTV value that specifies the customers are valuable for the company is 4400.55\n",
        "\n",
        "The median CLTV value for a valuable customer is 4527.00.\n",
        "\n",
        "The standard deviation is also on the higher side, which means the data points are spread out far from the mean.\n",
        "\n",
        "The mean and median vary which means that the data will be slightly skewed.\n",
        "\n",
        "The maximum CLTV score specifying a customer is valuable is 6500.00."
      ],
      "metadata": {
        "id": "GiOnE5xlnWRB"
      }
    },
    {
      "cell_type": "code",
      "source": [
        "##Q3\n",
        "no_of_females=list(cust_details['Gender'])\n",
        "no_of_senior_citizens=list(cust_details['Senior Citizen'])\n",
        "y=no_of_senior_citizens.count('Yes')\n",
        "x=no_of_females.count('Female')\n",
        "print(x)\n",
        "print(y)"
      ],
      "metadata": {
        "colab": {
          "base_uri": "https://localhost:8080/"
        },
        "id": "-4kSgWuE9gbZ",
        "outputId": "67b8a379-9604-45b4-97a9-77e34d111a47"
      },
      "execution_count": null,
      "outputs": [
        {
          "output_type": "stream",
          "name": "stdout",
          "text": [
            "3488\n",
            "1142\n"
          ]
        }
      ]
    },
    {
      "cell_type": "code",
      "source": [
        "\n",
        "percentage_of_females = x/7043 * 100\n",
        "precentage_of_senior_citizens= y/7043*100 \n",
        "print(percentage_of_females)\n",
        "print(precentage_of_senior_citizens)\n",
        "\n"
      ],
      "metadata": {
        "colab": {
          "base_uri": "https://localhost:8080/"
        },
        "id": "5ATMOetQGpcU",
        "outputId": "511fa712-dac6-4097-d321-0970984904a1"
      },
      "execution_count": null,
      "outputs": [
        {
          "output_type": "stream",
          "name": "stdout",
          "text": [
            "49.5243504188556\n",
            "16.21468124378816\n"
          ]
        }
      ]
    },
    {
      "cell_type": "code",
      "source": [
        "Counts_of_males_and_females=cust_details['Gender'].value_counts()\n",
        "Counts_of_males_and_females"
      ],
      "metadata": {
        "colab": {
          "base_uri": "https://localhost:8080/"
        },
        "id": "2pXmjRVXRqy9",
        "outputId": "349163f5-04c3-4a42-eed4-3c13099ca577"
      },
      "execution_count": null,
      "outputs": [
        {
          "output_type": "execute_result",
          "data": {
            "text/plain": [
              "Male      3555\n",
              "Female    3488\n",
              "Name: Gender, dtype: int64"
            ]
          },
          "metadata": {},
          "execution_count": 11
        }
      ]
    },
    {
      "cell_type": "code",
      "source": [
        "labels=['Male','Female']\n",
        "colors=['Red','Orange']\n",
        "plt.pie(Counts_of_males_and_females,labels=labels , colors=colors, autopct='%.3f%%', explode=(.05,.05)) ##autopct argument is pased to calculate the percentage;.3f if for till how places after the decimal the value should continue \n",
        "plt.figure(figsize=(10,7))                                                                              ##explode has been used to seggregate the sections of the chart.\n",
        "plt.show()"
      ],
      "metadata": {
        "colab": {
          "base_uri": "https://localhost:8080/",
          "height": 265
        },
        "id": "RpFAJY-lQaQl",
        "outputId": "732bbe47-2fde-438b-bb25-a8525b65d411"
      },
      "execution_count": null,
      "outputs": [
        {
          "output_type": "display_data",
          "data": {
            "text/plain": [
              "<Figure size 432x288 with 1 Axes>"
            ],
            "image/png": "[encoded data removed]"
          },
          "metadata": {}
        },
        {
          "output_type": "display_data",
          "data": {
            "text/plain": [
              "<Figure size 720x504 with 0 Axes>"
            ]
          },
          "metadata": {}
        }
      ]
    },
    {
      "cell_type": "markdown",
      "source": [
        "The pie chart shows the percentage distribution of male and female customers of the company, and we can specify with the help of pie chart that males are more in numbers than the females among all the customers of the company."
      ],
      "metadata": {
        "id": "1M30TBdJV4Bt"
      }
    },
    {
      "cell_type": "code",
      "source": [
        "Counts_of_senior_citizens=cust_details['Senior Citizen'].value_counts()\n",
        "Counts_of_senior_citizens"
      ],
      "metadata": {
        "colab": {
          "base_uri": "https://localhost:8080/"
        },
        "id": "ql75SQ9CUhxy",
        "outputId": "d2f7013b-b7af-45f5-a51e-a48dcdf82687"
      },
      "execution_count": null,
      "outputs": [
        {
          "output_type": "execute_result",
          "data": {
            "text/plain": [
              "No     5901\n",
              "Yes    1142\n",
              "Name: Senior Citizen, dtype: int64"
            ]
          },
          "metadata": {},
          "execution_count": 13
        }
      ]
    },
    {
      "cell_type": "code",
      "source": [
        "labels=['Non-senior-citizens','Senior Citizen']\n",
        "colors=['Red','Orange']\n",
        "plt.pie(Counts_of_senior_citizens,labels=labels , colors=colors, autopct='%.3f%%', explode=(.05,.05)) ##autopct argument is pased to calculate the percentage;.3f if for till how places after the decimal the value should continue \n",
        "plt.figure(figsize=(10,7))                                                                            ##explode has been used to seggregate the sections of the chart.\n",
        "plt.show()"
      ],
      "metadata": {
        "colab": {
          "base_uri": "https://localhost:8080/",
          "height": 265
        },
        "id": "pNF1k94uU3dC",
        "outputId": "8593341a-81f3-4060-abd5-53bda5115cb4"
      },
      "execution_count": null,
      "outputs": [
        {
          "output_type": "display_data",
          "data": {
            "text/plain": [
              "<Figure size 432x288 with 1 Axes>"
            ],
            "image/png": "[encoded data removed]"
          },
          "metadata": {}
        },
        {
          "output_type": "display_data",
          "data": {
            "text/plain": [
              "<Figure size 720x504 with 0 Axes>"
            ]
          },
          "metadata": {}
        }
      ]
    },
    {
      "cell_type": "markdown",
      "source": [
        "The pie chart shows the percentage distribution of senior citizens and non-senior citizens of the customers of the company, and the chart specifies that the percentage of senior citizens are very low compared to the non-senior citizens, i.e majority of the customers of the company are young or middle aged people."
      ],
      "metadata": {
        "id": "pOkul4x1rRTE"
      }
    },
    {
      "cell_type": "code",
      "source": [
        "##q4\n",
        "tenure_month=cust_details['Tenure Months']\n",
        "tenure_month"
      ],
      "metadata": {
        "colab": {
          "base_uri": "https://localhost:8080/"
        },
        "id": "BWiSLfbnskBJ",
        "outputId": "f59d4b33-61d9-42b5-8578-30f9e82c2cec"
      },
      "execution_count": null,
      "outputs": [
        {
          "output_type": "execute_result",
          "data": {
            "text/plain": [
              "0        2\n",
              "1        2\n",
              "2        8\n",
              "3       28\n",
              "4       49\n",
              "        ..\n",
              "7038    72\n",
              "7039    24\n",
              "7040    72\n",
              "7041    11\n",
              "7042    66\n",
              "Name: Tenure Months, Length: 7043, dtype: int64"
            ]
          },
          "metadata": {},
          "execution_count": 15
        }
      ]
    },
    {
      "cell_type": "code",
      "source": [
        "##statistical operations on tenure_month\n",
        "print(tenure_month.mean()) ##calculating average time period a customer stays with the company\n",
        "print(tenure_month.median()) ##the median tenure a customer stayed with the company\n",
        "print(tenure_month.max()) ##finding out the maximum number of months a customer has stayed with the company\n",
        "print(tenure_month.min()) ##finding out the minimum number of months a customer has stayed with the company\n",
        "print(tenure_month.var()) ##calculating the variance \n",
        "print(tenure_month.std()) ##calculating the standard deviation\n",
        "q3,q1=np.percentile(tenure_month,[75,25]) ##finding out the fist quartile and third quatile of the distribution \n",
        "iqr=q3-q1 ##calculating the inter quartile range\n",
        "print(iqr) ##printing the inter quartile range\n"
      ],
      "metadata": {
        "colab": {
          "base_uri": "https://localhost:8080/"
        },
        "id": "bWVgDsdCtjVp",
        "outputId": "516587b2-e5c6-479c-f3b9-accac7f5dbb2"
      },
      "execution_count": null,
      "outputs": [
        {
          "output_type": "stream",
          "name": "stdout",
          "text": [
            "32.37114865824223\n",
            "29.0\n",
            "72\n",
            "0\n",
            "603.1681081237301\n",
            "24.55948102309432\n",
            "46.0\n"
          ]
        }
      ]
    },
    {
      "cell_type": "markdown",
      "source": [
        "Average time period a customer stays with the company is 32.37 months\n",
        "The median number of months a customer stays with the company is 29\n",
        "The maximum number of months customers have stayed with the company is 72\n",
        "The standard deviation is specifying how much deviated are the data points from the mean of the distribution.\n",
        "\n",
        "The inter quartile range gives the difference between the 75th percentile and 25th percentile value of the distribution."
      ],
      "metadata": {
        "id": "csa1T6Lp5ZFB"
      }
    },
    {
      "cell_type": "code",
      "source": [
        "print(cust_details['Tenure Months'].skew(axis=0))\n",
        "plt.hist(tenure_month ,color='Red')\n",
        "plt.title('Frequency distribution of tenure months')\n",
        "plt.xlabel('tenure months')\n",
        "plt.ylabel('no. of customers')\n",
        "plt.show()"
      ],
      "metadata": {
        "colab": {
          "base_uri": "https://localhost:8080/",
          "height": 312
        },
        "id": "ISx1H7Stxybw",
        "outputId": "f6540fc2-6e48-4453-998e-c63b24753ca5"
      },
      "execution_count": null,
      "outputs": [
        {
          "output_type": "stream",
          "name": "stdout",
          "text": [
            "0.2395397495619829\n"
          ]
        },
        {
          "output_type": "display_data",
          "data": {
            "text/plain": [
              "<Figure size 432x288 with 1 Axes>"
            ],
            "image/png": "[encoded data removed]"
          },
          "metadata": {
            "needs_background": "light"
          }
        }
      ]
    },
    {
      "cell_type": "markdown",
      "source": [
        "The histogram shows the frequency distribution of the months and number of customers who have stayed with the company.\n",
        "\n",
        "Looking at the histogram it is quite evident the data is not normally distributed and is right skewed, as majority of the data points lie towards the right side of the histogram."
      ],
      "metadata": {
        "id": "oJ8vLpg-3bmy"
      }
    },
    {
      "cell_type": "code",
      "source": [
        "##q5\n",
        "##gender,senior citizen, partners , dependents , paperless billing, phone service\n",
        "cust_details\n",
        "cust_details1=pd.get_dummies(cust_details['Gender']) ##using get_dummies() to convert categorical data into boolean values.\n",
        "cust_details2=pd.get_dummies(cust_details['Senior Citizen'])\n",
        "cust_details3=pd.get_dummies(cust_details['Partner'])\n",
        "cust_details4=pd.get_dummies(cust_details['Dependents'])\n",
        "cust_details5=pd.get_dummies(cust_details['Paperless Billing'])\n",
        "cust_details6=pd.get_dummies(cust_details['Phone Service'])\n",
        "frames=[cust_details,cust_details1,cust_details2,cust_details3,cust_details4,cust_details5,cust_details6]\n",
        "result=pd.concat(frames,axis=1)\n",
        "result"
      ],
      "metadata": {
        "colab": {
          "base_uri": "https://localhost:8080/",
          "height": 659
        },
        "id": "upawgxAO3aKf",
        "outputId": "3bf71eb9-3a96-4d8d-db94-2c34382f6393"
      },
      "execution_count": null,
      "outputs": [
        {
          "output_type": "execute_result",
          "data": {
            "text/plain": [
              "      CustomerID  Count        Country       State          City  Zip Code  \\\n",
              "0     3668-QPYBK      1  United States  California   Los Angeles     90003   \n",
              "1     9237-HQITU      1  United States  California   Los Angeles     90005   \n",
              "2     9305-CDSKC      1  United States  California   Los Angeles     90006   \n",
              "3     7892-POOKP      1  United States  California   Los Angeles     90010   \n",
              "4     0280-XJGEX      1  United States  California   Los Angeles     90015   \n",
              "...          ...    ...            ...         ...           ...       ...   \n",
              "7038  2569-WGERO      1  United States  California       Landers     92285   \n",
              "7039  6840-RESVB      1  United States  California      Adelanto     92301   \n",
              "7040  2234-XADUH      1  United States  California         Amboy     92304   \n",
              "7041  4801-JZAZL      1  United States  California  Angelus Oaks     92305   \n",
              "7042  3186-AJIEK      1  United States  California  Apple Valley     92308   \n",
              "\n",
              "                    Lat Long   Latitude   Longitude  Gender  ... No Yes No  \\\n",
              "0     33.964131, -118.272783  33.964131 -118.272783    Male  ...  1   0  1   \n",
              "1      34.059281, -118.30742  34.059281 -118.307420  Female  ...  1   0  1   \n",
              "2     34.048013, -118.293953  34.048013 -118.293953  Female  ...  1   0  1   \n",
              "3     34.062125, -118.315709  34.062125 -118.315709  Female  ...  1   0  0   \n",
              "4     34.039224, -118.266293  34.039224 -118.266293    Male  ...  1   0  1   \n",
              "...                      ...        ...         ...     ...  ... ..  .. ..   \n",
              "7038  34.341737, -116.539416  34.341737 -116.539416  Female  ...  1   0  1   \n",
              "7039  34.667815, -117.536183  34.667815 -117.536183    Male  ...  1   0  0   \n",
              "7040  34.559882, -115.637164  34.559882 -115.637164  Female  ...  1   0  0   \n",
              "7041     34.1678, -116.86433  34.167800 -116.864330  Female  ...  1   0  0   \n",
              "7042  34.424926, -117.184503  34.424926 -117.184503    Male  ...  1   0  1   \n",
              "\n",
              "     Yes No Yes No Yes No Yes  \n",
              "0      0  1   0  0   1  0   1  \n",
              "1      0  0   1  0   1  0   1  \n",
              "2      0  0   1  0   1  0   1  \n",
              "3      1  0   1  0   1  0   1  \n",
              "4      0  0   1  0   1  0   1  \n",
              "...   .. ..  .. ..  .. ..  ..  \n",
              "7038   0  1   0  0   1  0   1  \n",
              "7039   1  0   1  0   1  0   1  \n",
              "7040   1  0   1  0   1  0   1  \n",
              "7041   1  0   1  0   1  1   0  \n",
              "7042   0  1   0  0   1  0   1  \n",
              "\n",
              "[7043 rows x 45 columns]"
            ],
            "text/html": [
              "\n",
              "  <div id=\"df-6b5f4fb0-a875-41ba-b91f-e038b6887733\">\n",
              "    <div class=\"colab-df-container\">\n",
              "      <div>\n",
              "<style scoped>\n",
              "    .dataframe tbody tr th:only-of-type {\n",
              "        vertical-align: middle;\n",
              "    }\n",
              "\n",
              "    .dataframe tbody tr th {\n",
              "        vertical-align: top;\n",
              "    }\n",
              "\n",
              "    .dataframe thead th {\n",
              "        text-align: right;\n",
              "    }\n",
              "</style>\n",
              "<table border=\"1\" class=\"dataframe\">\n",
              "  <thead>\n",
              "    <tr style=\"text-align: right;\">\n",
              "      <th></th>\n",
              "      <th>CustomerID</th>\n",
              "      <th>Count</th>\n",
              "      <th>Country</th>\n",
              "      <th>State</th>\n",
              "      <th>City</th>\n",
              "      <th>Zip Code</th>\n",
              "      <th>Lat Long</th>\n",
              "      <th>Latitude</th>\n",
              "      <th>Longitude</th>\n",
              "      <th>Gender</th>\n",
              "      <th>...</th>\n",
              "      <th>No</th>\n",
              "      <th>Yes</th>\n",
              "      <th>No</th>\n",
              "      <th>Yes</th>\n",
              "      <th>No</th>\n",
              "      <th>Yes</th>\n",
              "      <th>No</th>\n",
              "      <th>Yes</th>\n",
              "      <th>No</th>\n",
              "      <th>Yes</th>\n",
              "    </tr>\n",
              "  </thead>\n",
              "  <tbody>\n",
              "    <tr>\n",
              "      <th>0</th>\n",
              "      <td>3668-QPYBK</td>\n",
              "      <td>1</td>\n",
              "      <td>United States</td>\n",
              "      <td>California</td>\n",
              "      <td>Los Angeles</td>\n",
              "      <td>90003</td>\n",
              "      <td>33.964131, -118.272783</td>\n",
              "      <td>33.964131</td>\n",
              "      <td>-118.272783</td>\n",
              "      <td>Male</td>\n",
              "      <td>...</td>\n",
              "      <td>1</td>\n",
              "      <td>0</td>\n",
              "      <td>1</td>\n",
              "      <td>0</td>\n",
              "      <td>1</td>\n",
              "      <td>0</td>\n",
              "      <td>0</td>\n",
              "      <td>1</td>\n",
              "      <td>0</td>\n",
              "      <td>1</td>\n",
              "    </tr>\n",
              "    <tr>\n",
              "      <th>1</th>\n",
              "      <td>9237-HQITU</td>\n",
              "      <td>1</td>\n",
              "      <td>United States</td>\n",
              "      <td>California</td>\n",
              "      <td>Los Angeles</td>\n",
              "      <td>90005</td>\n",
              "      <td>34.059281, -118.30742</td>\n",
              "      <td>34.059281</td>\n",
              "      <td>-118.307420</td>\n",
              "      <td>Female</td>\n",
              "      <td>...</td>\n",
              "      <td>1</td>\n",
              "      <td>0</td>\n",
              "      <td>1</td>\n",
              "      <td>0</td>\n",
              "      <td>0</td>\n",
              "      <td>1</td>\n",
              "      <td>0</td>\n",
              "      <td>1</td>\n",
              "      <td>0</td>\n",
              "      <td>1</td>\n",
              "    </tr>\n",
              "    <tr>\n",
              "      <th>2</th>\n",
              "      <td>9305-CDSKC</td>\n",
              "      <td>1</td>\n",
              "      <td>United States</td>\n",
              "      <td>California</td>\n",
              "      <td>Los Angeles</td>\n",
              "      <td>90006</td>\n",
              "      <td>34.048013, -118.293953</td>\n",
              "      <td>34.048013</td>\n",
              "      <td>-118.293953</td>\n",
              "      <td>Female</td>\n",
              "      <td>...</td>\n",
              "      <td>1</td>\n",
              "      <td>0</td>\n",
              "      <td>1</td>\n",
              "      <td>0</td>\n",
              "      <td>0</td>\n",
              "      <td>1</td>\n",
              "      <td>0</td>\n",
              "      <td>1</td>\n",
              "      <td>0</td>\n",
              "      <td>1</td>\n",
              "    </tr>\n",
              "    <tr>\n",
              "      <th>3</th>\n",
              "      <td>7892-POOKP</td>\n",
              "      <td>1</td>\n",
              "      <td>United States</td>\n",
              "      <td>California</td>\n",
              "      <td>Los Angeles</td>\n",
              "      <td>90010</td>\n",
              "      <td>34.062125, -118.315709</td>\n",
              "      <td>34.062125</td>\n",
              "      <td>-118.315709</td>\n",
              "      <td>Female</td>\n",
              "      <td>...</td>\n",
              "      <td>1</td>\n",
              "      <td>0</td>\n",
              "      <td>0</td>\n",
              "      <td>1</td>\n",
              "      <td>0</td>\n",
              "      <td>1</td>\n",
              "      <td>0</td>\n",
              "      <td>1</td>\n",
              "      <td>0</td>\n",
              "      <td>1</td>\n",
              "    </tr>\n",
              "    <tr>\n",
              "      <th>4</th>\n",
              "      <td>0280-XJGEX</td>\n",
              "      <td>1</td>\n",
              "      <td>United States</td>\n",
              "      <td>California</td>\n",
              "      <td>Los Angeles</td>\n",
              "      <td>90015</td>\n",
              "      <td>34.039224, -118.266293</td>\n",
              "      <td>34.039224</td>\n",
              "      <td>-118.266293</td>\n",
              "      <td>Male</td>\n",
              "      <td>...</td>\n",
              "      <td>1</td>\n",
              "      <td>0</td>\n",
              "      <td>1</td>\n",
              "      <td>0</td>\n",
              "      <td>0</td>\n",
              "      <td>1</td>\n",
              "      <td>0</td>\n",
              "      <td>1</td>\n",
              "      <td>0</td>\n",
              "      <td>1</td>\n",
              "    </tr>\n",
              "    <tr>\n",
              "      <th>...</th>\n",
              "      <td>...</td>\n",
              "      <td>...</td>\n",
              "      <td>...</td>\n",
              "      <td>...</td>\n",
              "      <td>...</td>\n",
              "      <td>...</td>\n",
              "      <td>...</td>\n",
              "      <td>...</td>\n",
              "      <td>...</td>\n",
              "      <td>...</td>\n",
              "      <td>...</td>\n",
              "      <td>...</td>\n",
              "      <td>...</td>\n",
              "      <td>...</td>\n",
              "      <td>...</td>\n",
              "      <td>...</td>\n",
              "      <td>...</td>\n",
              "      <td>...</td>\n",
              "      <td>...</td>\n",
              "      <td>...</td>\n",
              "      <td>...</td>\n",
              "    </tr>\n",
              "    <tr>\n",
              "      <th>7038</th>\n",
              "      <td>2569-WGERO</td>\n",
              "      <td>1</td>\n",
              "      <td>United States</td>\n",
              "      <td>California</td>\n",
              "      <td>Landers</td>\n",
              "      <td>92285</td>\n",
              "      <td>34.341737, -116.539416</td>\n",
              "      <td>34.341737</td>\n",
              "      <td>-116.539416</td>\n",
              "      <td>Female</td>\n",
              "      <td>...</td>\n",
              "      <td>1</td>\n",
              "      <td>0</td>\n",
              "      <td>1</td>\n",
              "      <td>0</td>\n",
              "      <td>1</td>\n",
              "      <td>0</td>\n",
              "      <td>0</td>\n",
              "      <td>1</td>\n",
              "      <td>0</td>\n",
              "      <td>1</td>\n",
              "    </tr>\n",
              "    <tr>\n",
              "      <th>7039</th>\n",
              "      <td>6840-RESVB</td>\n",
              "      <td>1</td>\n",
              "      <td>United States</td>\n",
              "      <td>California</td>\n",
              "      <td>Adelanto</td>\n",
              "      <td>92301</td>\n",
              "      <td>34.667815, -117.536183</td>\n",
              "      <td>34.667815</td>\n",
              "      <td>-117.536183</td>\n",
              "      <td>Male</td>\n",
              "      <td>...</td>\n",
              "      <td>1</td>\n",
              "      <td>0</td>\n",
              "      <td>0</td>\n",
              "      <td>1</td>\n",
              "      <td>0</td>\n",
              "      <td>1</td>\n",
              "      <td>0</td>\n",
              "      <td>1</td>\n",
              "      <td>0</td>\n",
              "      <td>1</td>\n",
              "    </tr>\n",
              "    <tr>\n",
              "      <th>7040</th>\n",
              "      <td>2234-XADUH</td>\n",
              "      <td>1</td>\n",
              "      <td>United States</td>\n",
              "      <td>California</td>\n",
              "      <td>Amboy</td>\n",
              "      <td>92304</td>\n",
              "      <td>34.559882, -115.637164</td>\n",
              "      <td>34.559882</td>\n",
              "      <td>-115.637164</td>\n",
              "      <td>Female</td>\n",
              "      <td>...</td>\n",
              "      <td>1</td>\n",
              "      <td>0</td>\n",
              "      <td>0</td>\n",
              "      <td>1</td>\n",
              "      <td>0</td>\n",
              "      <td>1</td>\n",
              "      <td>0</td>\n",
              "      <td>1</td>\n",
              "      <td>0</td>\n",
              "      <td>1</td>\n",
              "    </tr>\n",
              "    <tr>\n",
              "      <th>7041</th>\n",
              "      <td>4801-JZAZL</td>\n",
              "      <td>1</td>\n",
              "      <td>United States</td>\n",
              "      <td>California</td>\n",
              "      <td>Angelus Oaks</td>\n",
              "      <td>92305</td>\n",
              "      <td>34.1678, -116.86433</td>\n",
              "      <td>34.167800</td>\n",
              "      <td>-116.864330</td>\n",
              "      <td>Female</td>\n",
              "      <td>...</td>\n",
              "      <td>1</td>\n",
              "      <td>0</td>\n",
              "      <td>0</td>\n",
              "      <td>1</td>\n",
              "      <td>0</td>\n",
              "      <td>1</td>\n",
              "      <td>0</td>\n",
              "      <td>1</td>\n",
              "      <td>1</td>\n",
              "      <td>0</td>\n",
              "    </tr>\n",
              "    <tr>\n",
              "      <th>7042</th>\n",
              "      <td>3186-AJIEK</td>\n",
              "      <td>1</td>\n",
              "      <td>United States</td>\n",
              "      <td>California</td>\n",
              "      <td>Apple Valley</td>\n",
              "      <td>92308</td>\n",
              "      <td>34.424926, -117.184503</td>\n",
              "      <td>34.424926</td>\n",
              "      <td>-117.184503</td>\n",
              "      <td>Male</td>\n",
              "      <td>...</td>\n",
              "      <td>1</td>\n",
              "      <td>0</td>\n",
              "      <td>1</td>\n",
              "      <td>0</td>\n",
              "      <td>1</td>\n",
              "      <td>0</td>\n",
              "      <td>0</td>\n",
              "      <td>1</td>\n",
              "      <td>0</td>\n",
              "      <td>1</td>\n",
              "    </tr>\n",
              "  </tbody>\n",
              "</table>\n",
              "<p>7043 rows × 45 columns</p>\n",
              "</div>\n",
              "      <button class=\"colab-df-convert\" onclick=\"convertToInteractive('df-6b5f4fb0-a875-41ba-b91f-e038b6887733')\"\n",
              "              title=\"Convert this dataframe to an interactive table.\"\n",
              "              style=\"display:none;\">\n",
              "        \n",
              "  <svg xmlns=\"http://www.w3.org/2000/svg\" height=\"24px\"viewBox=\"0 0 24 24\"\n",
              "       width=\"24px\">\n",
              "    <path d=\"M0 0h24v24H0V0z\" fill=\"none\"/>\n",
              "    <path d=\"M18.56 5.44l.94 2.06.94-2.06 2.06-.94-2.06-.94-.94-2.06-.94 2.06-2.06.94zm-11 1L8.5 8.5l.94-2.06 2.06-.94-2.06-.94L8.5 2.5l-.94 2.06-2.06.94zm10 10l.94 2.06.94-2.06 2.06-.94-2.06-.94-.94-2.06-.94 2.06-2.06.94z\"/><path d=\"M17.41 7.96l-1.37-1.37c-.4-.4-.92-.59-1.43-.59-.52 0-1.04.2-1.43.59L10.3 9.45l-7.72 7.72c-.78.78-.78 2.05 0 2.83L4 21.41c.39.39.9.59 1.41.59.51 0 1.02-.2 1.41-.59l7.78-7.78 2.81-2.81c.8-.78.8-2.07 0-2.86zM5.41 20L4 18.59l7.72-7.72 1.47 1.35L5.41 20z\"/>\n",
              "  </svg>\n",
              "      </button>\n",
              "      \n",
              "  <style>\n",
              "    .colab-df-container {\n",
              "      display:flex;\n",
              "      flex-wrap:wrap;\n",
              "      gap: 12px;\n",
              "    }\n",
              "\n",
              "    .colab-df-convert {\n",
              "      background-color: #E8F0FE;\n",
              "      border: none;\n",
              "      border-radius: 50%;\n",
              "      cursor: pointer;\n",
              "      display: none;\n",
              "      fill: #1967D2;\n",
              "      height: 32px;\n",
              "      padding: 0 0 0 0;\n",
              "      width: 32px;\n",
              "    }\n",
              "\n",
              "    .colab-df-convert:hover {\n",
              "      background-color: #E2EBFA;\n",
              "      box-shadow: 0px 1px 2px rgba(60, 64, 67, 0.3), 0px 1px 3px 1px rgba(60, 64, 67, 0.15);\n",
              "      fill: #174EA6;\n",
              "    }\n",
              "\n",
              "    [theme=dark] .colab-df-convert {\n",
              "      background-color: #3B4455;\n",
              "      fill: #D2E3FC;\n",
              "    }\n",
              "\n",
              "    [theme=dark] .colab-df-convert:hover {\n",
              "      background-color: #434B5C;\n",
              "      box-shadow: 0px 1px 3px 1px rgba(0, 0, 0, 0.15);\n",
              "      filter: drop-shadow(0px 1px 2px rgba(0, 0, 0, 0.3));\n",
              "      fill: #FFFFFF;\n",
              "    }\n",
              "  </style>\n",
              "\n",
              "      <script>\n",
              "        const buttonEl =\n",
              "          document.querySelector('#df-6b5f4fb0-a875-41ba-b91f-e038b6887733 button.colab-df-convert');\n",
              "        buttonEl.style.display =\n",
              "          google.colab.kernel.accessAllowed ? 'block' : 'none';\n",
              "\n",
              "        async function convertToInteractive(key) {\n",
              "          const element = document.querySelector('#df-6b5f4fb0-a875-41ba-b91f-e038b6887733');\n",
              "          const dataTable =\n",
              "            await google.colab.kernel.invokeFunction('convertToInteractive',\n",
              "                                                     [key], {});\n",
              "          if (!dataTable) return;\n",
              "\n",
              "          const docLinkHtml = 'Like what you see? Visit the ' +\n",
              "            '<a target=\"_blank\" href=https://colab.research.google.com/notebooks/data_table.ipynb>data table notebook</a>'\n",
              "            + ' to learn more about interactive tables.';\n",
              "          element.innerHTML = '';\n",
              "          dataTable['output_type'] = 'display_data';\n",
              "          await google.colab.output.renderOutput(dataTable, element);\n",
              "          const docLink = document.createElement('div');\n",
              "          docLink.innerHTML = docLinkHtml;\n",
              "          element.appendChild(docLink);\n",
              "        }\n",
              "      </script>\n",
              "    </div>\n",
              "  </div>\n",
              "  "
            ]
          },
          "metadata": {},
          "execution_count": 18
        }
      ]
    },
    {
      "cell_type": "code",
      "source": [
        "print(result['Male'], result['Female']) ##printing binary values for gender category; Male , Female."
      ],
      "metadata": {
        "colab": {
          "base_uri": "https://localhost:8080/"
        },
        "id": "9eFmn4c9P94n",
        "outputId": "818bf8a9-da1b-4741-e729-5d03192c7ac2"
      },
      "execution_count": null,
      "outputs": [
        {
          "output_type": "stream",
          "name": "stdout",
          "text": [
            "0       1\n",
            "1       0\n",
            "2       0\n",
            "3       0\n",
            "4       1\n",
            "       ..\n",
            "7038    0\n",
            "7039    1\n",
            "7040    0\n",
            "7041    0\n",
            "7042    1\n",
            "Name: Male, Length: 7043, dtype: uint8 0       0\n",
            "1       1\n",
            "2       1\n",
            "3       1\n",
            "4       0\n",
            "       ..\n",
            "7038    1\n",
            "7039    0\n",
            "7040    1\n",
            "7041    1\n",
            "7042    0\n",
            "Name: Female, Length: 7043, dtype: uint8\n"
          ]
        }
      ]
    },
    {
      "cell_type": "markdown",
      "source": [
        "Firstly we have created 6 dataframes of categories which are converted into binary values using the get_dummies() function ; then we have created a varable frames which contains all the 6 newly created data frames along with the original data frame, and then we have performed the concat() function to merge all the dataframes and finally return the result which also contains binary values for the categorical data along with the categories."
      ],
      "metadata": {
        "id": "rQoNQBUFObmb"
      }
    },
    {
      "cell_type": "code",
      "source": [
        "result1=pd.concat(frames,axis=1)\n",
        "result1=result1.drop(['Gender'],axis=1)\n",
        "result1=result1.drop(['Male'],axis=1)\n",
        "result1=result1.rename(columns={'Female':'Gender'}) ##we can also drop and rename columns into single column with binary values\n",
        "print(result1)"
      ],
      "metadata": {
        "colab": {
          "base_uri": "https://localhost:8080/"
        },
        "id": "T6EuzPPtgrb1",
        "outputId": "baa80dd6-eb8c-43f1-d1b7-b2702da2722b"
      },
      "execution_count": null,
      "outputs": [
        {
          "output_type": "stream",
          "name": "stdout",
          "text": [
            "      CustomerID  Count        Country       State          City  Zip Code  \\\n",
            "0     3668-QPYBK      1  United States  California   Los Angeles     90003   \n",
            "1     9237-HQITU      1  United States  California   Los Angeles     90005   \n",
            "2     9305-CDSKC      1  United States  California   Los Angeles     90006   \n",
            "3     7892-POOKP      1  United States  California   Los Angeles     90010   \n",
            "4     0280-XJGEX      1  United States  California   Los Angeles     90015   \n",
            "...          ...    ...            ...         ...           ...       ...   \n",
            "7038  2569-WGERO      1  United States  California       Landers     92285   \n",
            "7039  6840-RESVB      1  United States  California      Adelanto     92301   \n",
            "7040  2234-XADUH      1  United States  California         Amboy     92304   \n",
            "7041  4801-JZAZL      1  United States  California  Angelus Oaks     92305   \n",
            "7042  3186-AJIEK      1  United States  California  Apple Valley     92308   \n",
            "\n",
            "                    Lat Long   Latitude   Longitude Senior Citizen  ... No  \\\n",
            "0     33.964131, -118.272783  33.964131 -118.272783             No  ...  1   \n",
            "1      34.059281, -118.30742  34.059281 -118.307420             No  ...  1   \n",
            "2     34.048013, -118.293953  34.048013 -118.293953             No  ...  1   \n",
            "3     34.062125, -118.315709  34.062125 -118.315709             No  ...  1   \n",
            "4     34.039224, -118.266293  34.039224 -118.266293             No  ...  1   \n",
            "...                      ...        ...         ...            ...  ... ..   \n",
            "7038  34.341737, -116.539416  34.341737 -116.539416             No  ...  1   \n",
            "7039  34.667815, -117.536183  34.667815 -117.536183             No  ...  1   \n",
            "7040  34.559882, -115.637164  34.559882 -115.637164             No  ...  1   \n",
            "7041     34.1678, -116.86433  34.167800 -116.864330             No  ...  1   \n",
            "7042  34.424926, -117.184503  34.424926 -117.184503             No  ...  1   \n",
            "\n",
            "     Yes No Yes No Yes No Yes No Yes  \n",
            "0      0  1   0  1   0  0   1  0   1  \n",
            "1      0  1   0  0   1  0   1  0   1  \n",
            "2      0  1   0  0   1  0   1  0   1  \n",
            "3      0  0   1  0   1  0   1  0   1  \n",
            "4      0  1   0  0   1  0   1  0   1  \n",
            "...   .. ..  .. ..  .. ..  .. ..  ..  \n",
            "7038   0  1   0  1   0  0   1  0   1  \n",
            "7039   0  0   1  0   1  0   1  0   1  \n",
            "7040   0  0   1  0   1  0   1  0   1  \n",
            "7041   0  0   1  0   1  0   1  1   0  \n",
            "7042   0  1   0  1   0  0   1  0   1  \n",
            "\n",
            "[7043 rows x 43 columns]\n"
          ]
        }
      ]
    },
    {
      "cell_type": "code",
      "source": [
        "print(result1['Gender']) ##printing gender column after dropping,renaming it with all the binary values ; we can do it for all other columns as well."
      ],
      "metadata": {
        "colab": {
          "base_uri": "https://localhost:8080/"
        },
        "id": "aDKlVccfi8f3",
        "outputId": "8f6dc5ad-66d1-4a73-8037-562cae6419d3"
      },
      "execution_count": null,
      "outputs": [
        {
          "output_type": "stream",
          "name": "stdout",
          "text": [
            "0       0\n",
            "1       1\n",
            "2       1\n",
            "3       1\n",
            "4       0\n",
            "       ..\n",
            "7038    1\n",
            "7039    0\n",
            "7040    1\n",
            "7041    1\n",
            "7042    0\n",
            "Name: Gender, Length: 7043, dtype: uint8\n"
          ]
        }
      ]
    },
    {
      "cell_type": "code",
      "source": [
        "##q6\n",
        "average_monthly_charges=cust_details.groupby(by='Gender') ['Monthly Charges'].mean()\n",
        "print(average_monthly_charges)\n",
        "sns.boxplot(data=cust_details,x='Gender',y='Monthly Charges' , showmeans=True)\n",
        "plt.grid(True)\n",
        "plt.title('Box plot comparison of gender against monthly charges')\n",
        "\n"
      ],
      "metadata": {
        "colab": {
          "base_uri": "https://localhost:8080/",
          "height": 382
        },
        "id": "msrjERH6lanz",
        "outputId": "7c0fd362-258b-4a09-be96-87cdbf295846"
      },
      "execution_count": null,
      "outputs": [
        {
          "output_type": "stream",
          "name": "stdout",
          "text": [
            "Gender\n",
            "Female    65.194221\n",
            "Male      64.327482\n",
            "Name: Monthly Charges, dtype: float64\n"
          ]
        },
        {
          "output_type": "execute_result",
          "data": {
            "text/plain": [
              "Text(0.5, 1.0, 'Box plot comparison of gender against monthly charges')"
            ]
          },
          "metadata": {},
          "execution_count": 22
        },
        {
          "output_type": "display_data",
          "data": {
            "text/plain": [
              "<Figure size 432x288 with 1 Axes>"
            ],
            "image/png": "[encoded data removed]"
          },
          "metadata": {
            "needs_background": "light"
          }
        }
      ]
    },
    {
      "cell_type": "markdown",
      "source": [
        "The box plots represent the monthly charges of males and females,\n",
        "on calculating we can find out that on an average females have to pay a higher monthly charge than males.\n",
        "\n",
        "The box plot also helps us to identify that there are no outliers in monthly charges for both males as well as females."
      ],
      "metadata": {
        "id": "L4UwCt_O2cwd"
      }
    },
    {
      "cell_type": "code",
      "source": [
        "##q7\n",
        "res=cust_details.groupby(by='City') ['Total Charges'].unique() ## grouping by the cities and storing unique total charges of each city and storing them in variable res\n",
        "res\n",
        "print(res['Los Angeles']) ##printing the unique total charges of city los Angeles\n",
        "print(res.loc['Los Angeles'].min()) ##printing the minimum total charge among all the unique total charges of Los Angeles\n"
      ],
      "metadata": {
        "colab": {
          "base_uri": "https://localhost:8080/"
        },
        "id": "BPvHFbbQqa99",
        "outputId": "23842493-8685-4a42-c853-879bf2db9b06"
      },
      "execution_count": null,
      "outputs": [
        {
          "output_type": "stream",
          "name": "stdout",
          "text": [
            "[ 108.15  151.65  820.5  3046.05 5036.3   528.35   39.65   20.15 4749.15\n",
            "   30.2  1093.1   316.9  3549.25 1105.4   144.15 1426.4   633.3  1752.55\n",
            "  134.5  5341.8   324.6  4812.75 4399.5    50.15 4594.95 2384.15 1616.15\n",
            "   34.7   264.8  6615.15 2200.25   99.75  299.7    78.45  255.25  146.9\n",
            "  762.5   338.9  2497.35 4913.3    46.3  4443.45 1095.65  446.05  811.8\n",
            " 1056.95   44.15  834.15   85.45  239.55   59.2  1060.6    54.9  2254.2\n",
            "  742.95 4816.7  1834.95  305.1   155.65  108.7    44.1   712.75 6405.\n",
            " 1637.4  6145.85 1740.7   552.95   93.7  1046.5   834.2  4134.85  899.8\n",
            "  108.05 1193.05   20.1    69.9  4528.     80.8   118.3    76.45 1094.5\n",
            "  573.75 2274.9    74.5  1068.85  762.25  582.5  2122.05   69.15   29.85\n",
            " 1889.5  1840.75 1949.4   301.9  3487.95  587.45  326.8  5681.1  2686.05\n",
            " 7895.15 1022.95 7382.25 1862.9   202.25 3505.1  2970.3  1530.6  6369.45\n",
            " 6766.95  181.65 1874.45   20.2    45.25 7251.7  3548.3   475.7  4872.35\n",
            "  418.25 4861.45  981.45 3906.7    97.   4217.8  4254.1  3838.75 1752.65\n",
            " 4456.35 6311.2  7076.35  894.3  4707.1  5450.7   592.75 1185.95   18.8\n",
            " 4921.2   901.25 4859.95 1139.2  7082.45  663.55  174.65  321.7  5125.5\n",
            "  548.9  7031.3  5016.65  611.45  319.85  153.3  7035.6   344.2  1431.65\n",
            " 1849.2  6083.1   426.65 1655.35 1943.9   314.95  804.85  465.7  6669.05\n",
            " 1161.75  947.75 8375.05 3770.   4707.85 6152.4   958.1   943.    425.1\n",
            " 5044.8  6743.55  196.4  2093.9   417.75 1620.2  3169.55 7634.25 3653.\n",
            "  241.3  3870.3   387.9   527.5  2104.55   20.3    19.2  3019.1  7051.95\n",
            " 1190.5  4448.8  1011.05 1714.95  535.35   75.55 6273.4    70.25  908.75\n",
            "     nan  212.3   316.2  1079.05  564.65 6161.9  2106.05 2511.55  318.6\n",
            " 7323.15  186.05  454.   7521.95  999.8  2369.7  6297.65 1461.45  416.4\n",
            " 4869.35  358.15  251.65 5597.65  768.05 1215.8  3522.65  910.45 3656.25\n",
            "   52.    150.85  389.25 1873.7  1261.   7346.2  3708.4   469.65 1385.85\n",
            "  548.8  2536.55 6042.7   958.25 1730.65  459.6   201.95  285.2  1529.45\n",
            " 4664.5  3496.3  7053.35  301.55  312.7  2960.1  6953.4   541.5   116.85\n",
            " 7942.15 5321.25 4156.8   223.6   768.45 3765.05 1391.65  398.55 1958.45\n",
            "   63.15 1301.1   484.05 3887.85 2208.75  238.15  958.15 3845.45 1267.\n",
            "  633.45 6129.65 1218.25 1405.3   533.9   676.15 3804.4  1118.8  5236.4\n",
            " 1386.8  1902.    239.05 5673.7    39.8   997.75 5574.35  406.05  138.85\n",
            "  123.65 1801.1   689.    790.7  1618.2  1173.35  900.9  6719.9  3784.\n",
            " 1798.65   54.65 3886.45 1224.05 2310.2  3988.5  3554.6 ]\n",
            "nan\n"
          ]
        }
      ]
    },
    {
      "cell_type": "code",
      "source": [
        "tc_Los_Angeles = cust_details.loc[cust_details['City'] == \"Los Angeles\",'Total Charges']\n",
        "print(\"TOTAL CHARGES FOR 'LOS ANGELES' CITY \\n\")\n",
        "print(\"-------------------------------------------\")\n",
        "print(\"Index Total Charges\")\n",
        "print(tc_Los_Angeles)\n",
        "print(\"-------------------------------------------\")\n",
        "\n",
        "min_tc= tc_Los_Angeles .min()\n",
        "print(\"\\n\")\n",
        "print(f\"Minimum Total charges for 'Los Angeles' city is {min_tc}\")"
      ],
      "metadata": {
        "colab": {
          "base_uri": "https://localhost:8080/"
        },
        "id": "FAakgDn0LEkw",
        "outputId": "8500e2b0-9313-49c2-ec37-adba1d210fc3"
      },
      "execution_count": null,
      "outputs": [
        {
          "output_type": "stream",
          "name": "stdout",
          "text": [
            "TOTAL CHARGES FOR 'LOS ANGELES' CITY \n",
            "\n",
            "-------------------------------------------\n",
            "Index Total Charges\n",
            "0        108.15\n",
            "1        151.65\n",
            "2        820.50\n",
            "3       3046.05\n",
            "4       5036.30\n",
            "         ...   \n",
            "6767    3886.45\n",
            "6768    1224.05\n",
            "6769    2310.20\n",
            "6770    3988.50\n",
            "6771    3554.60\n",
            "Name: Total Charges, Length: 305, dtype: float64\n",
            "-------------------------------------------\n",
            "\n",
            "\n",
            "Minimum Total charges for 'Los Angeles' city is 18.8\n"
          ]
        }
      ]
    },
    {
      "cell_type": "markdown",
      "source": [
        "The minimum total charge for Los Angeles is 18.8."
      ],
      "metadata": {
        "id": "JaSJpWuOTAW3"
      }
    },
    {
      "cell_type": "code",
      "source": [
        "res1=cust_details.groupby(by='Zip Code') ['Total Charges'].max() ##grouping the zipcodes and storing the max total charge for every zip code in varable res1\n",
        "print(res1.max()) ##printing the max total charge among all the zip codes\n",
        "res1_dict=dict(res1) ##creating a dictionary of res1\n",
        "key_list=list(res1_dict.keys()) ##creating list of all the keys of dictionary res1_dict\n",
        "val_list=list(res1_dict.values())##creating list of all the values of dictionary res1_dict\n",
        "position=val_list.index(res1.max())##finding the index position of key for the maximum value \n",
        "print(key_list[position]) ##printing the key(Zip Code) with maximum total charges\n"
      ],
      "metadata": {
        "colab": {
          "base_uri": "https://localhost:8080/"
        },
        "id": "L0JGTQyP3v2k",
        "outputId": "23f0d877-b2e4-451e-af5d-bc3579a74301"
      },
      "execution_count": null,
      "outputs": [
        {
          "output_type": "stream",
          "name": "stdout",
          "text": [
            "8684.8\n",
            "95519\n"
          ]
        }
      ]
    },
    {
      "cell_type": "markdown",
      "source": [
        "The maximum total charge among all the zip codes is 8648.8\n",
        "The zip code with the maximum total charge is 95519."
      ],
      "metadata": {
        "id": "yMPv2ltYUNYN"
      }
    },
    {
      "cell_type": "code",
      "source": [
        "##q8\n",
        "res3=cust_details.groupby(by='Payment Method') ['Churn Score'].max() ##grouping the payment methods and storing the max churn score for every payment method in res3\n",
        "res4=cust_details.groupby(by='Payment Method') ['Churn Score'].min() ##grouping the payment methods and storing the minimum churn score for every payment method in res4\n",
        "print(res3)\n",
        "print(res4)\n"
      ],
      "metadata": {
        "colab": {
          "base_uri": "https://localhost:8080/"
        },
        "id": "qtsrXtqU5cwu",
        "outputId": "ed97d39c-14be-491b-d386-e3363d42143e"
      },
      "execution_count": null,
      "outputs": [
        {
          "output_type": "stream",
          "name": "stdout",
          "text": [
            "Payment Method\n",
            "Bank transfer (automatic)    100\n",
            "Credit card (automatic)      100\n",
            "Electronic check             100\n",
            "Mailed check                 100\n",
            "Yes                          Yes\n",
            "Name: Churn Score, dtype: object\n",
            "Payment Method\n",
            "Bank transfer (automatic)      8\n",
            "Credit card (automatic)        5\n",
            "Electronic check               7\n",
            "Mailed check                   9\n",
            "Yes                          Yes\n",
            "Name: Churn Score, dtype: object\n"
          ]
        }
      ]
    },
    {
      "cell_type": "markdown",
      "source": [
        "The maximum churn score for all the payment methods is same, i.e, 100 , so no particular payment method can be considered in this case\n",
        "\n",
        "The minimum churn score is for payment method Credit Card(automatic) among all other payment methods."
      ],
      "metadata": {
        "id": "FRqwQprSUfx2"
      }
    },
    {
      "cell_type": "code",
      "source": [
        "##q9\n",
        "plt.figure(figsize=(15,9)) ##specifying the size of the figure\n",
        "sns.countplot(x='Payment Method', data=cust_details) ##plotting the count plot using seaborn library\n",
        "plt.title('Count of Payment Methods') ##giving title to the plot\n",
        "plt.ylabel('Total Count') ##giving labelto the y-axis\n",
        "plt.show() ##to display the plot"
      ],
      "metadata": {
        "colab": {
          "base_uri": "https://localhost:8080/",
          "height": 567
        },
        "id": "c_T4b_0QLbNC",
        "outputId": "02527be5-cee1-4527-9726-077304610fa1"
      },
      "execution_count": null,
      "outputs": [
        {
          "output_type": "display_data",
          "data": {
            "text/plain": [
              "<Figure size 1080x648 with 1 Axes>"
            ],
            "image/png": "[encoded data removed]"
          },
          "metadata": {
            "needs_background": "light"
          }
        }
      ]
    },
    {
      "cell_type": "markdown",
      "source": [
        "With the help of the count plot we can find out the most popular method among the customers is Electronic check followed by mailed check then Bank transfer and finally credit card. "
      ],
      "metadata": {
        "id": "CyBBFVqpVWJe"
      }
    },
    {
      "cell_type": "code",
      "source": [
        "##q10\n",
        "sns.scatterplot(x='Monthly Charges', y='Total Charges', data=cust_details) ##using the scatterplot function to plot a scatterplot\n",
        "plt.title('Monthly Charges Vs Total Charges') ##giving title to the graph\n",
        "plt.xlabel('Monthly Charges') ##giving label to the X-axis\n",
        "plt.ylabel('Total Charges') ##giving label to the y-axis\n",
        "plt.show() ##to plot the graph"
      ],
      "metadata": {
        "colab": {
          "base_uri": "https://localhost:8080/",
          "height": 295
        },
        "id": "Kgq4Foe4QOQw",
        "outputId": "9f377709-4c30-4397-be17-3201203c1714"
      },
      "execution_count": null,
      "outputs": [
        {
          "output_type": "display_data",
          "data": {
            "text/plain": [
              "<Figure size 432x288 with 1 Axes>"
            ],
            "image/png": "[encoded data removed]"
          },
          "metadata": {
            "needs_background": "light"
          }
        }
      ]
    },
    {
      "cell_type": "markdown",
      "source": [
        "The scatterplot is used to describle relationship between two variables and this scatterplot shows very clearly there is an increase in total charges as the montly charges increase."
      ],
      "metadata": {
        "id": "IOOYnG5DXWHN"
      }
    }
  ]
}