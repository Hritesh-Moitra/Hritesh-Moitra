{
  "nbformat": 4,
  "nbformat_minor": 0,
  "metadata": {
    "colab": {
      "name": "HriteshmoitraAssignmentweek8.ipynb",
      "provenance": [],
      "collapsed_sections": [],
      "authorship_tag": "ABX9TyPEqmQHNUImQx5AHrGWFgjX",
      "include_colab_link": true
    },
    "kernelspec": {
      "name": "python3",
      "display_name": "Python 3"
    },
    "language_info": {
      "name": "python"
    }
  },
  "cells": [
    {
      "cell_type": "markdown",
      "metadata": {
        "id": "view-in-github",
        "colab_type": "text"
      },
      "source": [
        "<a href=\"https://colab.research.google.com/github/Hritesh-Moitra/Hritesh-Moitra/blob/main/HriteshmoitraAssignmentweek8.ipynb\" target=\"_parent\"><img src=\"https://colab.research.google.com/assets/colab-badge.svg\" alt=\"Open In Colab\"/></a>"
      ]
    },
    {
      "cell_type": "markdown",
      "source": [
        "##q1 List down the definitions and differences between the different data collection types in python\n",
        "\n",
        "\n",
        "''' Data types in python:-\n",
        "1. Integers:- Integers are numeric values stored in variables as whole numbers.\n",
        "2. Float:- Float values are also numeric values stored in variables but as decimal numbers.\n",
        "3. List:- List is a sequnce of items and not necessarily contain the same data types values in it, they are mutable and order matters in lists.\n",
        "4. Tuples:- Tuples are similar to list just with a difference that they are immutable , that is , once created the values in them cannot be altered.\n",
        "5. Strings:- Strings are a sequence of characters enclosed in double quotes or single codes, they can contain special characters as well.\n",
        "6. Set:- It is an unordered collection of unique items and is seperated by commas inside curly braces.{}\n",
        "7. Dictionary:- It is an unordered collection of key and pair values; where each key is unique but values can be duplicate. A dictionary is generally used when we have large amount of data.'''"
      ],
      "metadata": {
        "id": "GjD5F_19r0eN"
      }
    },
    {
      "cell_type": "code",
      "execution_count": null,
      "metadata": {
        "colab": {
          "base_uri": "https://localhost:8080/"
        },
        "id": "ArjoNwWuWHF9",
        "outputId": "fa3c8fab-c321-4fe6-c733-18df7865c869"
      },
      "outputs": [
        {
          "output_type": "stream",
          "name": "stdout",
          "text": [
            "51.0\n"
          ]
        }
      ],
      "source": [
        "##q2 What does average represent at the end of the execution ?\n",
        "\n",
        "total,count= 0,0\n",
        "\n",
        "for i in range(1000):\n",
        "    if i%2 != 0 and count <= 50:\n",
        "        total = total + i\n",
        "        count = count + 1\n",
        "average = total / count ##it is giving the output of first 51 odd numbers\n",
        "print(average)\n",
        "\n"
      ]
    },
    {
      "cell_type": "code",
      "source": [
        "##q3 How many asterisks does the following code print ?\n",
        "\n",
        "\n",
        "i = -3\n",
        "count1=0\n",
        "count2=0\n",
        "while (i<=13):\n",
        "    print('**')\n",
        "    print('*')\n",
        "    i = i+1\n",
        "\n",
        "for i in range(1,18):\n",
        "  count1=i*2 \n",
        "  count2=i*1\n",
        "\n",
        "final_count_of_stars=count1 + count2\n",
        "print(final_count_of_stars)  ##51 will be the total count\n"
      ],
      "metadata": {
        "colab": {
          "base_uri": "https://localhost:8080/"
        },
        "id": "QkYreHzZa3sn",
        "outputId": "26ffa33c-b349-4053-c411-782fd438abce"
      },
      "execution_count": null,
      "outputs": [
        {
          "output_type": "stream",
          "name": "stdout",
          "text": [
            "**\n",
            "*\n",
            "**\n",
            "*\n",
            "**\n",
            "*\n",
            "**\n",
            "*\n",
            "**\n",
            "*\n",
            "**\n",
            "*\n",
            "**\n",
            "*\n",
            "**\n",
            "*\n",
            "**\n",
            "*\n",
            "**\n",
            "*\n",
            "**\n",
            "*\n",
            "**\n",
            "*\n",
            "**\n",
            "*\n",
            "**\n",
            "*\n",
            "**\n",
            "*\n",
            "**\n",
            "*\n",
            "**\n",
            "*\n",
            "51\n"
          ]
        }
      ]
    },
    {
      "cell_type": "code",
      "source": [
        "##q4 List Operations\n",
        "\n",
        "'''Given two lists, write a program to perform the following operations on the lists;\n",
        "- Union\n",
        "- Intersection\n",
        "- Left Difference\n",
        "- Right Difference'''\n",
        "\n",
        "l1=['Hritesh', 23 , 'Odin', 'Data Science']\n",
        "l2=['This', 'Bootcamp is' , 10 , 'out of 10']\n",
        "print(set(l1).union(set(l2)))\n",
        "print(set(l1).intersection(set(l2)))\n",
        "print(set(l1).difference(set(l2))) ##this implies elements present in set l1 but not in l2 (right difference when set L1 is on left side)\n",
        "print(set(l2).difference(set(l1))) ##this implies elements present in set l2 but not in l1(left difference when set l2 is on right side)\n",
        "\n",
        "\n"
      ],
      "metadata": {
        "colab": {
          "base_uri": "https://localhost:8080/"
        },
        "id": "al5iwRPOhClV",
        "outputId": "1ab434f7-22a4-489b-c1b2-2b6c437cc7ae"
      },
      "execution_count": null,
      "outputs": [
        {
          "output_type": "stream",
          "name": "stdout",
          "text": [
            "{'Odin', 'Data Science', 'Bootcamp is', 'Hritesh', 10, 'This', 'out of 10', 23}\n",
            "set()\n",
            "{'Odin', 'Hritesh', 23, 'Data Science'}\n",
            "{'out of 10', 'Bootcamp is', 10, 'This'}\n"
          ]
        }
      ]
    },
    {
      "cell_type": "code",
      "source": [
        "##q5 Write a regex program that matches a string that has an 'a' followed by two or three 'b'.\n",
        "import re\n",
        "str='dabacabbabbbb'\n",
        "x= re.search('abb' , str)\n",
        "y= re.search('abbb', str)\n",
        "print(x) \n",
        "print(y)\n",
        "if (x) or (y): \n",
        "  print(True)\n",
        "else :\n",
        "   print(False)  \n"
      ],
      "metadata": {
        "colab": {
          "base_uri": "https://localhost:8080/"
        },
        "id": "5-3dsB4MZqzO",
        "outputId": "7571b86a-f37f-46f4-dc23-0ee26b568394"
      },
      "execution_count": null,
      "outputs": [
        {
          "output_type": "stream",
          "name": "stdout",
          "text": [
            "<re.Match object; span=(5, 8), match='abb'>\n",
            "<re.Match object; span=(8, 12), match='abbb'>\n",
            "True\n"
          ]
        }
      ]
    },
    {
      "cell_type": "code",
      "source": [
        "##q5 another way\n",
        "\n",
        "import re\n",
        "def patt_match(str):\n",
        "  pattern= 'ab{2,3}' ##matches an a followed by 2 or 3 b\n",
        "  if (re.search(pattern,str)):\n",
        "    return True\n",
        "  else:\n",
        "    False\n",
        "\n",
        "print(patt_match(\"aaabbbc\"))    "
      ],
      "metadata": {
        "colab": {
          "base_uri": "https://localhost:8080/"
        },
        "id": "NoA5QE9BdMXK",
        "outputId": "da5e68d1-2e29-4d93-f2c8-4f2b66fc88dc"
      },
      "execution_count": null,
      "outputs": [
        {
          "output_type": "stream",
          "name": "stdout",
          "text": [
            "True\n"
          ]
        }
      ]
    },
    {
      "cell_type": "code",
      "source": [
        "##q6 Consider the following code and try to guess what the output will be.\n",
        "\n",
        "s1= {1,2,3,4,4,1,2}\n",
        "s2= {4,3,2,1}\n",
        "l1 = [4,3,2,1]\n",
        "l2= [1,2,3,4,4,1,2]\n",
        "print(list(s1)) ##list of set S1\n",
        "print(set(l1)) ##set of list L1\n",
        "\n",
        "print(list(s1)==l2)  ##False;this will be false because for lists to be equal the lists should have same elements in same order, here although the values are same but not in same order\n",
        "print(set(l1)==s2) ##True; this will be true because sets are unordered and to be equal only the values need to be the same the order doesn't matters.\n",
        "print(s1==s2) ##True;this will be true because although a set contains duplicate values; if the elements are same the sets will be equal. \n"
      ],
      "metadata": {
        "colab": {
          "base_uri": "https://localhost:8080/"
        },
        "id": "3unHkeBvibzY",
        "outputId": "73bab076-3052-4b24-a53d-d0d394339de9"
      },
      "execution_count": null,
      "outputs": [
        {
          "output_type": "stream",
          "name": "stdout",
          "text": [
            "[1, 2, 3, 4]\n",
            "{1, 2, 3, 4}\n",
            "False\n",
            "True\n",
            "True\n"
          ]
        }
      ]
    },
    {
      "cell_type": "code",
      "source": [
        "\n",
        "##q7 You are a forum admin. You wish to find out the total score of each user using the scoring logic given below. If the user scores more than 50, then the user is given a Leader badge, otherwise a Basic badge is given.\n",
        "##Implement the body of the function `user_score`. The function accepts 3 integer arguments- `read_count, reply_count, new_post_count`. It calculates the score based on the input counts and returns `Leader` or `Basic`.\n",
        "\n",
        "reads=int(input()) * 1\n",
        "replies=int(input()) * 3\n",
        "new_posts=int(input()) * 5\n",
        "print(reads + replies + new_posts)\n",
        "\n",
        "\n",
        "def user_score(read_count, reply_count, new_post_count):\n",
        "  if read_count + reply_count + new_post_count >50:\n",
        "    return 'leader'\n",
        "  else:\n",
        "    return 'basic' \n",
        "\n",
        "\n",
        "user_score(reads,replies,new_posts)\n",
        "\n"
      ],
      "metadata": {
        "colab": {
          "base_uri": "https://localhost:8080/",
          "height": 105
        },
        "id": "BWIBFo-bnyvy",
        "outputId": "6b5b9068-3022-4722-eee8-4a05223cb835"
      },
      "execution_count": null,
      "outputs": [
        {
          "output_type": "stream",
          "name": "stdout",
          "text": [
            "10\n",
            "12\n",
            "15\n",
            "121\n"
          ]
        },
        {
          "output_type": "execute_result",
          "data": {
            "text/plain": [
              "'leader'"
            ],
            "application/vnd.google.colaboratory.intrinsic+json": {
              "type": "string"
            }
          },
          "metadata": {},
          "execution_count": 24
        }
      ]
    }
  ]
}