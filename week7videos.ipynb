{
  "nbformat": 4,
  "nbformat_minor": 0,
  "metadata": {
    "colab": {
      "name": "week7videos.ipynb",
      "provenance": [],
      "collapsed_sections": [],
      "authorship_tag": "ABX9TyMI/GsggQfA7alAzyFGWXyb",
      "include_colab_link": true
    },
    "kernelspec": {
      "name": "python3",
      "display_name": "Python 3"
    },
    "language_info": {
      "name": "python"
    }
  },
  "cells": [
    {
      "cell_type": "markdown",
      "metadata": {
        "id": "view-in-github",
        "colab_type": "text"
      },
      "source": [
        "<a href=\"https://colab.research.google.com/github/Hritesh-Moitra/Hritesh-Moitra/blob/main/week7videos.ipynb\" target=\"_parent\"><img src=\"https://colab.research.google.com/assets/colab-badge.svg\" alt=\"Open In Colab\"/></a>"
      ]
    },
    {
      "cell_type": "markdown",
      "source": [
        "### Input operations"
      ],
      "metadata": {
        "id": "gj4N_eJW47YR"
      }
    },
    {
      "cell_type": "code",
      "source": [
        "def add(x,y):\n",
        "\n",
        "  '''This function will take two areguments and return their sum'''\n",
        "\n",
        "  return x+y\n",
        "\n",
        "add(10,20)\n",
        "\n",
        "\n"
      ],
      "metadata": {
        "colab": {
          "base_uri": "https://localhost:8080/"
        },
        "id": "UAPTviu6w8MQ",
        "outputId": "1ed8a0a2-6008-4d6a-e494-9429e40268d7"
      },
      "execution_count": null,
      "outputs": [
        {
          "output_type": "execute_result",
          "data": {
            "text/plain": [
              "30"
            ]
          },
          "metadata": {},
          "execution_count": 8
        }
      ]
    },
    {
      "cell_type": "code",
      "source": [
        "#Shift+Tab=Documentation\n",
        "print(add.__doc__) ##or his function can be used to read the documentation"
      ],
      "metadata": {
        "colab": {
          "base_uri": "https://localhost:8080/"
        },
        "id": "FQPGJ_rTxXcA",
        "outputId": "37fa353c-ba73-48a4-c174-84adbcf69062"
      },
      "execution_count": null,
      "outputs": [
        {
          "output_type": "stream",
          "name": "stdout",
          "text": [
            "This function will take two areguments and return their sum\n"
          ]
        }
      ]
    },
    {
      "cell_type": "code",
      "source": [
        "name=input(\"please enter your name\")"
      ],
      "metadata": {
        "colab": {
          "base_uri": "https://localhost:8080/"
        },
        "id": "uGKQYXsK3VAc",
        "outputId": "44da1202-84f6-401f-c98a-9915080f9a9d"
      },
      "execution_count": null,
      "outputs": [
        {
          "name": "stdout",
          "output_type": "stream",
          "text": [
            "please enter your namePython\n"
          ]
        }
      ]
    },
    {
      "cell_type": "code",
      "source": [
        "type(name)\n"
      ],
      "metadata": {
        "colab": {
          "base_uri": "https://localhost:8080/"
        },
        "id": "7Kq2ILki3hUH",
        "outputId": "4c01e8cf-ea90-4014-96e2-f2991afb8121"
      },
      "execution_count": null,
      "outputs": [
        {
          "output_type": "execute_result",
          "data": {
            "text/plain": [
              "str"
            ]
          },
          "metadata": {},
          "execution_count": 12
        }
      ]
    },
    {
      "cell_type": "code",
      "source": [
        "num=int(input(\"enter a number\"))\n",
        "print(num)\n",
        "print(type(num))"
      ],
      "metadata": {
        "colab": {
          "base_uri": "https://localhost:8080/"
        },
        "id": "mQIMY5CP3mA-",
        "outputId": "5d2c8e44-b3a2-446f-8ac9-90d1bf2c74f4"
      },
      "execution_count": null,
      "outputs": [
        {
          "output_type": "stream",
          "name": "stdout",
          "text": [
            "enter a number18\n",
            "18\n",
            "<class 'int'>\n"
          ]
        }
      ]
    },
    {
      "cell_type": "code",
      "source": [
        "salary=float(input(\"enter a number\"))\n",
        "print(salary)\n",
        "print(type(salary))"
      ],
      "metadata": {
        "colab": {
          "base_uri": "https://localhost:8080/"
        },
        "id": "UsJbfwoH4MOd",
        "outputId": "81cba080-8f9f-4a5c-baa1-d1780f01c35b"
      },
      "execution_count": null,
      "outputs": [
        {
          "output_type": "stream",
          "name": "stdout",
          "text": [
            "enter a number18.25\n",
            "18.25\n",
            "<class 'float'>\n"
          ]
        }
      ]
    },
    {
      "cell_type": "code",
      "source": [
        "marks= eval(input(\"please enter your marks\"))  ##we use the  evaluate; eval function when we are not ure of the data type like marks can be in percentage as well as iwhole number\n",
        "print(marks)\n",
        "print(type(marks))"
      ],
      "metadata": {
        "colab": {
          "base_uri": "https://localhost:8080/"
        },
        "id": "xyEale2N4aH3",
        "outputId": "f49e7976-99fa-4c4c-a3b5-178958577d48"
      },
      "execution_count": null,
      "outputs": [
        {
          "output_type": "stream",
          "name": "stdout",
          "text": [
            "please enter your marks1.25\n",
            "1.25\n",
            "<class 'float'>\n"
          ]
        }
      ]
    },
    {
      "cell_type": "markdown",
      "source": [
        "### Output operations"
      ],
      "metadata": {
        "id": "S6rO9pKX5DQD"
      }
    },
    {
      "cell_type": "code",
      "source": [
        "print(\"programming\", \"hritesh\", \"moitra\") ##by default while priting multiple values pyhon seperates them by a space\n",
        "print(\"ooo\",\"lala\",\"la\", sep =\"---\") ## to change the default seperator from space into anything else we can change it to anything else using 'sep'"
      ],
      "metadata": {
        "colab": {
          "base_uri": "https://localhost:8080/"
        },
        "id": "TrRrB9Ik5B0W",
        "outputId": "f9802265-ac81-4123-fe6c-7241188ceae2"
      },
      "execution_count": null,
      "outputs": [
        {
          "output_type": "stream",
          "name": "stdout",
          "text": [
            "programming hritesh moitra\n",
            "ooo---lala---la\n"
          ]
        }
      ]
    },
    {
      "cell_type": "code",
      "source": [
        "print(\"programming\", end='|') ## the end argument helps to print output from two different print statements into 1 line instead of two line anything else can allso be used apart from the pipe operator\n",
        "print(\"python\")"
      ],
      "metadata": {
        "colab": {
          "base_uri": "https://localhost:8080/"
        },
        "id": "ZR9cjyrc6jAR",
        "outputId": "f7da5983-5937-4aab-c631-f0356de4137b"
      },
      "execution_count": null,
      "outputs": [
        {
          "output_type": "stream",
          "name": "stdout",
          "text": [
            "programming|python\n"
          ]
        }
      ]
    },
    {
      "cell_type": "markdown",
      "source": [
        "### Formatter"
      ],
      "metadata": {
        "id": "jbRTbivH9CtD"
      }
    },
    {
      "cell_type": "code",
      "source": [
        "name\n",
        "\n"
      ],
      "metadata": {
        "colab": {
          "base_uri": "https://localhost:8080/",
          "height": 35
        },
        "id": "QskHVp8q9FXo",
        "outputId": "7674f589-472c-4105-f6a9-12a82cc9ed5b"
      },
      "execution_count": null,
      "outputs": [
        {
          "output_type": "execute_result",
          "data": {
            "text/plain": [
              "'Python'"
            ],
            "application/vnd.google.colaboratory.intrinsic+json": {
              "type": "string"
            }
          },
          "metadata": {},
          "execution_count": 5
        }
      ]
    },
    {
      "cell_type": "code",
      "source": [
        "num"
      ],
      "metadata": {
        "colab": {
          "base_uri": "https://localhost:8080/"
        },
        "id": "sA7Q6qoe9fmp",
        "outputId": "b71196cd-b591-4d5d-fd28-72b3ec06318b"
      },
      "execution_count": null,
      "outputs": [
        {
          "output_type": "execute_result",
          "data": {
            "text/plain": [
              "18"
            ]
          },
          "metadata": {},
          "execution_count": 24
        }
      ]
    },
    {
      "cell_type": "code",
      "source": [
        "salary"
      ],
      "metadata": {
        "colab": {
          "base_uri": "https://localhost:8080/"
        },
        "id": "XQy0-zW79hpT",
        "outputId": "503f74f0-b81b-44e3-c6c5-a6eb750898c3"
      },
      "execution_count": null,
      "outputs": [
        {
          "output_type": "execute_result",
          "data": {
            "text/plain": [
              "10.25"
            ]
          },
          "metadata": {},
          "execution_count": 25
        }
      ]
    },
    {
      "cell_type": "code",
      "source": [
        "print('welcome {} at the age of {} he is earning {} thousands'.format(name,num,salary)) ##the format function takes the values of the variables and puts them into the curly braces"
      ],
      "metadata": {
        "colab": {
          "base_uri": "https://localhost:8080/"
        },
        "id": "tTp9KBuy9kaV",
        "outputId": "e508ae3b-140e-4356-819b-53140710b0f0"
      },
      "execution_count": null,
      "outputs": [
        {
          "output_type": "stream",
          "name": "stdout",
          "text": [
            "welcome Python at the age of 18 he is earning 18.25 thousands\n"
          ]
        }
      ]
    },
    {
      "cell_type": "code",
      "source": [
        "##the shortcut of format syntax\n",
        "\n",
        "print(f'welcome {name} at the age of {num}  he is earning {salary} thousands')"
      ],
      "metadata": {
        "colab": {
          "base_uri": "https://localhost:8080/"
        },
        "id": "uhj1beml-eg1",
        "outputId": "3f5e20a8-10ad-4a74-d0fc-7ebae16b0a6d"
      },
      "execution_count": null,
      "outputs": [
        {
          "output_type": "stream",
          "name": "stdout",
          "text": [
            "welcome Python at the age of 18  he is earning 18.25 thousands\n"
          ]
        }
      ]
    },
    {
      "cell_type": "markdown",
      "source": [
        "### indexing and slicing"
      ],
      "metadata": {
        "id": "dS9SQYii9rO3"
      }
    },
    {
      "cell_type": "code",
      "source": [
        "a='python is a easy language'\n",
        "a"
      ],
      "metadata": {
        "colab": {
          "base_uri": "https://localhost:8080/",
          "height": 35
        },
        "id": "IRfZdsY480xy",
        "outputId": "9cf256ca-e666-4c61-9818-84dc1bca94b8"
      },
      "execution_count": null,
      "outputs": [
        {
          "output_type": "execute_result",
          "data": {
            "text/plain": [
              "'python is a easy language'"
            ],
            "application/vnd.google.colaboratory.intrinsic+json": {
              "type": "string"
            }
          },
          "metadata": {},
          "execution_count": 13
        }
      ]
    },
    {
      "cell_type": "code",
      "source": [
        "##if we want the word easy\n",
        "a[12:16]"
      ],
      "metadata": {
        "colab": {
          "base_uri": "https://localhost:8080/",
          "height": 35
        },
        "id": "U8TbFQva-KIP",
        "outputId": "93e504fa-3f22-4b8c-cb5c-6603c77e8c34"
      },
      "execution_count": null,
      "outputs": [
        {
          "output_type": "execute_result",
          "data": {
            "text/plain": [
              "'easy'"
            ],
            "application/vnd.google.colaboratory.intrinsic+json": {
              "type": "string"
            }
          },
          "metadata": {},
          "execution_count": 14
        }
      ]
    },
    {
      "cell_type": "code",
      "source": [
        "print('the string a is :' ,a , '\\n')\n",
        "print('\\nstarting from the second element' ,a[1:])\n",
        "print('\\nending with the sixth element', a[:6])\n",
        "print('\\nstarting from the second element and ending with the sixth element' ,a[1:6])\n",
        "print('\\nlast element' ,a[-1])\n",
        "print('\\nnegative indexing', a[-6:-1])\n",
        "print('\\nindexes with intervals' ,a[::2])\n",
        "print('\\nreverse indexing', a[::-1])"
      ],
      "metadata": {
        "colab": {
          "base_uri": "https://localhost:8080/"
        },
        "id": "WKsWpGdeC85X",
        "outputId": "6ba2aed0-d32f-4e75-886f-f3e92331302e"
      },
      "execution_count": null,
      "outputs": [
        {
          "output_type": "stream",
          "name": "stdout",
          "text": [
            "the string a is : python is a easy language \n",
            "\n",
            "\n",
            "starting from the second element ython is a easy language\n",
            "\n",
            "ending with the sixth element python\n",
            "\n",
            "starting from the second element and ending with the sixth element ython\n",
            "\n",
            "last element e\n",
            "\n",
            "negative indexing nguag\n",
            "\n",
            "indexes with intervals pto saes agae\n",
            "\n",
            "reverse indexing egaugnal ysae a si nohtyp\n"
          ]
        }
      ]
    },
    {
      "cell_type": "markdown",
      "source": [
        "### conditionals"
      ],
      "metadata": {
        "id": "uYennI35Jpxu"
      }
    },
    {
      "cell_type": "markdown",
      "source": [
        "## if conditional"
      ],
      "metadata": {
        "id": "bxZN_mLYZtAC"
      }
    },
    {
      "cell_type": "code",
      "source": [
        "a='python programming'\n",
        "b='java programming'\n",
        "print(a)\n",
        "print(b)\n"
      ],
      "metadata": {
        "colab": {
          "base_uri": "https://localhost:8080/"
        },
        "id": "tFFV2a9rZwJp",
        "outputId": "ee2d99f2-0208-444d-b152-6eedbb7a9dfc"
      },
      "execution_count": null,
      "outputs": [
        {
          "output_type": "stream",
          "name": "stdout",
          "text": [
            "python programming\n",
            "java programming\n"
          ]
        }
      ]
    },
    {
      "cell_type": "markdown",
      "source": [
        "## strings with lesser characters"
      ],
      "metadata": {
        "id": "ohRUYJ8RaWWQ"
      }
    },
    {
      "cell_type": "code",
      "source": [
        "len_a=len(a)\n",
        "len_b=len(b)\n",
        "print(f'length of string A is {len_a} and length of string B is {len_b}')"
      ],
      "metadata": {
        "colab": {
          "base_uri": "https://localhost:8080/"
        },
        "id": "iOP6BU_RaagC",
        "outputId": "36da920a-5f48-42a5-b738-6d5105ca001c"
      },
      "execution_count": null,
      "outputs": [
        {
          "output_type": "stream",
          "name": "stdout",
          "text": [
            "length of string A is 18 and length of string B is 16\n"
          ]
        }
      ]
    },
    {
      "cell_type": "code",
      "source": [
        "if len(a)>len(b):\n",
        "  print('length of variable a is greater than length of varable b and hence b is the smallest')\n",
        "else:\n",
        "  print('b is of greater length than a')"
      ],
      "metadata": {
        "colab": {
          "base_uri": "https://localhost:8080/"
        },
        "id": "Fdm_tOAEbSTW",
        "outputId": "07180cb0-4d21-43d1-b8b1-ffaaf30b54de"
      },
      "execution_count": null,
      "outputs": [
        {
          "output_type": "stream",
          "name": "stdout",
          "text": [
            "length of variable a is greater than length of varable b and hence b is the smallest\n"
          ]
        }
      ]
    },
    {
      "cell_type": "code",
      "source": [
        "if len(a)>len(b):print(f'length of variable {a} is greater than length of varable {b} and hence {b} is the smallest')\n",
        "elif len(a)==len(b): print(f'lenth of {a} is equal to lenth of {b}')  \n",
        "else: print(f'length of {a} is smaller than length of {b}')"
      ],
      "metadata": {
        "colab": {
          "base_uri": "https://localhost:8080/"
        },
        "id": "D4--9Ibxb50M",
        "outputId": "34ab0391-8ca2-4423-c2ab-efd043630b31"
      },
      "execution_count": null,
      "outputs": [
        {
          "output_type": "stream",
          "name": "stdout",
          "text": [
            "length of variable python programming is greater than length of varable java programming and hence java programming is the smallest\n"
          ]
        }
      ]
    },
    {
      "cell_type": "markdown",
      "source": [
        "### elif"
      ],
      "metadata": {
        "id": "g9yDke7PC9Ub"
      }
    },
    {
      "cell_type": "code",
      "source": [
        "if len(a)>len(b):print(f'length of variable {a} is greater than length of varable {b} and hence {b} is the smallest')\n",
        "elif len(a)<len(b): print(f'lenth of {a} is samller than length of {b}') \n",
        "else: print(f'lenth of {a} is equal to lenth of {b}')"
      ],
      "metadata": {
        "colab": {
          "base_uri": "https://localhost:8080/"
        },
        "id": "BZMfpveIDCf7",
        "outputId": "cae7f1b1-7f5b-4331-9a12-f91f66e2dbdb"
      },
      "execution_count": null,
      "outputs": [
        {
          "output_type": "stream",
          "name": "stdout",
          "text": [
            "length of variable python programming is greater than length of varable java programming and hence java programming is the smallest\n"
          ]
        }
      ]
    },
    {
      "cell_type": "markdown",
      "source": [
        "### logical operations in conditionals"
      ],
      "metadata": {
        "id": "22Wmm2hbG02O"
      }
    },
    {
      "cell_type": "code",
      "source": [
        "age=int(input('please enter your age'))\n",
        "booking=input('have you made the booking')\n",
        "\n",
        "if age>=18 and booking=='yes':\n",
        "  print('please enjoy your movie')\n",
        "else:\n",
        "  print('sorry, you are not allowed')  "
      ],
      "metadata": {
        "colab": {
          "base_uri": "https://localhost:8080/"
        },
        "id": "AU9NEfRcGztX",
        "outputId": "36bb4e79-419e-4038-e087-d474fa2dbb76"
      },
      "execution_count": null,
      "outputs": [
        {
          "output_type": "stream",
          "name": "stdout",
          "text": [
            "please enter your age25\n",
            "have you made the bookingyes\n",
            "please enjoy your movie\n"
          ]
        }
      ]
    },
    {
      "cell_type": "code",
      "source": [
        "age=int(input('please enter your age'))\n",
        "booking=input('have you made the booking')\n",
        "\n",
        "\n",
        "if age>=18 and booking=='yes':\n",
        "  print('please enjoy your movie')\n",
        "else:\n",
        "  print('sorry, you are not allowed')  "
      ],
      "metadata": {
        "colab": {
          "base_uri": "https://localhost:8080/"
        },
        "id": "JCCTC3UxICt9",
        "outputId": "e0cb8f47-d8f7-424c-9b0b-a76ad21eeec9"
      },
      "execution_count": null,
      "outputs": [
        {
          "output_type": "stream",
          "name": "stdout",
          "text": [
            "please enter your age17\n",
            "have you made the bookingyes\n",
            "sorry, you are not allowed\n"
          ]
        }
      ]
    },
    {
      "cell_type": "code",
      "source": [
        "age=int(input('please enter your age'))\n",
        "booking=input('have you made the booking')\n",
        "\n",
        "\n",
        "if age>=18 and booking=='yes':\n",
        "  print('please enjoy your movie')\n",
        "else:\n",
        "  print('sorry, you are not allowed')  "
      ],
      "metadata": {
        "colab": {
          "base_uri": "https://localhost:8080/"
        },
        "id": "56mMkkosIUoX",
        "outputId": "a5c6b5ae-ff73-42a3-f5be-b5aceaedaa04"
      },
      "execution_count": null,
      "outputs": [
        {
          "output_type": "stream",
          "name": "stdout",
          "text": [
            "please enter your age25\n",
            "have you made the bookingno\n",
            "sorry, you are not allowed\n"
          ]
        }
      ]
    },
    {
      "cell_type": "code",
      "source": [
        "age=int(input('please enter your age'))\n",
        "booking=input('have you made the booking')\n",
        "\n",
        "\n",
        "if age>=18 or booking=='yes':\n",
        "  print('please enjoy your movie')\n",
        "else:\n",
        "  print('sorry, you are not allowed')  "
      ],
      "metadata": {
        "colab": {
          "base_uri": "https://localhost:8080/"
        },
        "id": "kkY6bwI-Iknf",
        "outputId": "2f29329e-a9f7-4f69-e484-f69410b1c44a"
      },
      "execution_count": null,
      "outputs": [
        {
          "output_type": "stream",
          "name": "stdout",
          "text": [
            "please enter your age18\n",
            "have you made the bookingno\n",
            "please enjoy your movie\n"
          ]
        }
      ]
    },
    {
      "cell_type": "code",
      "source": [
        "age=int(input('please enter your age'))\n",
        "booking=input('have you made the booking')\n",
        "\n",
        "\n",
        "if age>=18 or booking=='yes':\n",
        "  print('please enjoy your movie')\n",
        "else:\n",
        "  print('sorry, you are not allowed')  "
      ],
      "metadata": {
        "colab": {
          "base_uri": "https://localhost:8080/"
        },
        "id": "1ynEtghOItkD",
        "outputId": "60571ad8-fc50-44a4-ed4f-380afcfc34fc"
      },
      "execution_count": null,
      "outputs": [
        {
          "output_type": "stream",
          "name": "stdout",
          "text": [
            "please enter your age15\n",
            "have you made the bookingyes\n",
            "please enjoy your movie\n"
          ]
        }
      ]
    },
    {
      "cell_type": "code",
      "source": [
        "age=int(input('please enter your age'))\n",
        "booking=input('have you made the booking')\n",
        "\n",
        "\n",
        "if age>=18 or booking=='yes':\n",
        "  print('please enjoy your movie')\n",
        "else:\n",
        "  print('sorry, you are not allowed')  "
      ],
      "metadata": {
        "colab": {
          "base_uri": "https://localhost:8080/"
        },
        "id": "Lk7cImpvIzML",
        "outputId": "0bf11db8-7a0c-48f4-f8b1-941eaf2d9156"
      },
      "execution_count": null,
      "outputs": [
        {
          "output_type": "stream",
          "name": "stdout",
          "text": [
            "please enter your age15\n",
            "have you made the bookingno\n",
            "sorry, you are not allowed\n"
          ]
        }
      ]
    },
    {
      "cell_type": "markdown",
      "source": [
        "### not operator"
      ],
      "metadata": {
        "id": "Oc9nIj8cI4Ii"
      }
    },
    {
      "cell_type": "code",
      "source": [
        "age=int(input('please enter your age'))\n",
        "booking=input('have you made the booking')\n",
        "\n",
        "\n",
        "if not age>=18 :  ##if age is  less than 18 then only it will allow not allows only opposite of the test conditions\n",
        "  print('please enjoy your movie')\n",
        "else:\n",
        "  print('sorry, you are not allowed')  "
      ],
      "metadata": {
        "colab": {
          "base_uri": "https://localhost:8080/"
        },
        "id": "HgMhBe48I7BD",
        "outputId": "3b1177b9-8a6d-46eb-9977-4b8d2a14a840"
      },
      "execution_count": null,
      "outputs": [
        {
          "output_type": "stream",
          "name": "stdout",
          "text": [
            "please enter your age15\n",
            "have you made the bookingno\n",
            "please enjoy your movie\n"
          ]
        }
      ]
    },
    {
      "cell_type": "markdown",
      "source": [
        "### nested ifs"
      ],
      "metadata": {
        "id": "BuJIQy55KAjj"
      }
    },
    {
      "cell_type": "code",
      "source": [
        "match_won=bool(input('won if true lost if false'))\n",
        "kohli_score= int(input('score'))\n",
        "if match_won==True:\n",
        "  if kohli_score>=80:\n",
        "    print(\"virat contribution helped india win\")\n",
        "  else:print('india won')\n",
        "\n",
        "else: print('india lost')  \n"
      ],
      "metadata": {
        "id": "huJFfntYKEdj",
        "colab": {
          "base_uri": "https://localhost:8080/"
        },
        "outputId": "3f71171a-ae05-4caa-b21d-35d9c8b1794c"
      },
      "execution_count": null,
      "outputs": [
        {
          "output_type": "stream",
          "name": "stdout",
          "text": [
            "won if true lost if falseTrue\n",
            "score85\n",
            "virat contribution helped india win\n"
          ]
        }
      ]
    },
    {
      "cell_type": "code",
      "source": [
        "x=int(input('X:'))\n",
        "y=int(input('Y:'))\n",
        "z=int(input('Z:'))\n",
        "if x>y and x>z:\n",
        "  print('X is grater than both Y and Z')\n",
        "else:\n",
        "  if y>z:\n",
        "    print('Y is greater than X and Z')\n",
        "  else:\n",
        "    print('Z is the greatest')    "
      ],
      "metadata": {
        "colab": {
          "base_uri": "https://localhost:8080/"
        },
        "id": "xRLeNLnmSMst",
        "outputId": "3d043800-f531-49c0-8e3f-a45dd05c7b4d"
      },
      "execution_count": null,
      "outputs": [
        {
          "output_type": "stream",
          "name": "stdout",
          "text": [
            "X:12\n",
            "Y:13\n",
            "Z:11\n",
            "Y is greater than X and Z\n"
          ]
        }
      ]
    }
  ]
}