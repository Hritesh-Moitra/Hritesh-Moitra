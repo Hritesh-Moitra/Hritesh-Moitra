{
  "nbformat": 4,
  "nbformat_minor": 0,
  "metadata": {
    "colab": {
      "name": "week7 assignment.ipynb",
      "provenance": [],
      "collapsed_sections": [],
      "authorship_tag": "ABX9TyNjQtRJzTr/EgK8Y3Scw4WS",
      "include_colab_link": true
    },
    "kernelspec": {
      "name": "python3",
      "display_name": "Python 3"
    },
    "language_info": {
      "name": "python"
    }
  },
  "cells": [
    {
      "cell_type": "markdown",
      "metadata": {
        "id": "view-in-github",
        "colab_type": "text"
      },
      "source": [
        "<a href=\"https://colab.research.google.com/github/Hritesh-Moitra/Hritesh-Moitra/blob/main/week7_assignment.ipynb\" target=\"_parent\"><img src=\"https://colab.research.google.com/assets/colab-badge.svg\" alt=\"Open In Colab\"/></a>"
      ]
    },
    {
      "cell_type": "code",
      "execution_count": null,
      "metadata": {
        "colab": {
          "base_uri": "https://localhost:8080/"
        },
        "id": "WTg238RwbRMU",
        "outputId": "2c223231-e126-4697-ccdb-39fdf3c90161"
      },
      "outputs": [
        {
          "output_type": "execute_result",
          "data": {
            "text/plain": [
              "2"
            ]
          },
          "metadata": {},
          "execution_count": 1
        }
      ],
      "source": [
        "string=\"this is old python course\"\n",
        "string.count(\"is\")"
      ]
    },
    {
      "cell_type": "code",
      "source": [
        "string=\"this is old python course\"\n",
        "string.replace(\"old\",\"new\")"
      ],
      "metadata": {
        "colab": {
          "base_uri": "https://localhost:8080/",
          "height": 35
        },
        "id": "5vXa9lezb29E",
        "outputId": "5dd3184f-f2cb-42e9-b3d1-d2990384bcbf"
      },
      "execution_count": null,
      "outputs": [
        {
          "output_type": "execute_result",
          "data": {
            "text/plain": [
              "'this is new python course'"
            ],
            "application/vnd.google.colaboratory.intrinsic+json": {
              "type": "string"
            }
          },
          "metadata": {},
          "execution_count": 2
        }
      ]
    },
    {
      "cell_type": "code",
      "source": [
        "string=\"this is old python course\"\n",
        "string.index(\"python\")\n"
      ],
      "metadata": {
        "colab": {
          "base_uri": "https://localhost:8080/"
        },
        "id": "U8gdQY7dgj1t",
        "outputId": "56608542-4d88-407a-8909-fd440f46d853"
      },
      "execution_count": null,
      "outputs": [
        {
          "output_type": "execute_result",
          "data": {
            "text/plain": [
              "12"
            ]
          },
          "metadata": {},
          "execution_count": 3
        }
      ]
    },
    {
      "cell_type": "code",
      "source": [
        "string=\"this is old python course\"\n",
        "string.startswith(\"this\")"
      ],
      "metadata": {
        "colab": {
          "base_uri": "https://localhost:8080/"
        },
        "id": "CbM00Yt7hPt0",
        "outputId": "241ea63e-5b92-4ac9-ecb9-cb231a832f60"
      },
      "execution_count": null,
      "outputs": [
        {
          "output_type": "execute_result",
          "data": {
            "text/plain": [
              "True"
            ]
          },
          "metadata": {},
          "execution_count": 4
        }
      ]
    },
    {
      "cell_type": "code",
      "source": [
        "string=\"this is old python course\"\n",
        "string.isalnum() #isalnum--> whether given string is alphanumeric or not"
      ],
      "metadata": {
        "colab": {
          "base_uri": "https://localhost:8080/"
        },
        "id": "ucDIjjEPhgAJ",
        "outputId": "c2078bc9-d33a-46b8-8423-d16f60c530ce"
      },
      "execution_count": null,
      "outputs": [
        {
          "output_type": "execute_result",
          "data": {
            "text/plain": [
              "False"
            ]
          },
          "metadata": {},
          "execution_count": 5
        }
      ]
    },
    {
      "cell_type": "code",
      "source": [
        "string=\"this is old python course\"\n",
        "string.strip(\"this is old\")"
      ],
      "metadata": {
        "colab": {
          "base_uri": "https://localhost:8080/",
          "height": 35
        },
        "id": "USItkpQChx4q",
        "outputId": "ad5c6afc-4caf-48ef-f302-7db03f887264"
      },
      "execution_count": null,
      "outputs": [
        {
          "output_type": "execute_result",
          "data": {
            "text/plain": [
              "'python course'"
            ],
            "application/vnd.google.colaboratory.intrinsic+json": {
              "type": "string"
            }
          },
          "metadata": {},
          "execution_count": 6
        }
      ]
    },
    {
      "cell_type": "code",
      "source": [
        "x = int(input())\n",
        "y = int(input())\n",
        "z = int(input())\n",
        "\n",
        "#Block-1 Start\n",
        "\n",
        "if x > 0 or y> 0 or z > 0:\n",
        "    if (x > 0 and y> 0) or (y> 0 and z> 0) or (z> 0 and x > 0):\n",
        "        if x > 0 and y> 0 and z > 0:\n",
        "            print('P3')\n",
        "        else:\n",
        "            print('P2')\n",
        "    else:\n",
        "        print('P1')\n",
        "\n",
        "#Block-1 End\n",
        "\n",
        "\n",
        "# Block-2 Start\n",
        "\n",
        "if x <0 or y<0 or z < 0:\n",
        "    if (x < 0 and y< 0) or (y< 0 and z< 0) or (z< 0 and x < 0):\n",
        "            if x < 0 and y< 0 and z < 0:\n",
        "                print('N3')\n",
        "            else:\n",
        "                print('N2')\n",
        "    else:\n",
        "        print('N1')\n",
        "\n"
      ],
      "metadata": {
        "colab": {
          "base_uri": "https://localhost:8080/"
        },
        "id": "ln_7huqNiScp",
        "outputId": "6b07ae57-e2d2-4502-c942-09ec3334d4dc"
      },
      "execution_count": null,
      "outputs": [
        {
          "output_type": "stream",
          "name": "stdout",
          "text": [
            "-1\n",
            "4\n",
            "1\n",
            "P2\n",
            "N1\n"
          ]
        }
      ]
    },
    {
      "cell_type": "code",
      "source": [
        "s=\"abcdefghijklmnopqrstuvwxyz\"\n",
        "\n",
        "a = int(input())\n",
        "\n",
        "b= int(input()) \n",
        "\n",
        "c= int(input())\n",
        "\n",
        "d = int(input())\n",
        "\n",
        "e = int(input())\n",
        "\n",
        "print(s[-a:-len(s):-3]) ##a=1 ; so will start from -1 and traversevin reverse order\n",
        "\n",
        "print(s[::-b]) ##::--> means when there is no numer before it it means starting to end or end to start; so when it becomes[::-3] it will traverse from end and then taking every rhird element because if it starts from beginning thee will be no elemnts behind a\n",
        "\n",
        "print(s[c:0:-3]) ##we are going upto 0th index from z and c is positive here so it should be 25\n",
        "\n",
        "print(s[len(s): - d:-3]) ##here it will start traversing from 26th index to beginning; although there is no 26th index it wont throw an error because we are slicing it like s[len():] and over the index anything gives an empty space when a string is sliced; if we did like s[len(s)] then it would have thrown an error ;and d has to be first index so it has to be 0\n",
        "\n",
        "print(s[:e:-3]) #here also we will traverse back so e hasto be 0"
      ],
      "metadata": {
        "colab": {
          "base_uri": "https://localhost:8080/"
        },
        "id": "j_eHO2x5k17-",
        "outputId": "3d3104cc-1d6e-47fb-ac56-6e9176f9f1fb"
      },
      "execution_count": null,
      "outputs": [
        {
          "output_type": "stream",
          "name": "stdout",
          "text": [
            "1\n",
            "3\n",
            "25\n",
            "0\n",
            "0\n",
            "zwtqnkheb\n",
            "zwtqnkheb\n",
            "zwtqnkheb\n",
            "zwtqnkheb\n",
            "zwtqnkheb\n"
          ]
        }
      ]
    },
    {
      "cell_type": "code",
      "source": [
        "s = \"abcd(efgh(ijkl}{{}))\" \n",
        "match= False\n",
        "if s.count('(') == s.count(')'):\n",
        "    if s.count('{') == s.count('}'):\n",
        "        if s.count('[') == s.count(']'):\n",
        "            match = True\n",
        "print(match)"
      ],
      "metadata": {
        "colab": {
          "base_uri": "https://localhost:8080/"
        },
        "id": "twxyaRu41Qd6",
        "outputId": "08429698-b058-4f64-c226-5f698caae93c"
      },
      "execution_count": null,
      "outputs": [
        {
          "output_type": "stream",
          "name": "stdout",
          "text": [
            "True\n"
          ]
        }
      ]
    },
    {
      "cell_type": "code",
      "source": [
        "x, y, z = int(input()), int(input()), int(input())\n",
        "\n",
        "if x ==y== z:\n",
        "    print('Equilateral')\n",
        "elif x == y and x != z:\n",
        "    print('Isosceles')\n",
        "elif x == z and x != y:\n",
        "    print('Isosceles')\n",
        "elif y==z and y!=x:   ##this condn is missing\n",
        "    print('Isosceles')    \n",
        "else:\n",
        "    print('Scalene')\n"
      ],
      "metadata": {
        "colab": {
          "base_uri": "https://localhost:8080/"
        },
        "id": "bvqjcQ1n4gmy",
        "outputId": "0355617d-521a-4fdb-bb4e-d8cbdb2f032d"
      },
      "execution_count": null,
      "outputs": [
        {
          "output_type": "stream",
          "name": "stdout",
          "text": [
            "5\n",
            "5\n",
            "5\n",
            "Equilateral\n"
          ]
        }
      ]
    },
    {
      "cell_type": "code",
      "source": [
        "s=input('enter a string to be encrypted:')\n",
        "alphabets=['a','b','c','d','e','f','g','h','i','j','k','l','m','n','o','p','q','r','s','t','u','v','w','x','y','z']\n",
        "nums=['0','1','2','3','4','5','6','7','8','9']\n",
        "res=''\n",
        "for i in s:\n",
        "     if i.isalpha():\n",
        "       idx=alphabets.index(i.lower())\n",
        "       if i.isupper():\n",
        "               res= res + alphabets[-(idx+1)].upper()\n",
        "       else:\n",
        "         res=res + alphabets[idx]\n",
        "\n",
        "     elif i.isnumeric():\n",
        "        idx=nums.index(i)\n",
        "        res=res + nums[-(idx+1)]\n",
        "\n",
        "     elif i==' ':\n",
        "        res=res + '_'\n",
        "\n",
        "print(res)        "
      ],
      "metadata": {
        "colab": {
          "base_uri": "https://localhost:8080/"
        },
        "id": "k8OJ1T1nlUK0",
        "outputId": "e70d0784-ffd3-4b6f-b76c-2faeb33f9367"
      },
      "execution_count": null,
      "outputs": [
        {
          "output_type": "stream",
          "name": "stdout",
          "text": [
            "enter a string to be encrypted:Chai 312\n",
            "Xhai_687\n"
          ]
        }
      ]
    },
    {
      "cell_type": "code",
      "source": [
        "str=\"abcdefghijklmnopqrstuvwxyz\"\n",
        "print(str[25::-1])\n",
        "\n",
        "str1='ABCDE'\n",
        "print(str1.lower())\n",
        "\n",
        "str2='abcde'\n",
        "print(str2.upper())\n",
        "\n",
        "\n",
        "str3='0,1,2,3,4,5,6,7,8,9'\n",
        "print(str3[18::-1])\n",
        "\n",
        "str4='    ABCDE'\n",
        "print(str4.replace('  ' , '_'))"
      ],
      "metadata": {
        "colab": {
          "base_uri": "https://localhost:8080/"
        },
        "id": "k9CUCPuy-KsP",
        "outputId": "089db138-8f7e-413b-863c-31b04ee35cb7"
      },
      "execution_count": null,
      "outputs": [
        {
          "output_type": "stream",
          "name": "stdout",
          "text": [
            "zyxwvutsrqponmlkjihgfedcba\n",
            "abcde\n",
            "ABCDE\n",
            "9,8,7,6,5,4,3,2,1,0\n",
            "__ABCDE\n"
          ]
        }
      ]
    },
    {
      "cell_type": "code",
      "source": [
        "##split function \n",
        "\n",
        "str=\"hello everyone i am hritesh\"\n",
        "str.split()\n",
        "res=len(str.split())\n",
        "print(res)"
      ],
      "metadata": {
        "colab": {
          "base_uri": "https://localhost:8080/"
        },
        "id": "sJ2Qsut0B0XH",
        "outputId": "0fa7bd75-bbaf-4504-f8b2-72e0abc6adc4"
      },
      "execution_count": null,
      "outputs": [
        {
          "output_type": "stream",
          "name": "stdout",
          "text": [
            "5\n"
          ]
        }
      ]
    },
    {
      "cell_type": "code",
      "source": [
        "num=input('enter a 3 digit number:')\n",
        "if abs(int(num[0])-int(num[2]))== int(num[1]):  ##the abs(); absolute funtion is used to ignore the sign of the resulting difference.\n",
        "  print('number is sandwitched')\n",
        "else:\n",
        "  print('plain')  "
      ],
      "metadata": {
        "colab": {
          "base_uri": "https://localhost:8080/"
        },
        "id": "blvBTuCVzoJu",
        "outputId": "d952be4d-04f8-45bd-cf28-2c60e639eea5"
      },
      "execution_count": null,
      "outputs": [
        {
          "output_type": "stream",
          "name": "stdout",
          "text": [
            "enter a 3 digit number:123\n",
            "number is sandwitched\n"
          ]
        }
      ]
    },
    {
      "cell_type": "code",
      "source": [
        "str=input('enter a string:')\n",
        "str.split()\n",
        "res=len(str.split())\n",
        "print(str.split())\n",
        "print(res)"
      ],
      "metadata": {
        "colab": {
          "base_uri": "https://localhost:8080/"
        },
        "id": "e4dGm1Dhk-hc",
        "outputId": "29c6c8b2-8b57-4c71-a398-5134c428015e"
      },
      "execution_count": null,
      "outputs": [
        {
          "output_type": "stream",
          "name": "stdout",
          "text": [
            "enter a string:hi i am hritesh moitra\n",
            "['hi', 'i', 'am', 'hritesh', 'moitra']\n",
            "5\n"
          ]
        }
      ]
    },
    {
      "cell_type": "code",
      "source": [
        "## Quadrants\n",
        "x=float(input('Value at X asis:'))\n",
        "y=float(input('value at y aixs:'))\n",
        "if x>0 and y>0:\n",
        "  print(\"Quadrant 1\")\n",
        "elif x<0 and y>0:\n",
        "  print(\"Quadrant 2\")\n",
        "elif x<0 and y<0:\n",
        "  print(\"Quadrant 3\")\n",
        "elif x>0 and y<0:\n",
        "  print(\"Quadrant 4\")\n",
        "      "
      ],
      "metadata": {
        "colab": {
          "base_uri": "https://localhost:8080/"
        },
        "id": "ntFgzeLHlcmP",
        "outputId": "b440aa21-6481-44ef-8001-7691c5d172f4"
      },
      "execution_count": null,
      "outputs": [
        {
          "output_type": "stream",
          "name": "stdout",
          "text": [
            "Value at X asis:1.5\n",
            "value at y aixs:-3.4\n",
            "Quadrant 4\n"
          ]
        }
      ]
    },
    {
      "cell_type": "code",
      "source": [
        "##Another way to write the quadrant code\n",
        "\n",
        "x=float(input('Value at X asis:'))\n",
        "y=float(input('value at y aixs:'))\n",
        "if x>0:\n",
        "  if y>0: print(\"Quadrant 1\")\n",
        "  elif y<0: print(\"Quadrant 4\")\n",
        "  else:print(\"lies on postive X-axis\") ##when x is positive and y is zer0\n",
        "else:\n",
        "  if y<0 :print(\"Quadrant 3\")\n",
        "  elif y>0:print(\"Quadrant 2\")\n",
        "  else:print(\"lies on negative X-axis\") ##when x is negative and y is 0\n"
      ],
      "metadata": {
        "colab": {
          "base_uri": "https://localhost:8080/"
        },
        "id": "8w-pOcS4xdUV",
        "outputId": "a6079176-9455-4c87-b550-55b0f92e2ff6"
      },
      "execution_count": null,
      "outputs": [
        {
          "output_type": "stream",
          "name": "stdout",
          "text": [
            "Value at X asis:4\n",
            "value at y aixs:0\n",
            "lies on postive X-axis\n"
          ]
        }
      ]
    }
  ]
}